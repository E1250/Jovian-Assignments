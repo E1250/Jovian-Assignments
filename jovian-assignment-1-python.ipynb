{
 "cells": [
  {
   "cell_type": "code",
   "execution_count": 1,
   "id": "231f6bc8",
   "metadata": {
    "execution": {
     "iopub.execute_input": "2022-07-25T02:10:12.715109Z",
     "iopub.status.busy": "2022-07-25T02:10:12.713413Z",
     "iopub.status.idle": "2022-07-25T02:10:12.722848Z",
     "shell.execute_reply": "2022-07-25T02:10:12.721449Z"
    },
    "id": "eKA9P4ktMmIn",
    "papermill": {
     "duration": 0.039275,
     "end_time": "2022-07-25T02:10:12.726849",
     "exception": false,
     "start_time": "2022-07-25T02:10:12.687574",
     "status": "completed"
    },
    "tags": []
   },
   "outputs": [],
   "source": [
    "# Jovian Commit Essentials\n",
    "# Please retain and execute this cell without modifying the contents for `jovian.commit` to work\n",
    "# !pip install jovian --upgrade -q\n",
    "# import jovian\n",
    "# jovian.set_project('python-practice-assignment-8cb13')\n",
    "# jovian.set_colab_id('1W0767bcTd01swnU69CGppz3DhQX9SOmA')"
   ]
  },
  {
   "cell_type": "markdown",
   "id": "ddf568bd",
   "metadata": {
    "id": "rhIuQALoMmIr",
    "papermill": {
     "duration": 0.022215,
     "end_time": "2022-07-25T02:10:12.774516",
     "exception": false,
     "start_time": "2022-07-25T02:10:12.752301",
     "status": "completed"
    },
    "tags": []
   },
   "source": [
    "# Assignment 1 - Python Basics Practice\n",
    "\n",
    "*This assignment is a part of the course [\"Data Analysis with Python: Zero to Pandas\"](https://jovian.ml/learn/data-analysis-with-python-zero-to-pandas)*\n",
    "\n",
    "In this assignment, you'll get to practice some of the concepts and skills covered in the following notebooks:\n",
    "\n",
    "1. [First Steps with Python and Jupyter](https://jovian.ml/aakashns/first-steps-with-python)\n",
    "2. [A Quick Tour of Variables and Data Types](https://jovian.ml/aakashns/python-variables-and-data-types)\n",
    "3. [Branching using Conditional Statements and Loops](https://jovian.ml/aakashns/python-branching-and-loops)\n",
    "\n",
    "\n",
    "As you go through this notebook, you will find the symbol **???** in certain places. To complete this assignment, you must replace all the **???** with appropriate values, expressions or statements to ensure that the notebook runs properly end-to-end. \n",
    "\n",
    "**Guidelines**\n",
    "\n",
    "1. Make sure to run all the code cells, otherwise you may get errors like `NameError` for undefined variables.\n",
    "2. Do not change variable names, delete cells or disturb other existing code. It may cause problems during evaluation.\n",
    "3. In some cases, you may need to add some code cells or new statements before or after the line of code containing the **???**. \n",
    "4. Since you'll be using a free online service for code execution, save your work by running `jovian.commit` at regular intervals.\n",
    "5. Questions marked **(Optional)** will not be considered for evaluation, and can be skipped. They are for your learning.\n",
    "6. If you are stuck, you can ask for help on the course forum. Post errors, ask for hints and help others, but **please don't share the full solution answer code** to give others a chance to write the code themselves.\n",
    "7. After submission your code will be tested with some hidden test cases. Make sure to test your code exhaustively to cover all edge cases.\n",
    "\n",
    "\n",
    "Important Links:\n",
    "\n",
    "* Make submissions here: https://jovian.ml/learn/data-analysis-with-python-zero-to-pandas/assignment/assignment-1-python-basics-practice\n",
    "\n",
    "* Get help on the community forum: https://jovian.ml/forum/t/assignment-1-python-practice/7761 . You can get help with errors or ask for hints, but **please don't ask for or share the full working answer code** on the forum.\n"
   ]
  },
  {
   "cell_type": "markdown",
   "id": "e8d16c0f",
   "metadata": {
    "id": "9_VALRNnMmIt",
    "papermill": {
     "duration": 0.022358,
     "end_time": "2022-07-25T02:10:12.820162",
     "exception": false,
     "start_time": "2022-07-25T02:10:12.797804",
     "status": "completed"
    },
    "tags": []
   },
   "source": [
    "### How to Run the Code and Save Your Work\n",
    "\n",
    "**Option 1: Running using free online resources (1-click, recommended)**: Click the **Run** button at the top of this page and select **Run on Binder**. You can also select \"Run on Colab\" or \"Run on Kaggle\", but you'll need to create an account on [Google Colab](https://colab.research.google.com) or [Kaggle](https://kaggle.com) to use these platforms.\n",
    "\n",
    "\n",
    "**Option 2: Running on your computer locally**: To run the code on your computer locally, you'll need to set up [Python](https://www.python.org) & [Conda](https://docs.conda.io/projects/conda/en/latest/user-guide/install/), download the notebook and install the required libraries. Click the **Run** button at the top of this page, select the **Run Locally** option, and follow the instructions.\n",
    "\n",
    "**Saving your work**: You can save a snapshot of the assignment to your [Jovian](https://jovian.ai) profile, so that you can access it later and continue your work. Keep saving your work by running `jovian.commit` from time to time."
   ]
  },
  {
   "cell_type": "code",
   "execution_count": 2,
   "id": "e819ef15",
   "metadata": {
    "execution": {
     "iopub.execute_input": "2022-07-25T02:10:12.867492Z",
     "iopub.status.busy": "2022-07-25T02:10:12.866645Z",
     "iopub.status.idle": "2022-07-25T02:10:30.320737Z",
     "shell.execute_reply": "2022-07-25T02:10:30.319347Z"
    },
    "id": "vR4Mq9e7MmIu",
    "papermill": {
     "duration": 17.481017,
     "end_time": "2022-07-25T02:10:30.323570",
     "exception": false,
     "start_time": "2022-07-25T02:10:12.842553",
     "status": "completed"
    },
    "tags": []
   },
   "outputs": [
    {
     "name": "stdout",
     "output_type": "stream",
     "text": [
      "\u001b[33mWARNING: Running pip as the 'root' user can result in broken permissions and conflicting behaviour with the system package manager. It is recommended to use a virtual environment instead: https://pip.pypa.io/warnings/venv\u001b[0m\u001b[33m\r\n",
      "\u001b[0m"
     ]
    }
   ],
   "source": [
    "# Install the library\n",
    "!pip install jovian --upgrade --quiet"
   ]
  },
  {
   "cell_type": "code",
   "execution_count": 3,
   "id": "7e990118",
   "metadata": {
    "execution": {
     "iopub.execute_input": "2022-07-25T02:10:30.370908Z",
     "iopub.status.busy": "2022-07-25T02:10:30.370525Z",
     "iopub.status.idle": "2022-07-25T02:10:30.898732Z",
     "shell.execute_reply": "2022-07-25T02:10:30.897586Z"
    },
    "id": "k41VghTrMmIv",
    "papermill": {
     "duration": 0.554658,
     "end_time": "2022-07-25T02:10:30.901386",
     "exception": false,
     "start_time": "2022-07-25T02:10:30.346728",
     "status": "completed"
    },
    "tags": []
   },
   "outputs": [
    {
     "data": {
      "application/javascript": [
       "if (window.IPython && IPython.notebook.kernel) IPython.notebook.kernel.execute('jovian.utils.jupyter.get_notebook_name_saved = lambda: \"' + IPython.notebook.notebook_name + '\"')"
      ],
      "text/plain": [
       "<IPython.core.display.Javascript object>"
      ]
     },
     "metadata": {},
     "output_type": "display_data"
    }
   ],
   "source": [
    "# Import it\n",
    "import jovian"
   ]
  },
  {
   "cell_type": "code",
   "execution_count": 4,
   "id": "bdd07c4f",
   "metadata": {
    "execution": {
     "iopub.execute_input": "2022-07-25T02:10:30.948920Z",
     "iopub.status.busy": "2022-07-25T02:10:30.948564Z",
     "iopub.status.idle": "2022-07-25T02:10:30.953462Z",
     "shell.execute_reply": "2022-07-25T02:10:30.952304Z"
    },
    "id": "dD_v-eBnMmIv",
    "papermill": {
     "duration": 0.031991,
     "end_time": "2022-07-25T02:10:30.955973",
     "exception": false,
     "start_time": "2022-07-25T02:10:30.923982",
     "status": "completed"
    },
    "tags": []
   },
   "outputs": [],
   "source": [
    "project_name='Jovian Assignment 1 - Python Basics.ipynb'"
   ]
  },
  {
   "cell_type": "code",
   "execution_count": 5,
   "id": "002b8991",
   "metadata": {
    "execution": {
     "iopub.execute_input": "2022-07-25T02:10:31.003740Z",
     "iopub.status.busy": "2022-07-25T02:10:31.003347Z",
     "iopub.status.idle": "2022-07-25T02:10:31.008358Z",
     "shell.execute_reply": "2022-07-25T02:10:31.007227Z"
    },
    "id": "PXpoK4hsMmIw",
    "outputId": "ccb064ec-41e2-43c7-831e-f50b97a7d8da",
    "papermill": {
     "duration": 0.031037,
     "end_time": "2022-07-25T02:10:31.010719",
     "exception": false,
     "start_time": "2022-07-25T02:10:30.979682",
     "status": "completed"
    },
    "tags": []
   },
   "outputs": [],
   "source": [
    "# Capture and upload a snapshot\n",
    "# jovian.commit(project=project_name, privacy='secret', evironment=None)"
   ]
  },
  {
   "cell_type": "markdown",
   "id": "610a7018",
   "metadata": {
    "id": "afQB-uqzMmIx",
    "papermill": {
     "duration": 0.022673,
     "end_time": "2022-07-25T02:10:31.056024",
     "exception": false,
     "start_time": "2022-07-25T02:10:31.033351",
     "status": "completed"
    },
    "tags": []
   },
   "source": [
    "You'll be asked to provide an API Key, to securely upload the notebook to your Jovian.ml account. You can get the API key from your Jovian.ml profile page after logging in / signing up. See the docs for details: https://jovian.ml/docs/user-guide/upload.html . The privacy of your assignment notebook is set to *Secret*, so that you can the evlauators can access it, but it will not shown on your public profile to other users."
   ]
  },
  {
   "cell_type": "markdown",
   "id": "8853495e",
   "metadata": {
    "id": "JY7kAS1eMmIy",
    "papermill": {
     "duration": 0.022738,
     "end_time": "2022-07-25T02:10:31.101815",
     "exception": false,
     "start_time": "2022-07-25T02:10:31.079077",
     "status": "completed"
    },
    "tags": []
   },
   "source": [
    "## Problem 1 - Variables and Data Types\n",
    "\n",
    "**Q1: Assign your name to the variable `name`.**"
   ]
  },
  {
   "cell_type": "code",
   "execution_count": 6,
   "id": "2bd204b1",
   "metadata": {
    "execution": {
     "iopub.execute_input": "2022-07-25T02:10:31.150327Z",
     "iopub.status.busy": "2022-07-25T02:10:31.149938Z",
     "iopub.status.idle": "2022-07-25T02:10:31.154235Z",
     "shell.execute_reply": "2022-07-25T02:10:31.153084Z"
    },
    "id": "QIxICuNqMmIy",
    "papermill": {
     "duration": 0.031494,
     "end_time": "2022-07-25T02:10:31.156491",
     "exception": false,
     "start_time": "2022-07-25T02:10:31.124997",
     "status": "completed"
    },
    "tags": []
   },
   "outputs": [],
   "source": [
    "name = \"Eslam\""
   ]
  },
  {
   "cell_type": "markdown",
   "id": "cef6d8e8",
   "metadata": {
    "id": "Bpd_QWM3MmIz",
    "papermill": {
     "duration": 0.022485,
     "end_time": "2022-07-25T02:10:31.201585",
     "exception": false,
     "start_time": "2022-07-25T02:10:31.179100",
     "status": "completed"
    },
    "tags": []
   },
   "source": [
    "**Q2: Assign your age (real or fake) to the variable `age`.**"
   ]
  },
  {
   "cell_type": "code",
   "execution_count": 7,
   "id": "128453e7",
   "metadata": {
    "execution": {
     "iopub.execute_input": "2022-07-25T02:10:31.250721Z",
     "iopub.status.busy": "2022-07-25T02:10:31.250344Z",
     "iopub.status.idle": "2022-07-25T02:10:31.255439Z",
     "shell.execute_reply": "2022-07-25T02:10:31.254048Z"
    },
    "id": "K_6frB9WMmIz",
    "papermill": {
     "duration": 0.032325,
     "end_time": "2022-07-25T02:10:31.257994",
     "exception": false,
     "start_time": "2022-07-25T02:10:31.225669",
     "status": "completed"
    },
    "tags": []
   },
   "outputs": [],
   "source": [
    "age = 5"
   ]
  },
  {
   "cell_type": "markdown",
   "id": "ef78927b",
   "metadata": {
    "id": "cAJoNvsWMmI0",
    "papermill": {
     "duration": 0.022684,
     "end_time": "2022-07-25T02:10:31.303842",
     "exception": false,
     "start_time": "2022-07-25T02:10:31.281158",
     "status": "completed"
    },
    "tags": []
   },
   "source": [
    "**Q3: Assign a boolean value to the variable `has_android_phone`.**"
   ]
  },
  {
   "cell_type": "code",
   "execution_count": 8,
   "id": "7c028318",
   "metadata": {
    "execution": {
     "iopub.execute_input": "2022-07-25T02:10:31.350657Z",
     "iopub.status.busy": "2022-07-25T02:10:31.350298Z",
     "iopub.status.idle": "2022-07-25T02:10:31.354768Z",
     "shell.execute_reply": "2022-07-25T02:10:31.353631Z"
    },
    "id": "WwZuaBFQMmI0",
    "papermill": {
     "duration": 0.030493,
     "end_time": "2022-07-25T02:10:31.356871",
     "exception": false,
     "start_time": "2022-07-25T02:10:31.326378",
     "status": "completed"
    },
    "tags": []
   },
   "outputs": [],
   "source": [
    "has_android_phone = True"
   ]
  },
  {
   "cell_type": "markdown",
   "id": "ef0f6b6a",
   "metadata": {
    "id": "-JVYElQxMmI0",
    "papermill": {
     "duration": 0.022404,
     "end_time": "2022-07-25T02:10:31.402052",
     "exception": false,
     "start_time": "2022-07-25T02:10:31.379648",
     "status": "completed"
    },
    "tags": []
   },
   "source": [
    "You can check the values of these variables by running the next cell."
   ]
  },
  {
   "cell_type": "code",
   "execution_count": 9,
   "id": "b46f229f",
   "metadata": {
    "execution": {
     "iopub.execute_input": "2022-07-25T02:10:31.448815Z",
     "iopub.status.busy": "2022-07-25T02:10:31.448460Z",
     "iopub.status.idle": "2022-07-25T02:10:31.455402Z",
     "shell.execute_reply": "2022-07-25T02:10:31.454191Z"
    },
    "id": "kpqp7GhaMmI0",
    "outputId": "9ef615c8-2712-45e4-f47a-b97df1ca0298",
    "papermill": {
     "duration": 0.033287,
     "end_time": "2022-07-25T02:10:31.457850",
     "exception": false,
     "start_time": "2022-07-25T02:10:31.424563",
     "status": "completed"
    },
    "tags": []
   },
   "outputs": [
    {
     "data": {
      "text/plain": [
       "('Eslam', 5, True)"
      ]
     },
     "execution_count": 9,
     "metadata": {},
     "output_type": "execute_result"
    }
   ],
   "source": [
    "name, age, has_android_phone"
   ]
  },
  {
   "cell_type": "markdown",
   "id": "2bd9a472",
   "metadata": {
    "id": "nDJyGZTfMmI1",
    "papermill": {
     "duration": 0.022315,
     "end_time": "2022-07-25T02:10:31.503062",
     "exception": false,
     "start_time": "2022-07-25T02:10:31.480747",
     "status": "completed"
    },
    "tags": []
   },
   "source": [
    "**Q4: Create a dictionary `person` with keys `\"Name\"`, `\"Age\"`, `\"HasAndroidPhone\"` and values using the variables defined above.**"
   ]
  },
  {
   "cell_type": "code",
   "execution_count": 10,
   "id": "02f2e80a",
   "metadata": {
    "execution": {
     "iopub.execute_input": "2022-07-25T02:10:31.551282Z",
     "iopub.status.busy": "2022-07-25T02:10:31.550863Z",
     "iopub.status.idle": "2022-07-25T02:10:31.556725Z",
     "shell.execute_reply": "2022-07-25T02:10:31.555297Z"
    },
    "id": "f_D3VjgxMmI1",
    "papermill": {
     "duration": 0.03279,
     "end_time": "2022-07-25T02:10:31.559319",
     "exception": false,
     "start_time": "2022-07-25T02:10:31.526529",
     "status": "completed"
    },
    "tags": []
   },
   "outputs": [],
   "source": [
    "person = {\n",
    "    'Name':\"Eslam\",\n",
    "    'Age' : 5,\n",
    "    'HasAndroidPhone':True\n",
    "}"
   ]
  },
  {
   "cell_type": "markdown",
   "id": "79507691",
   "metadata": {
    "id": "MNHJpGTpMmI1",
    "papermill": {
     "duration": 0.022396,
     "end_time": "2022-07-25T02:10:31.606410",
     "exception": false,
     "start_time": "2022-07-25T02:10:31.584014",
     "status": "completed"
    },
    "tags": []
   },
   "source": [
    "Let's use the `person` dictionary to print a nice message."
   ]
  },
  {
   "cell_type": "code",
   "execution_count": 11,
   "id": "9653a884",
   "metadata": {
    "execution": {
     "iopub.execute_input": "2022-07-25T02:10:31.653372Z",
     "iopub.status.busy": "2022-07-25T02:10:31.652984Z",
     "iopub.status.idle": "2022-07-25T02:10:31.659303Z",
     "shell.execute_reply": "2022-07-25T02:10:31.658084Z"
    },
    "id": "HN72aamsMmI1",
    "outputId": "ebc8077f-6dec-47ea-8498-cc67c256224d",
    "papermill": {
     "duration": 0.033238,
     "end_time": "2022-07-25T02:10:31.662127",
     "exception": false,
     "start_time": "2022-07-25T02:10:31.628889",
     "status": "completed"
    },
    "tags": []
   },
   "outputs": [
    {
     "name": "stdout",
     "output_type": "stream",
     "text": [
      "Eslam is aged 5, and owns an Android phone.\n"
     ]
    }
   ],
   "source": [
    "print(\"{} is aged {}, and owns an {}.\".format(\n",
    "    person[\"Name\"], \n",
    "    person[\"Age\"], \n",
    "    \"Android phone\" if person[\"HasAndroidPhone\"] else \"iPhone\"\n",
    "))"
   ]
  },
  {
   "cell_type": "markdown",
   "id": "7fb953bc",
   "metadata": {
    "id": "ZhWuP2LsMmI2",
    "papermill": {
     "duration": 0.022937,
     "end_time": "2022-07-25T02:10:31.708279",
     "exception": false,
     "start_time": "2022-07-25T02:10:31.685342",
     "status": "completed"
    },
    "tags": []
   },
   "source": [
    "**Q4b (Optional): Use a `for` loop to display the `type` of each value stored against each key in `person`.**\n",
    "\n",
    "Here's the expected output for the key `\"Name\"`: \n",
    "\n",
    "```\n",
    "The key \"Name\" has the value \"Derek\" of the type \"<class 'str'>\"\n",
    "```"
   ]
  },
  {
   "cell_type": "code",
   "execution_count": 12,
   "id": "a5410db5",
   "metadata": {
    "execution": {
     "iopub.execute_input": "2022-07-25T02:10:31.756682Z",
     "iopub.status.busy": "2022-07-25T02:10:31.756308Z",
     "iopub.status.idle": "2022-07-25T02:10:31.762422Z",
     "shell.execute_reply": "2022-07-25T02:10:31.761091Z"
    },
    "id": "Pld3tpfYMmI2",
    "outputId": "fb7b4457-ace2-45d1-e3c0-87e114cdef88",
    "papermill": {
     "duration": 0.034366,
     "end_time": "2022-07-25T02:10:31.765632",
     "exception": false,
     "start_time": "2022-07-25T02:10:31.731266",
     "status": "completed"
    },
    "tags": []
   },
   "outputs": [
    {
     "name": "stdout",
     "output_type": "stream",
     "text": [
      "<class 'str'>\n",
      "<class 'int'>\n",
      "<class 'bool'>\n"
     ]
    }
   ],
   "source": [
    "# this is optional\n",
    "for item in person:\n",
    "    print(type(person[item]))"
   ]
  },
  {
   "cell_type": "markdown",
   "id": "3f4330d4",
   "metadata": {
    "id": "6AE3apzRMmI2",
    "papermill": {
     "duration": 0.022753,
     "end_time": "2022-07-25T02:10:31.812021",
     "exception": false,
     "start_time": "2022-07-25T02:10:31.789268",
     "status": "completed"
    },
    "tags": []
   },
   "source": [
    "Now that you've solved one problem, it would be a good idea to record a snapshot of your notebook."
   ]
  },
  {
   "cell_type": "code",
   "execution_count": 13,
   "id": "62b56910",
   "metadata": {
    "execution": {
     "iopub.execute_input": "2022-07-25T02:10:31.860164Z",
     "iopub.status.busy": "2022-07-25T02:10:31.859794Z",
     "iopub.status.idle": "2022-07-25T02:10:31.864115Z",
     "shell.execute_reply": "2022-07-25T02:10:31.863276Z"
    },
    "id": "qjfpTCSeMmI2",
    "outputId": "a1fb2986-2092-44d8-b9fb-697cd2688613",
    "papermill": {
     "duration": 0.030598,
     "end_time": "2022-07-25T02:10:31.866270",
     "exception": false,
     "start_time": "2022-07-25T02:10:31.835672",
     "status": "completed"
    },
    "tags": []
   },
   "outputs": [],
   "source": [
    "# jovian.commit(project=project_name,environment=None)"
   ]
  },
  {
   "cell_type": "markdown",
   "id": "ec563305",
   "metadata": {
    "id": "PNRSI0LnMmI3",
    "papermill": {
     "duration": 0.023001,
     "end_time": "2022-07-25T02:10:31.912321",
     "exception": false,
     "start_time": "2022-07-25T02:10:31.889320",
     "status": "completed"
    },
    "tags": []
   },
   "source": [
    "## Problem 2 - Working with Lists\n",
    "\n",
    "**Q5: Create a list containing the following 3 elements:**\n",
    "\n",
    "* your favorite color\n",
    "* the number of pets you have\n",
    "* a boolean value describing whether you have previous programming experience\n"
   ]
  },
  {
   "cell_type": "code",
   "execution_count": 14,
   "id": "568bdc4e",
   "metadata": {
    "execution": {
     "iopub.execute_input": "2022-07-25T02:10:31.960384Z",
     "iopub.status.busy": "2022-07-25T02:10:31.959948Z",
     "iopub.status.idle": "2022-07-25T02:10:31.964176Z",
     "shell.execute_reply": "2022-07-25T02:10:31.963349Z"
    },
    "id": "X_Q0jv9AMmI3",
    "papermill": {
     "duration": 0.03037,
     "end_time": "2022-07-25T02:10:31.966051",
     "exception": false,
     "start_time": "2022-07-25T02:10:31.935681",
     "status": "completed"
    },
    "tags": []
   },
   "outputs": [],
   "source": [
    "my_list = ['Blue',0,True]"
   ]
  },
  {
   "cell_type": "markdown",
   "id": "9b3ed175",
   "metadata": {
    "id": "qgTl3R1DMmI3",
    "papermill": {
     "duration": 0.022589,
     "end_time": "2022-07-25T02:10:32.012022",
     "exception": false,
     "start_time": "2022-07-25T02:10:31.989433",
     "status": "completed"
    },
    "tags": []
   },
   "source": [
    "Let's see what the list looks like:"
   ]
  },
  {
   "cell_type": "code",
   "execution_count": 15,
   "id": "28d58cc1",
   "metadata": {
    "execution": {
     "iopub.execute_input": "2022-07-25T02:10:32.060560Z",
     "iopub.status.busy": "2022-07-25T02:10:32.060140Z",
     "iopub.status.idle": "2022-07-25T02:10:32.066800Z",
     "shell.execute_reply": "2022-07-25T02:10:32.065645Z"
    },
    "id": "CIdNqTLYMmI3",
    "outputId": "1aaed1f9-2cb6-486d-f493-c8a8a9663b29",
    "papermill": {
     "duration": 0.033451,
     "end_time": "2022-07-25T02:10:32.069127",
     "exception": false,
     "start_time": "2022-07-25T02:10:32.035676",
     "status": "completed"
    },
    "tags": []
   },
   "outputs": [
    {
     "data": {
      "text/plain": [
       "['Blue', 0, True]"
      ]
     },
     "execution_count": 15,
     "metadata": {},
     "output_type": "execute_result"
    }
   ],
   "source": [
    "my_list"
   ]
  },
  {
   "cell_type": "markdown",
   "id": "326f7c58",
   "metadata": {
    "id": "1zSC9YnEMmI3",
    "papermill": {
     "duration": 0.023435,
     "end_time": "2022-07-25T02:10:32.117118",
     "exception": false,
     "start_time": "2022-07-25T02:10:32.093683",
     "status": "completed"
    },
    "tags": []
   },
   "source": [
    "**Q6: Complete the following `print` and `if` statements by accessing the appropriate elements from `my_list`.**\n",
    "\n",
    "*Hint*: Use the list indexing notation `[]`."
   ]
  },
  {
   "cell_type": "code",
   "execution_count": 16,
   "id": "24f01504",
   "metadata": {
    "execution": {
     "iopub.execute_input": "2022-07-25T02:10:32.164987Z",
     "iopub.status.busy": "2022-07-25T02:10:32.164597Z",
     "iopub.status.idle": "2022-07-25T02:10:32.169969Z",
     "shell.execute_reply": "2022-07-25T02:10:32.168632Z"
    },
    "id": "g40A1ZYSMmI4",
    "outputId": "9ab3802b-d892-44ba-97c3-d9cb175f7d81",
    "papermill": {
     "duration": 0.032692,
     "end_time": "2022-07-25T02:10:32.173041",
     "exception": false,
     "start_time": "2022-07-25T02:10:32.140349",
     "status": "completed"
    },
    "tags": []
   },
   "outputs": [
    {
     "name": "stdout",
     "output_type": "stream",
     "text": [
      "My favorite color is Blue\n"
     ]
    }
   ],
   "source": [
    "print('My favorite color is', my_list[0])"
   ]
  },
  {
   "cell_type": "code",
   "execution_count": 17,
   "id": "cf9a831b",
   "metadata": {
    "execution": {
     "iopub.execute_input": "2022-07-25T02:10:32.221568Z",
     "iopub.status.busy": "2022-07-25T02:10:32.221155Z",
     "iopub.status.idle": "2022-07-25T02:10:32.227031Z",
     "shell.execute_reply": "2022-07-25T02:10:32.225807Z"
    },
    "id": "P-NoyyjJMmI4",
    "outputId": "6d457f59-e6a7-4aa4-cd40-d096ec3920cc",
    "papermill": {
     "duration": 0.032937,
     "end_time": "2022-07-25T02:10:32.229291",
     "exception": false,
     "start_time": "2022-07-25T02:10:32.196354",
     "status": "completed"
    },
    "tags": []
   },
   "outputs": [
    {
     "name": "stdout",
     "output_type": "stream",
     "text": [
      "I have 0 pet(s).\n"
     ]
    }
   ],
   "source": [
    "print('I have {} pet(s).'.format(my_list[1]))"
   ]
  },
  {
   "cell_type": "code",
   "execution_count": 18,
   "id": "ed698401",
   "metadata": {
    "execution": {
     "iopub.execute_input": "2022-07-25T02:10:32.279098Z",
     "iopub.status.busy": "2022-07-25T02:10:32.277935Z",
     "iopub.status.idle": "2022-07-25T02:10:32.284137Z",
     "shell.execute_reply": "2022-07-25T02:10:32.282935Z"
    },
    "id": "2COftKpCMmI4",
    "outputId": "73a87572-b72b-4445-9b23-56b66c9dac2a",
    "papermill": {
     "duration": 0.032977,
     "end_time": "2022-07-25T02:10:32.286263",
     "exception": false,
     "start_time": "2022-07-25T02:10:32.253286",
     "status": "completed"
    },
    "tags": []
   },
   "outputs": [
    {
     "name": "stdout",
     "output_type": "stream",
     "text": [
      "I have previous programming experience\n"
     ]
    }
   ],
   "source": [
    "if my_list[2]:\n",
    "    print(\"I have previous programming experience\")\n",
    "else:\n",
    "    print(\"I do not have previous programming experience\")"
   ]
  },
  {
   "cell_type": "markdown",
   "id": "ea38bb6b",
   "metadata": {
    "id": "SfHKDc3hMmI4",
    "papermill": {
     "duration": 0.022724,
     "end_time": "2022-07-25T02:10:32.332122",
     "exception": false,
     "start_time": "2022-07-25T02:10:32.309398",
     "status": "completed"
    },
    "tags": []
   },
   "source": [
    "**Q7: Add your favorite single digit number to the end of the list using the appropriate list method.**"
   ]
  },
  {
   "cell_type": "code",
   "execution_count": 19,
   "id": "a2d09edf",
   "metadata": {
    "execution": {
     "iopub.execute_input": "2022-07-25T02:10:32.381160Z",
     "iopub.status.busy": "2022-07-25T02:10:32.380527Z",
     "iopub.status.idle": "2022-07-25T02:10:32.385786Z",
     "shell.execute_reply": "2022-07-25T02:10:32.384588Z"
    },
    "id": "aTdb-nfDMmI4",
    "papermill": {
     "duration": 0.033058,
     "end_time": "2022-07-25T02:10:32.388231",
     "exception": false,
     "start_time": "2022-07-25T02:10:32.355173",
     "status": "completed"
    },
    "tags": []
   },
   "outputs": [],
   "source": [
    "my_list.append(5)"
   ]
  },
  {
   "cell_type": "markdown",
   "id": "e69cd4f8",
   "metadata": {
    "id": "3cVeN7KaMmI4",
    "papermill": {
     "duration": 0.022963,
     "end_time": "2022-07-25T02:10:32.434432",
     "exception": false,
     "start_time": "2022-07-25T02:10:32.411469",
     "status": "completed"
    },
    "tags": []
   },
   "source": [
    "Let's see if the number shows up in the list."
   ]
  },
  {
   "cell_type": "code",
   "execution_count": 20,
   "id": "b055fa0f",
   "metadata": {
    "execution": {
     "iopub.execute_input": "2022-07-25T02:10:32.483613Z",
     "iopub.status.busy": "2022-07-25T02:10:32.483196Z",
     "iopub.status.idle": "2022-07-25T02:10:32.489975Z",
     "shell.execute_reply": "2022-07-25T02:10:32.488523Z"
    },
    "id": "7NZFEgiHMmI5",
    "outputId": "c32b24cf-32b7-4363-c3c3-8eb98ff24fdf",
    "papermill": {
     "duration": 0.034248,
     "end_time": "2022-07-25T02:10:32.492320",
     "exception": false,
     "start_time": "2022-07-25T02:10:32.458072",
     "status": "completed"
    },
    "tags": []
   },
   "outputs": [
    {
     "data": {
      "text/plain": [
       "['Blue', 0, True, 5]"
      ]
     },
     "execution_count": 20,
     "metadata": {},
     "output_type": "execute_result"
    }
   ],
   "source": [
    "my_list"
   ]
  },
  {
   "cell_type": "markdown",
   "id": "5b92cb71",
   "metadata": {
    "id": "Dc56HWFPMmI5",
    "papermill": {
     "duration": 0.023171,
     "end_time": "2022-07-25T02:10:32.539676",
     "exception": false,
     "start_time": "2022-07-25T02:10:32.516505",
     "status": "completed"
    },
    "tags": []
   },
   "source": [
    "**Q8: Remove the first element of the list, using the appropriate list method.**\n",
    "\n",
    "*Hint*: Check out methods of list here: https://www.w3schools.com/python/python_ref_list.asp"
   ]
  },
  {
   "cell_type": "code",
   "execution_count": 21,
   "id": "adc82ff3",
   "metadata": {
    "execution": {
     "iopub.execute_input": "2022-07-25T02:10:32.589656Z",
     "iopub.status.busy": "2022-07-25T02:10:32.589289Z",
     "iopub.status.idle": "2022-07-25T02:10:32.597475Z",
     "shell.execute_reply": "2022-07-25T02:10:32.596283Z"
    },
    "id": "eV-otwuxMmI5",
    "outputId": "d2b082b6-836f-41a6-dcd2-c30908e20a13",
    "papermill": {
     "duration": 0.036265,
     "end_time": "2022-07-25T02:10:32.600007",
     "exception": false,
     "start_time": "2022-07-25T02:10:32.563742",
     "status": "completed"
    },
    "tags": []
   },
   "outputs": [
    {
     "data": {
      "text/plain": [
       "'Blue'"
      ]
     },
     "execution_count": 21,
     "metadata": {},
     "output_type": "execute_result"
    }
   ],
   "source": [
    "my_list.pop(0)"
   ]
  },
  {
   "cell_type": "code",
   "execution_count": 22,
   "id": "79390de6",
   "metadata": {
    "execution": {
     "iopub.execute_input": "2022-07-25T02:10:32.650782Z",
     "iopub.status.busy": "2022-07-25T02:10:32.650422Z",
     "iopub.status.idle": "2022-07-25T02:10:32.656904Z",
     "shell.execute_reply": "2022-07-25T02:10:32.655755Z"
    },
    "id": "U0py_PyBMmI5",
    "outputId": "206171d1-a99b-4bf8-8dea-a4f38099169e",
    "papermill": {
     "duration": 0.035185,
     "end_time": "2022-07-25T02:10:32.659360",
     "exception": false,
     "start_time": "2022-07-25T02:10:32.624175",
     "status": "completed"
    },
    "tags": []
   },
   "outputs": [
    {
     "data": {
      "text/plain": [
       "[0, True, 5]"
      ]
     },
     "execution_count": 22,
     "metadata": {},
     "output_type": "execute_result"
    }
   ],
   "source": [
    "my_list"
   ]
  },
  {
   "cell_type": "markdown",
   "id": "2dde3c22",
   "metadata": {
    "id": "cq1xolfcMmI5",
    "papermill": {
     "duration": 0.023704,
     "end_time": "2022-07-25T02:10:32.706593",
     "exception": false,
     "start_time": "2022-07-25T02:10:32.682889",
     "status": "completed"
    },
    "tags": []
   },
   "source": [
    "**Q9: Complete the `print` statement below to display the number of elements in `my_list`.**"
   ]
  },
  {
   "cell_type": "code",
   "execution_count": 23,
   "id": "7725b3b1",
   "metadata": {
    "execution": {
     "iopub.execute_input": "2022-07-25T02:10:32.756707Z",
     "iopub.status.busy": "2022-07-25T02:10:32.756339Z",
     "iopub.status.idle": "2022-07-25T02:10:32.762590Z",
     "shell.execute_reply": "2022-07-25T02:10:32.761252Z"
    },
    "id": "4ahWwi0FMmI5",
    "outputId": "859a65d3-6016-48f4-f825-fc91af53f61a",
    "papermill": {
     "duration": 0.033599,
     "end_time": "2022-07-25T02:10:32.764918",
     "exception": false,
     "start_time": "2022-07-25T02:10:32.731319",
     "status": "completed"
    },
    "tags": []
   },
   "outputs": [
    {
     "name": "stdout",
     "output_type": "stream",
     "text": [
      "The list has 3 elements.\n"
     ]
    }
   ],
   "source": [
    "print(\"The list has {} elements.\".format(len(my_list)))"
   ]
  },
  {
   "cell_type": "markdown",
   "id": "f9f6f0f6",
   "metadata": {
    "id": "H63SYKMoMmI6",
    "papermill": {
     "duration": 0.023286,
     "end_time": "2022-07-25T02:10:32.811868",
     "exception": false,
     "start_time": "2022-07-25T02:10:32.788582",
     "status": "completed"
    },
    "tags": []
   },
   "source": [
    "Well done, you're making good progress! Save your work before continuing"
   ]
  },
  {
   "cell_type": "code",
   "execution_count": 24,
   "id": "113a3de1",
   "metadata": {
    "execution": {
     "iopub.execute_input": "2022-07-25T02:10:32.863022Z",
     "iopub.status.busy": "2022-07-25T02:10:32.861902Z",
     "iopub.status.idle": "2022-07-25T02:10:32.866896Z",
     "shell.execute_reply": "2022-07-25T02:10:32.865954Z"
    },
    "id": "2y-A_8h9MmI6",
    "outputId": "57762a69-0423-48e1-f566-c2ef46b8825b",
    "papermill": {
     "duration": 0.032978,
     "end_time": "2022-07-25T02:10:32.869252",
     "exception": false,
     "start_time": "2022-07-25T02:10:32.836274",
     "status": "completed"
    },
    "tags": []
   },
   "outputs": [],
   "source": [
    "# jovian.commit(project=project_name,environment=None)"
   ]
  },
  {
   "cell_type": "markdown",
   "id": "e8a678ba",
   "metadata": {
    "id": "6EfgaHwAMmI6",
    "papermill": {
     "duration": 0.023202,
     "end_time": "2022-07-25T02:10:32.916103",
     "exception": false,
     "start_time": "2022-07-25T02:10:32.892901",
     "status": "completed"
    },
    "tags": []
   },
   "source": [
    "## Problem 3 - Conditions and loops\n",
    "\n",
    "**Q10: Calculate and display the sum of all the numbers divisible by 7 between 18 and 534 i.e. `21+28+35+...+525+532`**.\n",
    "\n",
    "*Hint*: One way to do this is to loop over a `range` using `for` and use an `if` statement inside it."
   ]
  },
  {
   "cell_type": "code",
   "execution_count": 25,
   "id": "fb075062",
   "metadata": {
    "execution": {
     "iopub.execute_input": "2022-07-25T02:10:32.964863Z",
     "iopub.status.busy": "2022-07-25T02:10:32.964444Z",
     "iopub.status.idle": "2022-07-25T02:10:32.970421Z",
     "shell.execute_reply": "2022-07-25T02:10:32.969183Z"
    },
    "id": "OThg_1XDMmI6",
    "papermill": {
     "duration": 0.033015,
     "end_time": "2022-07-25T02:10:32.972672",
     "exception": false,
     "start_time": "2022-07-25T02:10:32.939657",
     "status": "completed"
    },
    "tags": []
   },
   "outputs": [],
   "source": [
    "# store the final answer in this variable\n",
    "sum_of_numbers = 0\n",
    "\n",
    "# perform the calculation here\n",
    "for num in range(18,535):\n",
    "  if (num % 7) == 0:\n",
    "    sum_of_numbers += num"
   ]
  },
  {
   "cell_type": "code",
   "execution_count": 26,
   "id": "d8d965b4",
   "metadata": {
    "execution": {
     "iopub.execute_input": "2022-07-25T02:10:33.023052Z",
     "iopub.status.busy": "2022-07-25T02:10:33.022027Z",
     "iopub.status.idle": "2022-07-25T02:10:33.027768Z",
     "shell.execute_reply": "2022-07-25T02:10:33.026483Z"
    },
    "id": "G-XzU20BMmI6",
    "outputId": "95128301-95e9-4ebb-a2e0-01170ba1ac41",
    "papermill": {
     "duration": 0.032703,
     "end_time": "2022-07-25T02:10:33.029875",
     "exception": false,
     "start_time": "2022-07-25T02:10:32.997172",
     "status": "completed"
    },
    "tags": []
   },
   "outputs": [
    {
     "name": "stdout",
     "output_type": "stream",
     "text": [
      "The sum of all the numbers divisible by 7 between 18 and 534 is 20461\n"
     ]
    }
   ],
   "source": [
    "print('The sum of all the numbers divisible by 7 between 18 and 534 is', sum_of_numbers)"
   ]
  },
  {
   "cell_type": "markdown",
   "id": "7593f64e",
   "metadata": {
    "id": "9wK6frIpMmI6",
    "papermill": {
     "duration": 0.023469,
     "end_time": "2022-07-25T02:10:33.077799",
     "exception": false,
     "start_time": "2022-07-25T02:10:33.054330",
     "status": "completed"
    },
    "tags": []
   },
   "source": [
    "If you are not able to figure out the solution to this problem, you can ask for hints on the community forum: https://jovian.ml/forum/t/assignment-1-python-practice/7761 . Remember to save your work before moving forward."
   ]
  },
  {
   "cell_type": "code",
   "execution_count": 27,
   "id": "e214f723",
   "metadata": {
    "execution": {
     "iopub.execute_input": "2022-07-25T02:10:33.128125Z",
     "iopub.status.busy": "2022-07-25T02:10:33.127411Z",
     "iopub.status.idle": "2022-07-25T02:10:33.131679Z",
     "shell.execute_reply": "2022-07-25T02:10:33.130735Z"
    },
    "id": "CVuA0re_MmI7",
    "outputId": "b3aca88f-74cb-46e7-c416-37582e926454",
    "papermill": {
     "duration": 0.032346,
     "end_time": "2022-07-25T02:10:33.133780",
     "exception": false,
     "start_time": "2022-07-25T02:10:33.101434",
     "status": "completed"
    },
    "tags": []
   },
   "outputs": [],
   "source": [
    "# jovian.commit(project=project_name,environment=None)"
   ]
  },
  {
   "cell_type": "markdown",
   "id": "05743edc",
   "metadata": {
    "id": "R6aKHsFfMmI7",
    "papermill": {
     "duration": 0.02417,
     "end_time": "2022-07-25T02:10:33.181778",
     "exception": false,
     "start_time": "2022-07-25T02:10:33.157608",
     "status": "completed"
    },
    "tags": []
   },
   "source": [
    "## Problem 4 - Flying to the Bahamas\n",
    "\n",
    "**Q11: A travel company wants to fly a plane to the Bahamas. Flying the plane costs 5000 dollars. So far, 29 people have signed up for the trip. If the company charges 200 dollars per ticket, what is the profit made by the company?**\n",
    "\n",
    "Fill in values or arithmetic expressions for the variables below."
   ]
  },
  {
   "cell_type": "code",
   "execution_count": 28,
   "id": "418f0bac",
   "metadata": {
    "execution": {
     "iopub.execute_input": "2022-07-25T02:10:33.232652Z",
     "iopub.status.busy": "2022-07-25T02:10:33.232268Z",
     "iopub.status.idle": "2022-07-25T02:10:33.237062Z",
     "shell.execute_reply": "2022-07-25T02:10:33.235952Z"
    },
    "id": "UPLK-SyqMmI7",
    "papermill": {
     "duration": 0.033569,
     "end_time": "2022-07-25T02:10:33.239390",
     "exception": false,
     "start_time": "2022-07-25T02:10:33.205821",
     "status": "completed"
    },
    "tags": []
   },
   "outputs": [],
   "source": [
    "cost_of_flying_plane = 5000"
   ]
  },
  {
   "cell_type": "code",
   "execution_count": 29,
   "id": "46525006",
   "metadata": {
    "execution": {
     "iopub.execute_input": "2022-07-25T02:10:33.290376Z",
     "iopub.status.busy": "2022-07-25T02:10:33.289908Z",
     "iopub.status.idle": "2022-07-25T02:10:33.294725Z",
     "shell.execute_reply": "2022-07-25T02:10:33.293926Z"
    },
    "id": "PUzMNH9dMmI7",
    "papermill": {
     "duration": 0.032846,
     "end_time": "2022-07-25T02:10:33.297268",
     "exception": false,
     "start_time": "2022-07-25T02:10:33.264422",
     "status": "completed"
    },
    "tags": []
   },
   "outputs": [],
   "source": [
    "number_of_passengers = 29"
   ]
  },
  {
   "cell_type": "code",
   "execution_count": 30,
   "id": "916b9fef",
   "metadata": {
    "execution": {
     "iopub.execute_input": "2022-07-25T02:10:33.348624Z",
     "iopub.status.busy": "2022-07-25T02:10:33.347865Z",
     "iopub.status.idle": "2022-07-25T02:10:33.352477Z",
     "shell.execute_reply": "2022-07-25T02:10:33.351261Z"
    },
    "id": "JqlEvxU9MmI7",
    "papermill": {
     "duration": 0.033024,
     "end_time": "2022-07-25T02:10:33.354818",
     "exception": false,
     "start_time": "2022-07-25T02:10:33.321794",
     "status": "completed"
    },
    "tags": []
   },
   "outputs": [],
   "source": [
    "price_of_ticket = 200"
   ]
  },
  {
   "cell_type": "code",
   "execution_count": 31,
   "id": "88da0487",
   "metadata": {
    "execution": {
     "iopub.execute_input": "2022-07-25T02:10:33.404444Z",
     "iopub.status.busy": "2022-07-25T02:10:33.404030Z",
     "iopub.status.idle": "2022-07-25T02:10:33.408630Z",
     "shell.execute_reply": "2022-07-25T02:10:33.407655Z"
    },
    "id": "_MWbxjLKMmI7",
    "papermill": {
     "duration": 0.031921,
     "end_time": "2022-07-25T02:10:33.410918",
     "exception": false,
     "start_time": "2022-07-25T02:10:33.378997",
     "status": "completed"
    },
    "tags": []
   },
   "outputs": [],
   "source": [
    "profit = 29*200-5000"
   ]
  },
  {
   "cell_type": "code",
   "execution_count": 32,
   "id": "adb41b68",
   "metadata": {
    "execution": {
     "iopub.execute_input": "2022-07-25T02:10:33.461019Z",
     "iopub.status.busy": "2022-07-25T02:10:33.460362Z",
     "iopub.status.idle": "2022-07-25T02:10:33.467134Z",
     "shell.execute_reply": "2022-07-25T02:10:33.464852Z"
    },
    "id": "Zxp2RxxKMmI8",
    "outputId": "80fbdf1a-d207-4a6b-eb7e-8e8506842970",
    "papermill": {
     "duration": 0.035026,
     "end_time": "2022-07-25T02:10:33.469941",
     "exception": false,
     "start_time": "2022-07-25T02:10:33.434915",
     "status": "completed"
    },
    "tags": []
   },
   "outputs": [
    {
     "name": "stdout",
     "output_type": "stream",
     "text": [
      "The company makes of a profit of 800 dollars\n"
     ]
    }
   ],
   "source": [
    "print('The company makes of a profit of {} dollars'.format(profit))"
   ]
  },
  {
   "cell_type": "markdown",
   "id": "5e9d5ec4",
   "metadata": {
    "id": "QO01CaplMmI8",
    "papermill": {
     "duration": 0.02419,
     "end_time": "2022-07-25T02:10:33.518292",
     "exception": false,
     "start_time": "2022-07-25T02:10:33.494102",
     "status": "completed"
    },
    "tags": []
   },
   "source": [
    "**Q11b (Optional): Out of the 29 people who took the flight, only 12 buy tickets to return from the Bahamas on the same plane. If the flying the plane back also costs 5000 dollars, and does the company make an overall profit or loss? The company charges the same fee of 200 dollars per ticket for the return flight.**\n",
    "\n",
    "Use an `if` statement to display the result."
   ]
  },
  {
   "cell_type": "code",
   "execution_count": 33,
   "id": "4e6739d8",
   "metadata": {
    "execution": {
     "iopub.execute_input": "2022-07-25T02:10:33.569316Z",
     "iopub.status.busy": "2022-07-25T02:10:33.568877Z",
     "iopub.status.idle": "2022-07-25T02:10:33.573841Z",
     "shell.execute_reply": "2022-07-25T02:10:33.572715Z"
    },
    "id": "71KTStHiMmI8",
    "papermill": {
     "duration": 0.033072,
     "end_time": "2022-07-25T02:10:33.576257",
     "exception": false,
     "start_time": "2022-07-25T02:10:33.543185",
     "status": "completed"
    },
    "tags": []
   },
   "outputs": [],
   "source": [
    "# this is optional\n",
    "profit = 12*200-5000"
   ]
  },
  {
   "cell_type": "code",
   "execution_count": 34,
   "id": "614edb43",
   "metadata": {
    "execution": {
     "iopub.execute_input": "2022-07-25T02:10:33.626899Z",
     "iopub.status.busy": "2022-07-25T02:10:33.626114Z",
     "iopub.status.idle": "2022-07-25T02:10:33.632720Z",
     "shell.execute_reply": "2022-07-25T02:10:33.631622Z"
    },
    "id": "vgoD6nWaMmI8",
    "outputId": "d1a207e3-0b09-4328-a29a-5faa084f3d1c",
    "papermill": {
     "duration": 0.034124,
     "end_time": "2022-07-25T02:10:33.634841",
     "exception": false,
     "start_time": "2022-07-25T02:10:33.600717",
     "status": "completed"
    },
    "tags": []
   },
   "outputs": [
    {
     "name": "stdout",
     "output_type": "stream",
     "text": [
      "The company makes an overall loss of 2600 dollars\n"
     ]
    }
   ],
   "source": [
    "# this is optional\n",
    "if profit > 0:\n",
    "    print(\"The company makes an overall profit of {} dollars\".format(profit))\n",
    "else:\n",
    "    print(\"The company makes an overall loss of {} dollars\".format(profit*-1))"
   ]
  },
  {
   "cell_type": "markdown",
   "id": "9193a1fc",
   "metadata": {
    "id": "zAIAwyTUMmI8",
    "papermill": {
     "duration": 0.027572,
     "end_time": "2022-07-25T02:10:33.692103",
     "exception": false,
     "start_time": "2022-07-25T02:10:33.664531",
     "status": "completed"
    },
    "tags": []
   },
   "source": [
    "Great work so far! Want to take a break? Remember to save and upload your notebook to record your progress."
   ]
  },
  {
   "cell_type": "code",
   "execution_count": 35,
   "id": "077b611f",
   "metadata": {
    "execution": {
     "iopub.execute_input": "2022-07-25T02:10:33.754759Z",
     "iopub.status.busy": "2022-07-25T02:10:33.753774Z",
     "iopub.status.idle": "2022-07-25T02:10:33.759056Z",
     "shell.execute_reply": "2022-07-25T02:10:33.757842Z"
    },
    "id": "OOXXmMbeMmI8",
    "outputId": "a7853b81-b18d-4c99-b084-4123c892927e",
    "papermill": {
     "duration": 0.038119,
     "end_time": "2022-07-25T02:10:33.761633",
     "exception": false,
     "start_time": "2022-07-25T02:10:33.723514",
     "status": "completed"
    },
    "tags": []
   },
   "outputs": [],
   "source": [
    "# jovian.commit(project=project_name,environment=None)"
   ]
  },
  {
   "cell_type": "markdown",
   "id": "ea3eede5",
   "metadata": {
    "id": "pfZk9rv2MmI9",
    "papermill": {
     "duration": 0.024093,
     "end_time": "2022-07-25T02:10:33.810249",
     "exception": false,
     "start_time": "2022-07-25T02:10:33.786156",
     "status": "completed"
    },
    "tags": []
   },
   "source": [
    "## Problem 5 - Twitter Sentiment Analysis\n",
    "\n",
    "Are your ready to perform some *Data Analysis with Python*? In this problem, we'll analyze some fictional tweets and find out whether the overall sentiment of Twitter users is happy or sad. This is a simplified version of an important real world problem called *sentiment analysis*.\n",
    "\n",
    "Before we begin, we need a list of tweets to analyze. We're picking a small number of tweets here, but the exact same analysis can also be done for thousands, or even millions of tweets. The collection of data that we perform analysis on is often called a *dataset*."
   ]
  },
  {
   "cell_type": "code",
   "execution_count": 36,
   "id": "7940f5c0",
   "metadata": {
    "execution": {
     "iopub.execute_input": "2022-07-25T02:10:33.861139Z",
     "iopub.status.busy": "2022-07-25T02:10:33.860352Z",
     "iopub.status.idle": "2022-07-25T02:10:33.866323Z",
     "shell.execute_reply": "2022-07-25T02:10:33.865401Z"
    },
    "id": "svDihAlzMmI9",
    "papermill": {
     "duration": 0.034425,
     "end_time": "2022-07-25T02:10:33.868782",
     "exception": false,
     "start_time": "2022-07-25T02:10:33.834357",
     "status": "completed"
    },
    "tags": []
   },
   "outputs": [],
   "source": [
    "tweets = [\n",
    "    \"Wow, what a great day today!! #sunshine\",\n",
    "    \"I feel sad about the things going on around us. #covid19\",\n",
    "    \"I'm really excited to learn Python with @JovianML #zerotopandas\",\n",
    "    \"This is a really nice song. #linkinpark\",\n",
    "    \"The python programming language is useful for data science\",\n",
    "    \"Why do bad things happen to me?\",\n",
    "    \"Apple announces the release of the new iPhone 12. Fans are excited.\",\n",
    "    \"Spent my day with family!! #happy\",\n",
    "    \"Check out my blog post on common string operations in Python. #zerotopandas\",\n",
    "    \"Freecodecamp has great coding tutorials. #skillup\"\n",
    "]"
   ]
  },
  {
   "cell_type": "markdown",
   "id": "d38c0e96",
   "metadata": {
    "id": "_3CLTDaJMmI9",
    "papermill": {
     "duration": 0.023536,
     "end_time": "2022-07-25T02:10:33.917163",
     "exception": false,
     "start_time": "2022-07-25T02:10:33.893627",
     "status": "completed"
    },
    "tags": []
   },
   "source": [
    "Let's begin by answering a very simple but important question about our dataset.\n",
    "\n",
    "**Q12: How many tweets does the dataset contain?**"
   ]
  },
  {
   "cell_type": "code",
   "execution_count": 37,
   "id": "fde9575e",
   "metadata": {
    "execution": {
     "iopub.execute_input": "2022-07-25T02:10:33.967387Z",
     "iopub.status.busy": "2022-07-25T02:10:33.966634Z",
     "iopub.status.idle": "2022-07-25T02:10:33.971669Z",
     "shell.execute_reply": "2022-07-25T02:10:33.970780Z"
    },
    "id": "P2RIeC5sMmI9",
    "papermill": {
     "duration": 0.032663,
     "end_time": "2022-07-25T02:10:33.974126",
     "exception": false,
     "start_time": "2022-07-25T02:10:33.941463",
     "status": "completed"
    },
    "tags": []
   },
   "outputs": [],
   "source": [
    "number_of_tweets = len(tweets)"
   ]
  },
  {
   "cell_type": "markdown",
   "id": "ac386101",
   "metadata": {
    "id": "Az5PmN0AMmI9",
    "papermill": {
     "duration": 0.023993,
     "end_time": "2022-07-25T02:10:34.022564",
     "exception": false,
     "start_time": "2022-07-25T02:10:33.998571",
     "status": "completed"
    },
    "tags": []
   },
   "source": [
    "Let's create two lists of words: `happy_words` and `sad_words`. We will use these to check if a tweet is happy or sad."
   ]
  },
  {
   "cell_type": "code",
   "execution_count": 38,
   "id": "91726946",
   "metadata": {
    "execution": {
     "iopub.execute_input": "2022-07-25T02:10:34.072567Z",
     "iopub.status.busy": "2022-07-25T02:10:34.071718Z",
     "iopub.status.idle": "2022-07-25T02:10:34.077193Z",
     "shell.execute_reply": "2022-07-25T02:10:34.076285Z"
    },
    "id": "VcwVzon0MmI9",
    "papermill": {
     "duration": 0.033222,
     "end_time": "2022-07-25T02:10:34.079524",
     "exception": false,
     "start_time": "2022-07-25T02:10:34.046302",
     "status": "completed"
    },
    "tags": []
   },
   "outputs": [],
   "source": [
    "happy_words = ['great', 'excited', 'happy', 'nice', 'wonderful', 'amazing', 'good', 'best']"
   ]
  },
  {
   "cell_type": "code",
   "execution_count": 39,
   "id": "53530fbc",
   "metadata": {
    "execution": {
     "iopub.execute_input": "2022-07-25T02:10:34.129927Z",
     "iopub.status.busy": "2022-07-25T02:10:34.129569Z",
     "iopub.status.idle": "2022-07-25T02:10:34.133887Z",
     "shell.execute_reply": "2022-07-25T02:10:34.133080Z"
    },
    "id": "AhJ0xBJDMmI-",
    "papermill": {
     "duration": 0.031838,
     "end_time": "2022-07-25T02:10:34.135897",
     "exception": false,
     "start_time": "2022-07-25T02:10:34.104059",
     "status": "completed"
    },
    "tags": []
   },
   "outputs": [],
   "source": [
    "sad_words = ['sad', 'bad', 'tragic', 'unhappy', 'worst']"
   ]
  },
  {
   "cell_type": "markdown",
   "id": "ad823e8d",
   "metadata": {
    "id": "lN1WbcwxMmI-",
    "papermill": {
     "duration": 0.023812,
     "end_time": "2022-07-25T02:10:34.183419",
     "exception": false,
     "start_time": "2022-07-25T02:10:34.159607",
     "status": "completed"
    },
    "tags": []
   },
   "source": [
    "To identify whether a tweet is happy, we can simply check if contains any of the words from `happy_words`. Here's an example:"
   ]
  },
  {
   "cell_type": "code",
   "execution_count": 40,
   "id": "89ee8a5d",
   "metadata": {
    "execution": {
     "iopub.execute_input": "2022-07-25T02:10:34.233502Z",
     "iopub.status.busy": "2022-07-25T02:10:34.232814Z",
     "iopub.status.idle": "2022-07-25T02:10:34.237283Z",
     "shell.execute_reply": "2022-07-25T02:10:34.236445Z"
    },
    "id": "VGMfobEOMmI-",
    "papermill": {
     "duration": 0.0321,
     "end_time": "2022-07-25T02:10:34.239450",
     "exception": false,
     "start_time": "2022-07-25T02:10:34.207350",
     "status": "completed"
    },
    "tags": []
   },
   "outputs": [],
   "source": [
    "sample_tweet = tweets[0]"
   ]
  },
  {
   "cell_type": "code",
   "execution_count": 41,
   "id": "00009e50",
   "metadata": {
    "execution": {
     "iopub.execute_input": "2022-07-25T02:10:34.288901Z",
     "iopub.status.busy": "2022-07-25T02:10:34.288219Z",
     "iopub.status.idle": "2022-07-25T02:10:34.293572Z",
     "shell.execute_reply": "2022-07-25T02:10:34.292763Z"
    },
    "id": "NMVY_x10MmI-",
    "outputId": "d312c89f-950d-4338-b733-260d969235d9",
    "papermill": {
     "duration": 0.032504,
     "end_time": "2022-07-25T02:10:34.295657",
     "exception": false,
     "start_time": "2022-07-25T02:10:34.263153",
     "status": "completed"
    },
    "tags": []
   },
   "outputs": [
    {
     "data": {
      "text/plain": [
       "'Wow, what a great day today!! #sunshine'"
      ]
     },
     "execution_count": 41,
     "metadata": {},
     "output_type": "execute_result"
    }
   ],
   "source": [
    "sample_tweet"
   ]
  },
  {
   "cell_type": "code",
   "execution_count": 42,
   "id": "ef45d931",
   "metadata": {
    "execution": {
     "iopub.execute_input": "2022-07-25T02:10:34.347049Z",
     "iopub.status.busy": "2022-07-25T02:10:34.346382Z",
     "iopub.status.idle": "2022-07-25T02:10:34.351268Z",
     "shell.execute_reply": "2022-07-25T02:10:34.350457Z"
    },
    "id": "W7kNGcmjMmI-",
    "papermill": {
     "duration": 0.033281,
     "end_time": "2022-07-25T02:10:34.353477",
     "exception": false,
     "start_time": "2022-07-25T02:10:34.320196",
     "status": "completed"
    },
    "tags": []
   },
   "outputs": [],
   "source": [
    "is_tweet_happy = False\n",
    "\n",
    "# Get a word from happy_words\n",
    "for word in happy_words:\n",
    "    # Check if the tweet contains the word\n",
    "    if word in sample_tweet:\n",
    "        # Word found! Mark the tweet as happy\n",
    "        is_tweet_happy = True"
   ]
  },
  {
   "cell_type": "markdown",
   "id": "5cfb7fa3",
   "metadata": {
    "id": "1NccI3JDMmI-",
    "papermill": {
     "duration": 0.023639,
     "end_time": "2022-07-25T02:10:34.402025",
     "exception": false,
     "start_time": "2022-07-25T02:10:34.378386",
     "status": "completed"
    },
    "tags": []
   },
   "source": [
    "Do you understand what we're doing above? \n",
    "\n",
    "> For each word in the list of happy words, we check if is a part of the selected tweet. If the word is indded a part of the tweet, we set the variable `is_tweet_happy` to `True`. "
   ]
  },
  {
   "cell_type": "code",
   "execution_count": 43,
   "id": "ecf123a1",
   "metadata": {
    "execution": {
     "iopub.execute_input": "2022-07-25T02:10:34.453364Z",
     "iopub.status.busy": "2022-07-25T02:10:34.452683Z",
     "iopub.status.idle": "2022-07-25T02:10:34.458328Z",
     "shell.execute_reply": "2022-07-25T02:10:34.457517Z"
    },
    "id": "XP9G9tytMmI_",
    "outputId": "e40f59bc-d50a-403e-cb9d-1f980215ced4",
    "papermill": {
     "duration": 0.033491,
     "end_time": "2022-07-25T02:10:34.460352",
     "exception": false,
     "start_time": "2022-07-25T02:10:34.426861",
     "status": "completed"
    },
    "tags": []
   },
   "outputs": [
    {
     "data": {
      "text/plain": [
       "True"
      ]
     },
     "execution_count": 43,
     "metadata": {},
     "output_type": "execute_result"
    }
   ],
   "source": [
    "is_tweet_happy"
   ]
  },
  {
   "cell_type": "markdown",
   "id": "b3654532",
   "metadata": {
    "id": "5iIqNTAhMmI_",
    "papermill": {
     "duration": 0.023983,
     "end_time": "2022-07-25T02:10:34.508659",
     "exception": false,
     "start_time": "2022-07-25T02:10:34.484676",
     "status": "completed"
    },
    "tags": []
   },
   "source": [
    "**Q13: Determine the number of tweets in the dataset that can be classified as happy.**\n",
    "\n",
    "*Hint*: You'll need to use a loop inside another loop to do this. Use the code from the example shown above."
   ]
  },
  {
   "cell_type": "code",
   "execution_count": 44,
   "id": "b0151f6f",
   "metadata": {
    "execution": {
     "iopub.execute_input": "2022-07-25T02:10:34.558329Z",
     "iopub.status.busy": "2022-07-25T02:10:34.557928Z",
     "iopub.status.idle": "2022-07-25T02:10:34.563642Z",
     "shell.execute_reply": "2022-07-25T02:10:34.562306Z"
    },
    "id": "Z3SZR8i8MmI_",
    "papermill": {
     "duration": 0.033457,
     "end_time": "2022-07-25T02:10:34.566060",
     "exception": false,
     "start_time": "2022-07-25T02:10:34.532603",
     "status": "completed"
    },
    "tags": []
   },
   "outputs": [],
   "source": [
    "# store the final answer in this variable\n",
    "number_of_happy_tweets = 0\n",
    "\n",
    "# perform the calculations here\n",
    "for tweet in tweets:\n",
    "  for word in happy_words:\n",
    "      # Check if the tweet contains the word\n",
    "      if word in tweet:\n",
    "          # Word found! Mark the tweet as happy\n",
    "          is_tweet_happy = True\n",
    "          number_of_happy_tweets+=1"
   ]
  },
  {
   "cell_type": "code",
   "execution_count": 45,
   "id": "f75243f3",
   "metadata": {
    "execution": {
     "iopub.execute_input": "2022-07-25T02:10:34.617661Z",
     "iopub.status.busy": "2022-07-25T02:10:34.616580Z",
     "iopub.status.idle": "2022-07-25T02:10:34.623429Z",
     "shell.execute_reply": "2022-07-25T02:10:34.622087Z"
    },
    "id": "k-Oyw2YqMmI_",
    "outputId": "758a79d4-928c-48c9-d480-6d1717a2e2d3",
    "papermill": {
     "duration": 0.035697,
     "end_time": "2022-07-25T02:10:34.625812",
     "exception": false,
     "start_time": "2022-07-25T02:10:34.590115",
     "status": "completed"
    },
    "tags": []
   },
   "outputs": [
    {
     "name": "stdout",
     "output_type": "stream",
     "text": [
      "Number of happy tweets: 6\n"
     ]
    }
   ],
   "source": [
    "print(\"Number of happy tweets:\", number_of_happy_tweets)"
   ]
  },
  {
   "cell_type": "markdown",
   "id": "ef7238e7",
   "metadata": {
    "id": "0-qlDJTkMmI_",
    "papermill": {
     "duration": 0.023666,
     "end_time": "2022-07-25T02:10:34.673656",
     "exception": false,
     "start_time": "2022-07-25T02:10:34.649990",
     "status": "completed"
    },
    "tags": []
   },
   "source": [
    "If you are not able to figure out the solution to this problem, you can ask for hints on the community forum: https://jovian.ml/forum/t/assignment-1-python-practice/7761 . Also try adding `print` statements inside your loops to inspect variables and make sure your logic is correct."
   ]
  },
  {
   "cell_type": "markdown",
   "id": "77ad1e95",
   "metadata": {
    "id": "k9t9ljklMmI_",
    "papermill": {
     "duration": 0.024732,
     "end_time": "2022-07-25T02:10:34.722414",
     "exception": false,
     "start_time": "2022-07-25T02:10:34.697682",
     "status": "completed"
    },
    "tags": []
   },
   "source": [
    "**Q14: What fraction of the total number of tweets are happy?**\n",
    "\n",
    "For example, if 2 out of 10 tweets are happy, then the answer is `2/10` i.e. `0.2`."
   ]
  },
  {
   "cell_type": "code",
   "execution_count": 46,
   "id": "b92f7670",
   "metadata": {
    "execution": {
     "iopub.execute_input": "2022-07-25T02:10:34.773997Z",
     "iopub.status.busy": "2022-07-25T02:10:34.772772Z",
     "iopub.status.idle": "2022-07-25T02:10:34.778268Z",
     "shell.execute_reply": "2022-07-25T02:10:34.777357Z"
    },
    "id": "Xvupgs_8MmJA",
    "papermill": {
     "duration": 0.032879,
     "end_time": "2022-07-25T02:10:34.780471",
     "exception": false,
     "start_time": "2022-07-25T02:10:34.747592",
     "status": "completed"
    },
    "tags": []
   },
   "outputs": [],
   "source": [
    "happy_fraction = number_of_happy_tweets/number_of_tweets"
   ]
  },
  {
   "cell_type": "code",
   "execution_count": 47,
   "id": "c494e6c2",
   "metadata": {
    "execution": {
     "iopub.execute_input": "2022-07-25T02:10:34.831955Z",
     "iopub.status.busy": "2022-07-25T02:10:34.831332Z",
     "iopub.status.idle": "2022-07-25T02:10:34.838182Z",
     "shell.execute_reply": "2022-07-25T02:10:34.836633Z"
    },
    "id": "zoBTS3zLMmJA",
    "outputId": "2eb60c13-e715-4a73-e4a1-9275c25f7775",
    "papermill": {
     "duration": 0.035958,
     "end_time": "2022-07-25T02:10:34.840991",
     "exception": false,
     "start_time": "2022-07-25T02:10:34.805033",
     "status": "completed"
    },
    "tags": []
   },
   "outputs": [
    {
     "name": "stdout",
     "output_type": "stream",
     "text": [
      "The fraction of happy tweets is: 0.6\n"
     ]
    }
   ],
   "source": [
    "print(\"The fraction of happy tweets is:\", happy_fraction)"
   ]
  },
  {
   "cell_type": "markdown",
   "id": "415520fc",
   "metadata": {
    "id": "5S3nG6TBMmJA",
    "papermill": {
     "duration": 0.02387,
     "end_time": "2022-07-25T02:10:34.889305",
     "exception": false,
     "start_time": "2022-07-25T02:10:34.865435",
     "status": "completed"
    },
    "tags": []
   },
   "source": [
    "To identify whether a tweet is sad, we can simply check if contains any of the words from `sad_words`.\n",
    "\n",
    "**Q15: Determine the number of tweets in the dataset that can be classified as sad.**"
   ]
  },
  {
   "cell_type": "code",
   "execution_count": 48,
   "id": "956416ed",
   "metadata": {
    "execution": {
     "iopub.execute_input": "2022-07-25T02:10:34.941148Z",
     "iopub.status.busy": "2022-07-25T02:10:34.939849Z",
     "iopub.status.idle": "2022-07-25T02:10:34.946036Z",
     "shell.execute_reply": "2022-07-25T02:10:34.945244Z"
    },
    "id": "0xzM-DhzMmJA",
    "papermill": {
     "duration": 0.034054,
     "end_time": "2022-07-25T02:10:34.948033",
     "exception": false,
     "start_time": "2022-07-25T02:10:34.913979",
     "status": "completed"
    },
    "tags": []
   },
   "outputs": [],
   "source": [
    "# store the final answer in this variable\n",
    "number_of_sad_tweets = 0\n",
    "\n",
    "# perform the calculations here\n",
    "for tweet in tweets:\n",
    "  for word in sad_words:\n",
    "      # Check if the tweet contains the word\n",
    "      if word in tweet:\n",
    "          # Word found! Mark the tweet as happy\n",
    "          number_of_sad_tweets+=1"
   ]
  },
  {
   "cell_type": "code",
   "execution_count": 49,
   "id": "665b2edc",
   "metadata": {
    "execution": {
     "iopub.execute_input": "2022-07-25T02:10:34.999442Z",
     "iopub.status.busy": "2022-07-25T02:10:34.998745Z",
     "iopub.status.idle": "2022-07-25T02:10:35.004058Z",
     "shell.execute_reply": "2022-07-25T02:10:35.002748Z"
    },
    "id": "cHmRtQLbMmJA",
    "outputId": "5e8fe862-0c4d-4a35-8831-b393b71b29af",
    "papermill": {
     "duration": 0.033687,
     "end_time": "2022-07-25T02:10:35.006330",
     "exception": false,
     "start_time": "2022-07-25T02:10:34.972643",
     "status": "completed"
    },
    "tags": []
   },
   "outputs": [
    {
     "name": "stdout",
     "output_type": "stream",
     "text": [
      "Number of sad tweets: 2\n"
     ]
    }
   ],
   "source": [
    "print(\"Number of sad tweets:\", number_of_sad_tweets)"
   ]
  },
  {
   "cell_type": "markdown",
   "id": "d5bbd074",
   "metadata": {
    "id": "oHzlMMsRMmJA",
    "papermill": {
     "duration": 0.02492,
     "end_time": "2022-07-25T02:10:35.055571",
     "exception": false,
     "start_time": "2022-07-25T02:10:35.030651",
     "status": "completed"
    },
    "tags": []
   },
   "source": [
    "**Q16: What fraction of the total number of tweets are sad?**"
   ]
  },
  {
   "cell_type": "code",
   "execution_count": 50,
   "id": "ea0fefcb",
   "metadata": {
    "execution": {
     "iopub.execute_input": "2022-07-25T02:10:35.106890Z",
     "iopub.status.busy": "2022-07-25T02:10:35.106162Z",
     "iopub.status.idle": "2022-07-25T02:10:35.110578Z",
     "shell.execute_reply": "2022-07-25T02:10:35.109463Z"
    },
    "id": "Hjz4mpLeMmJB",
    "papermill": {
     "duration": 0.03301,
     "end_time": "2022-07-25T02:10:35.112893",
     "exception": false,
     "start_time": "2022-07-25T02:10:35.079883",
     "status": "completed"
    },
    "tags": []
   },
   "outputs": [],
   "source": [
    "sad_fraction = number_of_sad_tweets/number_of_tweets"
   ]
  },
  {
   "cell_type": "code",
   "execution_count": 51,
   "id": "ab518b51",
   "metadata": {
    "execution": {
     "iopub.execute_input": "2022-07-25T02:10:35.164546Z",
     "iopub.status.busy": "2022-07-25T02:10:35.164139Z",
     "iopub.status.idle": "2022-07-25T02:10:35.169798Z",
     "shell.execute_reply": "2022-07-25T02:10:35.168592Z"
    },
    "id": "T0s4FHu6MmJB",
    "outputId": "c373d6f9-9fa0-4db1-a984-b2d55a1438be",
    "papermill": {
     "duration": 0.034451,
     "end_time": "2022-07-25T02:10:35.172197",
     "exception": false,
     "start_time": "2022-07-25T02:10:35.137746",
     "status": "completed"
    },
    "tags": []
   },
   "outputs": [
    {
     "name": "stdout",
     "output_type": "stream",
     "text": [
      "The fraction of sad tweets is: 0.2\n"
     ]
    }
   ],
   "source": [
    "print(\"The fraction of sad tweets is:\", sad_fraction)"
   ]
  },
  {
   "cell_type": "markdown",
   "id": "960156de",
   "metadata": {
    "id": "hOTEygGtMmJB",
    "papermill": {
     "duration": 0.02515,
     "end_time": "2022-07-25T02:10:35.222771",
     "exception": false,
     "start_time": "2022-07-25T02:10:35.197621",
     "status": "completed"
    },
    "tags": []
   },
   "source": [
    "The rest of this problem is optional. Let's save your work before continuing."
   ]
  },
  {
   "cell_type": "code",
   "execution_count": 52,
   "id": "a048764b",
   "metadata": {
    "execution": {
     "iopub.execute_input": "2022-07-25T02:10:35.275236Z",
     "iopub.status.busy": "2022-07-25T02:10:35.274324Z",
     "iopub.status.idle": "2022-07-25T02:10:35.279391Z",
     "shell.execute_reply": "2022-07-25T02:10:35.278349Z"
    },
    "id": "unzEZQYSMmJB",
    "outputId": "550fd78c-a504-4c1e-eded-298ea6ff3594",
    "papermill": {
     "duration": 0.033308,
     "end_time": "2022-07-25T02:10:35.281751",
     "exception": false,
     "start_time": "2022-07-25T02:10:35.248443",
     "status": "completed"
    },
    "tags": []
   },
   "outputs": [],
   "source": [
    "# jovian.commit(project=project_name,environment=None)"
   ]
  },
  {
   "cell_type": "markdown",
   "id": "acca1707",
   "metadata": {
    "id": "eil17Zm8MmJB",
    "papermill": {
     "duration": 0.024005,
     "end_time": "2022-07-25T02:10:35.330058",
     "exception": false,
     "start_time": "2022-07-25T02:10:35.306053",
     "status": "completed"
    },
    "tags": []
   },
   "source": [
    "Great work, even with some basic analysis, we already know a lot about the sentiment of the tweets given to us. Let us now define a metric called \"sentiment score\", to summarize the overall sentiment of the tweets.\n",
    "\n",
    "**Q16b (Optional): Calculate the sentiment score, which is defined as the difference betweek the fraction of happy tweets and the fraction of sad tweets.**"
   ]
  },
  {
   "cell_type": "code",
   "execution_count": 53,
   "id": "3b282dd9",
   "metadata": {
    "execution": {
     "iopub.execute_input": "2022-07-25T02:10:35.382661Z",
     "iopub.status.busy": "2022-07-25T02:10:35.382246Z",
     "iopub.status.idle": "2022-07-25T02:10:35.387272Z",
     "shell.execute_reply": "2022-07-25T02:10:35.386126Z"
    },
    "id": "k_cnconPMmJB",
    "papermill": {
     "duration": 0.034552,
     "end_time": "2022-07-25T02:10:35.389643",
     "exception": false,
     "start_time": "2022-07-25T02:10:35.355091",
     "status": "completed"
    },
    "tags": []
   },
   "outputs": [],
   "source": [
    "sentiment_score = happy_fraction - sad_fraction"
   ]
  },
  {
   "cell_type": "code",
   "execution_count": 54,
   "id": "fc85a5ef",
   "metadata": {
    "execution": {
     "iopub.execute_input": "2022-07-25T02:10:35.440252Z",
     "iopub.status.busy": "2022-07-25T02:10:35.439863Z",
     "iopub.status.idle": "2022-07-25T02:10:35.445341Z",
     "shell.execute_reply": "2022-07-25T02:10:35.444140Z"
    },
    "id": "AG3h7v7aMmJB",
    "outputId": "57a30808-6110-43b1-cd7a-822074ceb8e6",
    "papermill": {
     "duration": 0.033843,
     "end_time": "2022-07-25T02:10:35.447806",
     "exception": false,
     "start_time": "2022-07-25T02:10:35.413963",
     "status": "completed"
    },
    "tags": []
   },
   "outputs": [
    {
     "name": "stdout",
     "output_type": "stream",
     "text": [
      "The sentiment score for the given tweets is 0.39999999999999997\n"
     ]
    }
   ],
   "source": [
    "print(\"The sentiment score for the given tweets is\", sentiment_score)"
   ]
  },
  {
   "cell_type": "markdown",
   "id": "d79bf150",
   "metadata": {
    "id": "6UwYTIzKMmJC",
    "papermill": {
     "duration": 0.024467,
     "end_time": "2022-07-25T02:10:35.496620",
     "exception": false,
     "start_time": "2022-07-25T02:10:35.472153",
     "status": "completed"
    },
    "tags": []
   },
   "source": [
    "In a real world scenario, we could calculate & record the sentiment score for all the tweets sent out every day. This information can be used to plot a graph and study the trends in the changing sentiment of the world. The following graph was creating using the Python data visualization library `matplotlib`, which we'll cover later in the course.\n",
    "\n",
    "<img src=\"https://i.imgur.com/6CCIwCb.png\" style=\"width:400px\">\n",
    "\n",
    "What does the sentiment score represent? Based on the value of the sentiment score, can you identify if the overall sentiment of the dataset is happy or sad?\n",
    "\n",
    "**Q16c (Optional): Display whether the overall sentiment of the given dataset of tweets is happy or sad, using the sentiment score.**"
   ]
  },
  {
   "cell_type": "code",
   "execution_count": 55,
   "id": "d6c6d832",
   "metadata": {
    "execution": {
     "iopub.execute_input": "2022-07-25T02:10:35.546933Z",
     "iopub.status.busy": "2022-07-25T02:10:35.546544Z",
     "iopub.status.idle": "2022-07-25T02:10:35.552340Z",
     "shell.execute_reply": "2022-07-25T02:10:35.550999Z"
    },
    "id": "aS6GF3hkMmJC",
    "outputId": "f6749d55-c952-4a46-ce7f-f85c5017a2f4",
    "papermill": {
     "duration": 0.034318,
     "end_time": "2022-07-25T02:10:35.555337",
     "exception": false,
     "start_time": "2022-07-25T02:10:35.521019",
     "status": "completed"
    },
    "tags": []
   },
   "outputs": [
    {
     "name": "stdout",
     "output_type": "stream",
     "text": [
      "The overall sentiment is happy\n"
     ]
    }
   ],
   "source": [
    "if sentiment_score >0:\n",
    "    print(\"The overall sentiment is happy\")\n",
    "else:\n",
    "    print(\"The overall sentiment is sad\")"
   ]
  },
  {
   "cell_type": "markdown",
   "id": "fed9d2aa",
   "metadata": {
    "id": "I7JeHqI1MmJC",
    "papermill": {
     "duration": 0.025793,
     "end_time": "2022-07-25T02:10:35.606739",
     "exception": false,
     "start_time": "2022-07-25T02:10:35.580946",
     "status": "completed"
    },
    "tags": []
   },
   "source": [
    "Finally, it's also important to track how many tweets are neutral i.e. neither happy nor sad. If a large fraction of tweets are marked neutral, maybe we need to improve our lists of happy and sad words. \n",
    "\n",
    "**Q16d (Optional): What is the fraction of tweets that are neutral i.e. neither happy nor sad.**"
   ]
  },
  {
   "cell_type": "code",
   "execution_count": 56,
   "id": "15333adc",
   "metadata": {
    "execution": {
     "iopub.execute_input": "2022-07-25T02:10:35.659407Z",
     "iopub.status.busy": "2022-07-25T02:10:35.658968Z",
     "iopub.status.idle": "2022-07-25T02:10:35.666321Z",
     "shell.execute_reply": "2022-07-25T02:10:35.665006Z"
    },
    "id": "Sjci6ph_MmJC",
    "papermill": {
     "duration": 0.036294,
     "end_time": "2022-07-25T02:10:35.668883",
     "exception": false,
     "start_time": "2022-07-25T02:10:35.632589",
     "status": "completed"
    },
    "tags": []
   },
   "outputs": [],
   "source": [
    "from typing import no_type_check\n",
    "# store the final answer in this variable\n",
    "number_of_neutral_tweets = 0\n",
    "\n",
    "# perform the calculation here\n",
    "# question is not obvious for me, it is optional any way\n",
    "# perform the calculations here\n",
    "for tweet in tweets:\n",
    "  tweet_words = tweet.split(\" \")\n",
    "  not_neutral = 0\n",
    "  for word in tweet_words:\n",
    "    if word in sad_words or word in happy_words:\n",
    "      not_neutral+=1\n",
    "  \n",
    "  if not_neutral == 0:\n",
    "        number_of_neutral_tweets +=1"
   ]
  },
  {
   "cell_type": "code",
   "execution_count": 57,
   "id": "64685cc2",
   "metadata": {
    "execution": {
     "iopub.execute_input": "2022-07-25T02:10:35.722128Z",
     "iopub.status.busy": "2022-07-25T02:10:35.721753Z",
     "iopub.status.idle": "2022-07-25T02:10:35.727103Z",
     "shell.execute_reply": "2022-07-25T02:10:35.725540Z"
    },
    "id": "E308RRq1MmJC",
    "papermill": {
     "duration": 0.034816,
     "end_time": "2022-07-25T02:10:35.729800",
     "exception": false,
     "start_time": "2022-07-25T02:10:35.694984",
     "status": "completed"
    },
    "tags": []
   },
   "outputs": [],
   "source": [
    "neutral_fraction = number_of_neutral_tweets/number_of_tweets"
   ]
  },
  {
   "cell_type": "code",
   "execution_count": 58,
   "id": "1712cc8b",
   "metadata": {
    "execution": {
     "iopub.execute_input": "2022-07-25T02:10:35.782575Z",
     "iopub.status.busy": "2022-07-25T02:10:35.782143Z",
     "iopub.status.idle": "2022-07-25T02:10:35.787562Z",
     "shell.execute_reply": "2022-07-25T02:10:35.786283Z"
    },
    "id": "1388FAneMmJD",
    "outputId": "3a1dc2a1-d621-4c33-bc2e-6dbeb195b426",
    "papermill": {
     "duration": 0.036209,
     "end_time": "2022-07-25T02:10:35.790694",
     "exception": false,
     "start_time": "2022-07-25T02:10:35.754485",
     "status": "completed"
    },
    "tags": []
   },
   "outputs": [
    {
     "name": "stdout",
     "output_type": "stream",
     "text": [
      "The fraction of neutral tweets is 0.4\n"
     ]
    }
   ],
   "source": [
    "print('The fraction of neutral tweets is', neutral_fraction)"
   ]
  },
  {
   "cell_type": "markdown",
   "id": "48f90fe4",
   "metadata": {
    "id": "x80zQpqDMmJD",
    "papermill": {
     "duration": 0.025027,
     "end_time": "2022-07-25T02:10:35.841576",
     "exception": false,
     "start_time": "2022-07-25T02:10:35.816549",
     "status": "completed"
    },
    "tags": []
   },
   "source": [
    "Ponder upon these questions and try some experiments to hone your skills further:\n",
    "\n",
    "* What are the limitations of our approach? When will it go wrong or give incorrect results?\n",
    "* How can we improve our approach to address the limitations?\n",
    "* What are some other questions you would like to ask, given a list of tweets?\n",
    "* Try collecting some real tweets from your Twitter timeline and repeat this analysis. Do the results make sense?\n",
    "\n",
    "**IMPORTANT NOTE**: If you want to try out these experiments, please create a new notebook using the \"New Notebook\" button on your Jovian.ml profile, to avoid making unintended changes to your assignment submission notebook."
   ]
  },
  {
   "cell_type": "markdown",
   "id": "35eb3ec8",
   "metadata": {
    "id": "OJhd-z1MMmJD",
    "papermill": {
     "duration": 0.024305,
     "end_time": "2022-07-25T02:10:35.891166",
     "exception": false,
     "start_time": "2022-07-25T02:10:35.866861",
     "status": "completed"
    },
    "tags": []
   },
   "source": [
    "## Submission \n",
    "\n",
    "Congratulations on making it this far! You've reached the end of this assignment, and you just completed your first data analysis problem. It's time to record one final version of your notebook for submission.\n",
    "\n",
    "Make a submission here by filling the submission form: https://jovian.ml/learn/data-analysis-with-python-zero-to-pandas/assignment/assignment-1-python-basics-practice"
   ]
  },
  {
   "cell_type": "code",
   "execution_count": 59,
   "id": "ccef3f0f",
   "metadata": {
    "execution": {
     "iopub.execute_input": "2022-07-25T02:10:35.944947Z",
     "iopub.status.busy": "2022-07-25T02:10:35.944580Z",
     "iopub.status.idle": "2022-07-25T02:10:35.948971Z",
     "shell.execute_reply": "2022-07-25T02:10:35.947728Z"
    },
    "id": "Dt8ZKSotMmJD",
    "outputId": "32201564-f33b-43ed-9cd2-411613393876",
    "papermill": {
     "duration": 0.035131,
     "end_time": "2022-07-25T02:10:35.951493",
     "exception": false,
     "start_time": "2022-07-25T02:10:35.916362",
     "status": "completed"
    },
    "tags": []
   },
   "outputs": [],
   "source": [
    "# jovian.commit(project=project_name,environment=None)"
   ]
  }
 ],
 "metadata": {
  "kernelspec": {
   "display_name": "Python 3",
   "language": "python",
   "name": "python3"
  },
  "language_info": {
   "codemirror_mode": {
    "name": "ipython",
    "version": 3
   },
   "file_extension": ".py",
   "mimetype": "text/x-python",
   "name": "python",
   "nbconvert_exporter": "python",
   "pygments_lexer": "ipython3",
   "version": "3.7.12"
  },
  "papermill": {
   "default_parameters": {},
   "duration": 34.955245,
   "end_time": "2022-07-25T02:10:36.766711",
   "environment_variables": {},
   "exception": null,
   "input_path": "__notebook__.ipynb",
   "output_path": "__notebook__.ipynb",
   "parameters": {},
   "start_time": "2022-07-25T02:10:01.811466",
   "version": "2.3.4"
  }
 },
 "nbformat": 4,
 "nbformat_minor": 5
}
