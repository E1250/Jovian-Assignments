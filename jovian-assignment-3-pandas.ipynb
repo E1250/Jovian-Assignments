{
 "cells": [
  {
   "cell_type": "markdown",
   "id": "0cff0267",
   "metadata": {
    "id": "ZGCL63ORjK4l",
    "papermill": {
     "duration": 0.020196,
     "end_time": "2022-07-25T02:25:36.545279",
     "exception": false,
     "start_time": "2022-07-25T02:25:36.525083",
     "status": "completed"
    },
    "tags": []
   },
   "source": [
    "# Assignment 3 - Pandas Data Analysis Practice\n",
    "\n",
    "*This assignment is a part of the course [\"Data Analysis with Python: Zero to Pandas\"](https://jovian.ai/learn/data-analysis-with-python-zero-to-pandas)*\n",
    "\n",
    "In this assignment, you'll get to practice some of the concepts and skills covered in this tutorial: https://jovian.ai/aakashns/python-pandas-data-analysis\n",
    "\n",
    "As you go through this notebook, you will find a **???** in certain places. To complete this assignment, you must replace all the **???** with appropriate values, expressions or statements to ensure that the notebook runs properly end-to-end. \n",
    "\n",
    "Some things to keep in mind:\n",
    "\n",
    "* Make sure to run all the code cells, otherwise you may get errors like `NameError` for undefined variables.\n",
    "* Do not change variable names, delete cells or disturb other existing code. It may cause problems during evaluation.\n",
    "* In some cases, you may need to add some code cells or new statements before or after the line of code containing the **???**. \n",
    "* Since you'll be using a temporary online service for code execution, save your work by running `jovian.commit` at regular intervals.\n",
    "* Questions marked **(Optional)** will not be considered for evaluation, and can be skipped. They are for your learning.\n",
    "\n",
    "You can make submissions on this page: https://jovian.ai/learn/data-analysis-with-python-zero-to-pandas/assignment/assignment-3-pandas-practice\n",
    "\n",
    "If you are stuck, you can ask for help on the community forum: https://jovian.ai/forum/t/assignment-3-pandas-practice/11225/3. You can get help with errors or ask for hints, describe your approach in simple words, link to documentation, but **please don't ask for or share the full working answer code** on the forum.\n",
    "\n",
    "\n",
    "## How to run the code and save your work\n",
    "\n",
    "The recommended way to run this notebook is to click the \"Run\" button at the top of this page, and select \"Run on Binder\". This will run the notebook on [mybinder.org](https://mybinder.org), a free online service for running Jupyter notebooks. \n",
    "\n",
    "Before starting the assignment, let's save a snapshot of the assignment to your Jovian.ai profile, so that you can access it later, and continue your work."
   ]
  },
  {
   "cell_type": "code",
   "execution_count": 1,
   "id": "8e0e4677",
   "metadata": {
    "execution": {
     "iopub.execute_input": "2022-07-25T02:25:36.586399Z",
     "iopub.status.busy": "2022-07-25T02:25:36.585636Z",
     "iopub.status.idle": "2022-07-25T02:25:36.591769Z",
     "shell.execute_reply": "2022-07-25T02:25:36.590900Z"
    },
    "executionInfo": {
     "elapsed": 6,
     "status": "ok",
     "timestamp": 1657057481696,
     "user": {
      "displayName": "Eslam Ahmed",
      "userId": "17441472531449229406"
     },
     "user_tz": -120
    },
    "id": "_gQM-BbFjK4o",
    "papermill": {
     "duration": 0.029495,
     "end_time": "2022-07-25T02:25:36.593932",
     "exception": false,
     "start_time": "2022-07-25T02:25:36.564437",
     "status": "completed"
    },
    "tags": []
   },
   "outputs": [],
   "source": [
    "# import jovian"
   ]
  },
  {
   "cell_type": "code",
   "execution_count": 2,
   "id": "0658bdde",
   "metadata": {
    "execution": {
     "iopub.execute_input": "2022-07-25T02:25:36.637419Z",
     "iopub.status.busy": "2022-07-25T02:25:36.636656Z",
     "iopub.status.idle": "2022-07-25T02:25:36.640706Z",
     "shell.execute_reply": "2022-07-25T02:25:36.639691Z"
    },
    "executionInfo": {
     "elapsed": 2236,
     "status": "ok",
     "timestamp": 1657057483926,
     "user": {
      "displayName": "Eslam Ahmed",
      "userId": "17441472531449229406"
     },
     "user_tz": -120
    },
    "id": "UohgXgsCjK4p",
    "outputId": "528d499a-3fa6-49a9-dda6-421537d22629",
    "papermill": {
     "duration": 0.027879,
     "end_time": "2022-07-25T02:25:36.643419",
     "exception": false,
     "start_time": "2022-07-25T02:25:36.615540",
     "status": "completed"
    },
    "tags": []
   },
   "outputs": [],
   "source": [
    "# jovian.commit(project='pandas-practice-assignment', environment=None)"
   ]
  },
  {
   "cell_type": "code",
   "execution_count": 3,
   "id": "d6437444",
   "metadata": {
    "execution": {
     "iopub.execute_input": "2022-07-25T02:25:36.683543Z",
     "iopub.status.busy": "2022-07-25T02:25:36.682874Z",
     "iopub.status.idle": "2022-07-25T02:25:48.296235Z",
     "shell.execute_reply": "2022-07-25T02:25:48.295247Z"
    },
    "executionInfo": {
     "elapsed": 4819,
     "status": "ok",
     "timestamp": 1657057488736,
     "user": {
      "displayName": "Eslam Ahmed",
      "userId": "17441472531449229406"
     },
     "user_tz": -120
    },
    "id": "5Dg8Xo7vjK4q",
    "outputId": "8f339f43-5b7a-40f6-9622-5d59f1b01c8d",
    "papermill": {
     "duration": 11.635865,
     "end_time": "2022-07-25T02:25:48.298871",
     "exception": false,
     "start_time": "2022-07-25T02:25:36.663006",
     "status": "completed"
    },
    "tags": []
   },
   "outputs": [
    {
     "name": "stdout",
     "output_type": "stream",
     "text": [
      "Requirement already satisfied: pandas in /opt/conda/lib/python3.7/site-packages (1.3.5)\r\n",
      "Requirement already satisfied: python-dateutil>=2.7.3 in /opt/conda/lib/python3.7/site-packages (from pandas) (2.8.2)\r\n",
      "Requirement already satisfied: pytz>=2017.3 in /opt/conda/lib/python3.7/site-packages (from pandas) (2022.1)\r\n",
      "Requirement already satisfied: numpy>=1.17.3 in /opt/conda/lib/python3.7/site-packages (from pandas) (1.21.6)\r\n",
      "Requirement already satisfied: six>=1.5 in /opt/conda/lib/python3.7/site-packages (from python-dateutil>=2.7.3->pandas) (1.16.0)\r\n",
      "\u001b[33mWARNING: Running pip as the 'root' user can result in broken permissions and conflicting behaviour with the system package manager. It is recommended to use a virtual environment instead: https://pip.pypa.io/warnings/venv\u001b[0m\u001b[33m\r\n",
      "\u001b[0m"
     ]
    }
   ],
   "source": [
    "# Run the next line to install Pandas\n",
    "!pip install pandas --upgrade"
   ]
  },
  {
   "cell_type": "code",
   "execution_count": 4,
   "id": "3d9edba5",
   "metadata": {
    "execution": {
     "iopub.execute_input": "2022-07-25T02:25:48.339120Z",
     "iopub.status.busy": "2022-07-25T02:25:48.338249Z",
     "iopub.status.idle": "2022-07-25T02:25:48.344063Z",
     "shell.execute_reply": "2022-07-25T02:25:48.342936Z"
    },
    "executionInfo": {
     "elapsed": 934,
     "status": "ok",
     "timestamp": 1657057489666,
     "user": {
      "displayName": "Eslam Ahmed",
      "userId": "17441472531449229406"
     },
     "user_tz": -120
    },
    "id": "wryrqR23jK4r",
    "papermill": {
     "duration": 0.02838,
     "end_time": "2022-07-25T02:25:48.346247",
     "exception": false,
     "start_time": "2022-07-25T02:25:48.317867",
     "status": "completed"
    },
    "tags": []
   },
   "outputs": [],
   "source": [
    "import pandas as pd"
   ]
  },
  {
   "cell_type": "markdown",
   "id": "4fe3807e",
   "metadata": {
    "id": "jsJSu9pyjK4s",
    "papermill": {
     "duration": 0.018623,
     "end_time": "2022-07-25T02:25:48.383885",
     "exception": false,
     "start_time": "2022-07-25T02:25:48.365262",
     "status": "completed"
    },
    "tags": []
   },
   "source": [
    "In this assignment, we're going to analyze an operate on data from a CSV file. Let's begin by downloading the CSV file."
   ]
  },
  {
   "cell_type": "code",
   "execution_count": 5,
   "id": "7d739259",
   "metadata": {
    "execution": {
     "iopub.execute_input": "2022-07-25T02:25:48.424728Z",
     "iopub.status.busy": "2022-07-25T02:25:48.424312Z",
     "iopub.status.idle": "2022-07-25T02:25:48.713212Z",
     "shell.execute_reply": "2022-07-25T02:25:48.712097Z"
    },
    "executionInfo": {
     "elapsed": 13,
     "status": "ok",
     "timestamp": 1657057489669,
     "user": {
      "displayName": "Eslam Ahmed",
      "userId": "17441472531449229406"
     },
     "user_tz": -120
    },
    "id": "wElBgMqLjK4t",
    "outputId": "5c569dc9-d39e-462f-9298-3acf880df717",
    "papermill": {
     "duration": 0.312872,
     "end_time": "2022-07-25T02:25:48.715846",
     "exception": false,
     "start_time": "2022-07-25T02:25:48.402974",
     "status": "completed"
    },
    "tags": []
   },
   "outputs": [
    {
     "data": {
      "text/plain": [
       "('countries.csv', <http.client.HTTPMessage at 0x7f62f2c758d0>)"
      ]
     },
     "execution_count": 5,
     "metadata": {},
     "output_type": "execute_result"
    }
   ],
   "source": [
    "from urllib.request import urlretrieve\n",
    "\n",
    "urlretrieve('https://gist.githubusercontent.com/aakashns/28b2e504b3350afd9bdb157893f9725c/raw/994b65665757f4f8887db1c85986a897abb23d84/countries.csv', \n",
    "            'countries.csv')"
   ]
  },
  {
   "cell_type": "markdown",
   "id": "c27cb566",
   "metadata": {
    "id": "3kCo9VN8jK4u",
    "papermill": {
     "duration": 0.019304,
     "end_time": "2022-07-25T02:25:48.753974",
     "exception": false,
     "start_time": "2022-07-25T02:25:48.734670",
     "status": "completed"
    },
    "tags": []
   },
   "source": [
    "Let's load the data from the CSV file into a Pandas data frame."
   ]
  },
  {
   "cell_type": "code",
   "execution_count": 6,
   "id": "991bee23",
   "metadata": {
    "execution": {
     "iopub.execute_input": "2022-07-25T02:25:48.793967Z",
     "iopub.status.busy": "2022-07-25T02:25:48.792988Z",
     "iopub.status.idle": "2022-07-25T02:25:48.805327Z",
     "shell.execute_reply": "2022-07-25T02:25:48.804490Z"
    },
    "executionInfo": {
     "elapsed": 12,
     "status": "ok",
     "timestamp": 1657057489669,
     "user": {
      "displayName": "Eslam Ahmed",
      "userId": "17441472531449229406"
     },
     "user_tz": -120
    },
    "id": "lsdGBYvujK4u",
    "papermill": {
     "duration": 0.034919,
     "end_time": "2022-07-25T02:25:48.807756",
     "exception": false,
     "start_time": "2022-07-25T02:25:48.772837",
     "status": "completed"
    },
    "tags": []
   },
   "outputs": [],
   "source": [
    "countries_df = pd.read_csv('countries.csv')"
   ]
  },
  {
   "cell_type": "code",
   "execution_count": 7,
   "id": "91b39146",
   "metadata": {
    "execution": {
     "iopub.execute_input": "2022-07-25T02:25:48.847911Z",
     "iopub.status.busy": "2022-07-25T02:25:48.847208Z",
     "iopub.status.idle": "2022-07-25T02:25:48.873761Z",
     "shell.execute_reply": "2022-07-25T02:25:48.872520Z"
    },
    "executionInfo": {
     "elapsed": 12,
     "status": "ok",
     "timestamp": 1657057489670,
     "user": {
      "displayName": "Eslam Ahmed",
      "userId": "17441472531449229406"
     },
     "user_tz": -120
    },
    "id": "y58etytejK4v",
    "outputId": "c68d3c0c-9c6f-4307-ee39-b3fb5f2706c6",
    "papermill": {
     "duration": 0.04886,
     "end_time": "2022-07-25T02:25:48.875894",
     "exception": false,
     "start_time": "2022-07-25T02:25:48.827034",
     "status": "completed"
    },
    "tags": []
   },
   "outputs": [
    {
     "data": {
      "text/html": [
       "<div>\n",
       "<style scoped>\n",
       "    .dataframe tbody tr th:only-of-type {\n",
       "        vertical-align: middle;\n",
       "    }\n",
       "\n",
       "    .dataframe tbody tr th {\n",
       "        vertical-align: top;\n",
       "    }\n",
       "\n",
       "    .dataframe thead th {\n",
       "        text-align: right;\n",
       "    }\n",
       "</style>\n",
       "<table border=\"1\" class=\"dataframe\">\n",
       "  <thead>\n",
       "    <tr style=\"text-align: right;\">\n",
       "      <th></th>\n",
       "      <th>location</th>\n",
       "      <th>continent</th>\n",
       "      <th>population</th>\n",
       "      <th>life_expectancy</th>\n",
       "      <th>hospital_beds_per_thousand</th>\n",
       "      <th>gdp_per_capita</th>\n",
       "    </tr>\n",
       "  </thead>\n",
       "  <tbody>\n",
       "    <tr>\n",
       "      <th>0</th>\n",
       "      <td>Afghanistan</td>\n",
       "      <td>Asia</td>\n",
       "      <td>38928341.0</td>\n",
       "      <td>64.83</td>\n",
       "      <td>0.50</td>\n",
       "      <td>1803.987</td>\n",
       "    </tr>\n",
       "    <tr>\n",
       "      <th>1</th>\n",
       "      <td>Albania</td>\n",
       "      <td>Europe</td>\n",
       "      <td>2877800.0</td>\n",
       "      <td>78.57</td>\n",
       "      <td>2.89</td>\n",
       "      <td>11803.431</td>\n",
       "    </tr>\n",
       "    <tr>\n",
       "      <th>2</th>\n",
       "      <td>Algeria</td>\n",
       "      <td>Africa</td>\n",
       "      <td>43851043.0</td>\n",
       "      <td>76.88</td>\n",
       "      <td>1.90</td>\n",
       "      <td>13913.839</td>\n",
       "    </tr>\n",
       "    <tr>\n",
       "      <th>3</th>\n",
       "      <td>Andorra</td>\n",
       "      <td>Europe</td>\n",
       "      <td>77265.0</td>\n",
       "      <td>83.73</td>\n",
       "      <td>NaN</td>\n",
       "      <td>NaN</td>\n",
       "    </tr>\n",
       "    <tr>\n",
       "      <th>4</th>\n",
       "      <td>Angola</td>\n",
       "      <td>Africa</td>\n",
       "      <td>32866268.0</td>\n",
       "      <td>61.15</td>\n",
       "      <td>NaN</td>\n",
       "      <td>5819.495</td>\n",
       "    </tr>\n",
       "    <tr>\n",
       "      <th>...</th>\n",
       "      <td>...</td>\n",
       "      <td>...</td>\n",
       "      <td>...</td>\n",
       "      <td>...</td>\n",
       "      <td>...</td>\n",
       "      <td>...</td>\n",
       "    </tr>\n",
       "    <tr>\n",
       "      <th>205</th>\n",
       "      <td>Vietnam</td>\n",
       "      <td>Asia</td>\n",
       "      <td>97338583.0</td>\n",
       "      <td>75.40</td>\n",
       "      <td>2.60</td>\n",
       "      <td>6171.884</td>\n",
       "    </tr>\n",
       "    <tr>\n",
       "      <th>206</th>\n",
       "      <td>Western Sahara</td>\n",
       "      <td>Africa</td>\n",
       "      <td>597330.0</td>\n",
       "      <td>70.26</td>\n",
       "      <td>NaN</td>\n",
       "      <td>NaN</td>\n",
       "    </tr>\n",
       "    <tr>\n",
       "      <th>207</th>\n",
       "      <td>Yemen</td>\n",
       "      <td>Asia</td>\n",
       "      <td>29825968.0</td>\n",
       "      <td>66.12</td>\n",
       "      <td>0.70</td>\n",
       "      <td>1479.147</td>\n",
       "    </tr>\n",
       "    <tr>\n",
       "      <th>208</th>\n",
       "      <td>Zambia</td>\n",
       "      <td>Africa</td>\n",
       "      <td>18383956.0</td>\n",
       "      <td>63.89</td>\n",
       "      <td>2.00</td>\n",
       "      <td>3689.251</td>\n",
       "    </tr>\n",
       "    <tr>\n",
       "      <th>209</th>\n",
       "      <td>Zimbabwe</td>\n",
       "      <td>Africa</td>\n",
       "      <td>14862927.0</td>\n",
       "      <td>61.49</td>\n",
       "      <td>1.70</td>\n",
       "      <td>1899.775</td>\n",
       "    </tr>\n",
       "  </tbody>\n",
       "</table>\n",
       "<p>210 rows × 6 columns</p>\n",
       "</div>"
      ],
      "text/plain": [
       "           location continent  population  life_expectancy  \\\n",
       "0       Afghanistan      Asia  38928341.0            64.83   \n",
       "1           Albania    Europe   2877800.0            78.57   \n",
       "2           Algeria    Africa  43851043.0            76.88   \n",
       "3           Andorra    Europe     77265.0            83.73   \n",
       "4            Angola    Africa  32866268.0            61.15   \n",
       "..              ...       ...         ...              ...   \n",
       "205         Vietnam      Asia  97338583.0            75.40   \n",
       "206  Western Sahara    Africa    597330.0            70.26   \n",
       "207           Yemen      Asia  29825968.0            66.12   \n",
       "208          Zambia    Africa  18383956.0            63.89   \n",
       "209        Zimbabwe    Africa  14862927.0            61.49   \n",
       "\n",
       "     hospital_beds_per_thousand  gdp_per_capita  \n",
       "0                          0.50        1803.987  \n",
       "1                          2.89       11803.431  \n",
       "2                          1.90       13913.839  \n",
       "3                           NaN             NaN  \n",
       "4                           NaN        5819.495  \n",
       "..                          ...             ...  \n",
       "205                        2.60        6171.884  \n",
       "206                         NaN             NaN  \n",
       "207                        0.70        1479.147  \n",
       "208                        2.00        3689.251  \n",
       "209                        1.70        1899.775  \n",
       "\n",
       "[210 rows x 6 columns]"
      ]
     },
     "execution_count": 7,
     "metadata": {},
     "output_type": "execute_result"
    }
   ],
   "source": [
    "countries_df"
   ]
  },
  {
   "cell_type": "markdown",
   "id": "505c1eae",
   "metadata": {
    "id": "qiimscVYjK4w",
    "papermill": {
     "duration": 0.018874,
     "end_time": "2022-07-25T02:25:48.914027",
     "exception": false,
     "start_time": "2022-07-25T02:25:48.895153",
     "status": "completed"
    },
    "tags": []
   },
   "source": [
    "**Q1: How many countries does the dataframe contain?**\n",
    "\n",
    "Hint: Use the `.shape` method."
   ]
  },
  {
   "cell_type": "code",
   "execution_count": 8,
   "id": "74087bde",
   "metadata": {
    "execution": {
     "iopub.execute_input": "2022-07-25T02:25:48.955680Z",
     "iopub.status.busy": "2022-07-25T02:25:48.954721Z",
     "iopub.status.idle": "2022-07-25T02:25:48.960660Z",
     "shell.execute_reply": "2022-07-25T02:25:48.959755Z"
    },
    "id": "p20ZEbVbjK4w",
    "papermill": {
     "duration": 0.029242,
     "end_time": "2022-07-25T02:25:48.962675",
     "exception": false,
     "start_time": "2022-07-25T02:25:48.933433",
     "status": "completed"
    },
    "tags": []
   },
   "outputs": [
    {
     "data": {
      "text/plain": [
       "210"
      ]
     },
     "execution_count": 8,
     "metadata": {},
     "output_type": "execute_result"
    }
   ],
   "source": [
    "num_countries = countries_df.shape[0]\n",
    "num_countries"
   ]
  },
  {
   "cell_type": "code",
   "execution_count": 9,
   "id": "1b3387af",
   "metadata": {
    "execution": {
     "iopub.execute_input": "2022-07-25T02:25:49.004009Z",
     "iopub.status.busy": "2022-07-25T02:25:49.003415Z",
     "iopub.status.idle": "2022-07-25T02:25:49.009261Z",
     "shell.execute_reply": "2022-07-25T02:25:49.008135Z"
    },
    "executionInfo": {
     "elapsed": 377,
     "status": "ok",
     "timestamp": 1657057490038,
     "user": {
      "displayName": "Eslam Ahmed",
      "userId": "17441472531449229406"
     },
     "user_tz": -120
    },
    "id": "qj1UYS8FjK4x",
    "outputId": "71cd0e6d-2fa7-4cf5-bcc2-1eb688f136dc",
    "papermill": {
     "duration": 0.030651,
     "end_time": "2022-07-25T02:25:49.012416",
     "exception": false,
     "start_time": "2022-07-25T02:25:48.981765",
     "status": "completed"
    },
    "tags": []
   },
   "outputs": [
    {
     "name": "stdout",
     "output_type": "stream",
     "text": [
      "There are 210 countries in the dataset\n"
     ]
    }
   ],
   "source": [
    "print('There are {} countries in the dataset'.format(num_countries))"
   ]
  },
  {
   "cell_type": "code",
   "execution_count": 10,
   "id": "67398c12",
   "metadata": {
    "execution": {
     "iopub.execute_input": "2022-07-25T02:25:49.055078Z",
     "iopub.status.busy": "2022-07-25T02:25:49.054380Z",
     "iopub.status.idle": "2022-07-25T02:25:49.058166Z",
     "shell.execute_reply": "2022-07-25T02:25:49.057386Z"
    },
    "executionInfo": {
     "elapsed": 1209,
     "status": "ok",
     "timestamp": 1657057491243,
     "user": {
      "displayName": "Eslam Ahmed",
      "userId": "17441472531449229406"
     },
     "user_tz": -120
    },
    "id": "fVXVjLUGjK4y",
    "outputId": "cc06af6b-b870-405d-93f8-d1b01ef35660",
    "papermill": {
     "duration": 0.027513,
     "end_time": "2022-07-25T02:25:49.060201",
     "exception": false,
     "start_time": "2022-07-25T02:25:49.032688",
     "status": "completed"
    },
    "tags": []
   },
   "outputs": [],
   "source": [
    "# jovian.commit(project='pandas-practice-assignment', environment=None)"
   ]
  },
  {
   "cell_type": "markdown",
   "id": "17f8efc9",
   "metadata": {
    "id": "B5BeUgL7jK4z",
    "papermill": {
     "duration": 0.019865,
     "end_time": "2022-07-25T02:25:49.099760",
     "exception": false,
     "start_time": "2022-07-25T02:25:49.079895",
     "status": "completed"
    },
    "tags": []
   },
   "source": [
    "**Q2: Retrieve a list of continents from the dataframe?**\n",
    "\n",
    "*Hint: Use the `.unique` method of a series.*"
   ]
  },
  {
   "cell_type": "code",
   "execution_count": 11,
   "id": "22215846",
   "metadata": {
    "execution": {
     "iopub.execute_input": "2022-07-25T02:25:49.140568Z",
     "iopub.status.busy": "2022-07-25T02:25:49.139903Z",
     "iopub.status.idle": "2022-07-25T02:25:49.149024Z",
     "shell.execute_reply": "2022-07-25T02:25:49.147613Z"
    },
    "executionInfo": {
     "elapsed": 10,
     "status": "ok",
     "timestamp": 1657057491243,
     "user": {
      "displayName": "Eslam Ahmed",
      "userId": "17441472531449229406"
     },
     "user_tz": -120
    },
    "id": "BvKLGSi8jK4z",
    "papermill": {
     "duration": 0.032241,
     "end_time": "2022-07-25T02:25:49.151516",
     "exception": false,
     "start_time": "2022-07-25T02:25:49.119275",
     "status": "completed"
    },
    "tags": []
   },
   "outputs": [],
   "source": [
    "continents = countries_df.continent"
   ]
  },
  {
   "cell_type": "code",
   "execution_count": 12,
   "id": "15c4dd2b",
   "metadata": {
    "execution": {
     "iopub.execute_input": "2022-07-25T02:25:49.191848Z",
     "iopub.status.busy": "2022-07-25T02:25:49.191488Z",
     "iopub.status.idle": "2022-07-25T02:25:49.201309Z",
     "shell.execute_reply": "2022-07-25T02:25:49.200088Z"
    },
    "executionInfo": {
     "elapsed": 10,
     "status": "ok",
     "timestamp": 1657057491244,
     "user": {
      "displayName": "Eslam Ahmed",
      "userId": "17441472531449229406"
     },
     "user_tz": -120
    },
    "id": "WZRD-qPhjK40",
    "outputId": "e40e5a42-09e4-41c0-b58b-d5bca036149a",
    "papermill": {
     "duration": 0.032493,
     "end_time": "2022-07-25T02:25:49.203536",
     "exception": false,
     "start_time": "2022-07-25T02:25:49.171043",
     "status": "completed"
    },
    "tags": []
   },
   "outputs": [
    {
     "data": {
      "text/plain": [
       "array(['Asia', 'Europe', 'Africa', 'North America', 'South America',\n",
       "       'Oceania'], dtype=object)"
      ]
     },
     "execution_count": 12,
     "metadata": {},
     "output_type": "execute_result"
    }
   ],
   "source": [
    "continents.unique()"
   ]
  },
  {
   "cell_type": "code",
   "execution_count": 13,
   "id": "852f4965",
   "metadata": {
    "execution": {
     "iopub.execute_input": "2022-07-25T02:25:49.244294Z",
     "iopub.status.busy": "2022-07-25T02:25:49.243742Z",
     "iopub.status.idle": "2022-07-25T02:25:49.248470Z",
     "shell.execute_reply": "2022-07-25T02:25:49.247393Z"
    },
    "executionInfo": {
     "elapsed": 2754,
     "status": "ok",
     "timestamp": 1657057493991,
     "user": {
      "displayName": "Eslam Ahmed",
      "userId": "17441472531449229406"
     },
     "user_tz": -120
    },
    "id": "7-RmQGYLjK40",
    "outputId": "8c35d1a7-c02a-48e6-921f-ab40daf7fecd",
    "papermill": {
     "duration": 0.027656,
     "end_time": "2022-07-25T02:25:49.250579",
     "exception": false,
     "start_time": "2022-07-25T02:25:49.222923",
     "status": "completed"
    },
    "tags": []
   },
   "outputs": [],
   "source": [
    "# jovian.commit(project='pandas-practice-assignment', environment=None)"
   ]
  },
  {
   "cell_type": "markdown",
   "id": "f27e7e07",
   "metadata": {
    "id": "31nIg-iWjK40",
    "papermill": {
     "duration": 0.018965,
     "end_time": "2022-07-25T02:25:49.288872",
     "exception": false,
     "start_time": "2022-07-25T02:25:49.269907",
     "status": "completed"
    },
    "tags": []
   },
   "source": [
    "**Q3: What is the total population of all the countries listed in this dataset?**"
   ]
  },
  {
   "cell_type": "code",
   "execution_count": 14,
   "id": "17604182",
   "metadata": {
    "execution": {
     "iopub.execute_input": "2022-07-25T02:25:49.329068Z",
     "iopub.status.busy": "2022-07-25T02:25:49.328665Z",
     "iopub.status.idle": "2022-07-25T02:25:49.334213Z",
     "shell.execute_reply": "2022-07-25T02:25:49.332866Z"
    },
    "executionInfo": {
     "elapsed": 10,
     "status": "ok",
     "timestamp": 1657057493992,
     "user": {
      "displayName": "Eslam Ahmed",
      "userId": "17441472531449229406"
     },
     "user_tz": -120
    },
    "id": "P1OF3e9GjK41",
    "papermill": {
     "duration": 0.028335,
     "end_time": "2022-07-25T02:25:49.336551",
     "exception": false,
     "start_time": "2022-07-25T02:25:49.308216",
     "status": "completed"
    },
    "tags": []
   },
   "outputs": [],
   "source": [
    "total_population = countries_df.population.sum()"
   ]
  },
  {
   "cell_type": "code",
   "execution_count": 15,
   "id": "74edb4e7",
   "metadata": {
    "execution": {
     "iopub.execute_input": "2022-07-25T02:25:49.377287Z",
     "iopub.status.busy": "2022-07-25T02:25:49.376871Z",
     "iopub.status.idle": "2022-07-25T02:25:49.383121Z",
     "shell.execute_reply": "2022-07-25T02:25:49.381687Z"
    },
    "executionInfo": {
     "elapsed": 10,
     "status": "ok",
     "timestamp": 1657057493992,
     "user": {
      "displayName": "Eslam Ahmed",
      "userId": "17441472531449229406"
     },
     "user_tz": -120
    },
    "id": "LV0G-zXEjK41",
    "outputId": "60a972a1-2465-4032-8e46-bebd8d29f049",
    "papermill": {
     "duration": 0.029204,
     "end_time": "2022-07-25T02:25:49.385421",
     "exception": false,
     "start_time": "2022-07-25T02:25:49.356217",
     "status": "completed"
    },
    "tags": []
   },
   "outputs": [
    {
     "name": "stdout",
     "output_type": "stream",
     "text": [
      "The total population is 7757980095.\n"
     ]
    }
   ],
   "source": [
    "print('The total population is {}.'.format(int(total_population)))"
   ]
  },
  {
   "cell_type": "code",
   "execution_count": 16,
   "id": "56dc4dbf",
   "metadata": {
    "execution": {
     "iopub.execute_input": "2022-07-25T02:25:49.426489Z",
     "iopub.status.busy": "2022-07-25T02:25:49.425444Z",
     "iopub.status.idle": "2022-07-25T02:25:49.429705Z",
     "shell.execute_reply": "2022-07-25T02:25:49.428781Z"
    },
    "executionInfo": {
     "elapsed": 1778,
     "status": "ok",
     "timestamp": 1657057495762,
     "user": {
      "displayName": "Eslam Ahmed",
      "userId": "17441472531449229406"
     },
     "user_tz": -120
    },
    "id": "H1Ey8XeGjK41",
    "outputId": "6fd408bb-b0a9-40ed-c608-ec1b95a7c410",
    "papermill": {
     "duration": 0.026915,
     "end_time": "2022-07-25T02:25:49.431793",
     "exception": false,
     "start_time": "2022-07-25T02:25:49.404878",
     "status": "completed"
    },
    "tags": []
   },
   "outputs": [],
   "source": [
    "# jovian.commit(project='pandas-practice-assignment', environment=None)"
   ]
  },
  {
   "cell_type": "markdown",
   "id": "9452b244",
   "metadata": {
    "id": "85tU44oMjK41",
    "papermill": {
     "duration": 0.019429,
     "end_time": "2022-07-25T02:25:49.471718",
     "exception": false,
     "start_time": "2022-07-25T02:25:49.452289",
     "status": "completed"
    },
    "tags": []
   },
   "source": [
    "**Q: (Optional) What is the overall life expectancy across in the world?**\n",
    "\n",
    "*Hint: You'll need to take a weighted average of life expectancy using populations as weights.*"
   ]
  },
  {
   "cell_type": "code",
   "execution_count": 17,
   "id": "cb3726eb",
   "metadata": {
    "execution": {
     "iopub.execute_input": "2022-07-25T02:25:49.514112Z",
     "iopub.status.busy": "2022-07-25T02:25:49.513546Z",
     "iopub.status.idle": "2022-07-25T02:25:49.519171Z",
     "shell.execute_reply": "2022-07-25T02:25:49.517787Z"
    },
    "executionInfo": {
     "elapsed": 11,
     "status": "ok",
     "timestamp": 1657057495762,
     "user": {
      "displayName": "Eslam Ahmed",
      "userId": "17441472531449229406"
     },
     "user_tz": -120
    },
    "id": "5TBOSW0EjK42",
    "papermill": {
     "duration": 0.030741,
     "end_time": "2022-07-25T02:25:49.521836",
     "exception": false,
     "start_time": "2022-07-25T02:25:49.491095",
     "status": "completed"
    },
    "tags": []
   },
   "outputs": [],
   "source": [
    "average_age = countries_df.life_expectancy.mean()"
   ]
  },
  {
   "cell_type": "code",
   "execution_count": 18,
   "id": "ed7a6e0b",
   "metadata": {
    "execution": {
     "iopub.execute_input": "2022-07-25T02:25:49.563512Z",
     "iopub.status.busy": "2022-07-25T02:25:49.563131Z",
     "iopub.status.idle": "2022-07-25T02:25:49.568181Z",
     "shell.execute_reply": "2022-07-25T02:25:49.566854Z"
    },
    "executionInfo": {
     "elapsed": 11,
     "status": "ok",
     "timestamp": 1657057495763,
     "user": {
      "displayName": "Eslam Ahmed",
      "userId": "17441472531449229406"
     },
     "user_tz": -120
    },
    "id": "FtgySPUujK42",
    "outputId": "1b80c9ef-02d8-49be-b71a-81337c65773d",
    "papermill": {
     "duration": 0.028659,
     "end_time": "2022-07-25T02:25:49.570509",
     "exception": false,
     "start_time": "2022-07-25T02:25:49.541850",
     "status": "completed"
    },
    "tags": []
   },
   "outputs": [
    {
     "name": "stdout",
     "output_type": "stream",
     "text": [
      "Life Expectancy is 73.\n"
     ]
    }
   ],
   "source": [
    "average_age\n",
    "print('Life Expectancy is {}.'.format(int(average_age)))"
   ]
  },
  {
   "cell_type": "code",
   "execution_count": 19,
   "id": "0d2d5646",
   "metadata": {
    "execution": {
     "iopub.execute_input": "2022-07-25T02:25:49.611673Z",
     "iopub.status.busy": "2022-07-25T02:25:49.611290Z",
     "iopub.status.idle": "2022-07-25T02:25:49.615766Z",
     "shell.execute_reply": "2022-07-25T02:25:49.614680Z"
    },
    "executionInfo": {
     "elapsed": 2106,
     "status": "ok",
     "timestamp": 1657057497861,
     "user": {
      "displayName": "Eslam Ahmed",
      "userId": "17441472531449229406"
     },
     "user_tz": -120
    },
    "id": "agrPgrlFjK42",
    "outputId": "6f4027f2-fbc6-4db0-d5b3-d0c1c9c09a46",
    "papermill": {
     "duration": 0.027466,
     "end_time": "2022-07-25T02:25:49.617951",
     "exception": false,
     "start_time": "2022-07-25T02:25:49.590485",
     "status": "completed"
    },
    "tags": []
   },
   "outputs": [],
   "source": [
    "# jovian.commit(project='pandas-practice-assignment', environment=None)"
   ]
  },
  {
   "cell_type": "markdown",
   "id": "b16eac46",
   "metadata": {
    "id": "BjmTOaBUjK43",
    "papermill": {
     "duration": 0.019243,
     "end_time": "2022-07-25T02:25:49.657203",
     "exception": false,
     "start_time": "2022-07-25T02:25:49.637960",
     "status": "completed"
    },
    "tags": []
   },
   "source": [
    "**Q4: Create a dataframe containing 10 countries with the highest population.**\n",
    "\n",
    "*Hint: Chain the `sort_values` and `head` methods.*"
   ]
  },
  {
   "cell_type": "code",
   "execution_count": 20,
   "id": "4975b01b",
   "metadata": {
    "execution": {
     "iopub.execute_input": "2022-07-25T02:25:49.698071Z",
     "iopub.status.busy": "2022-07-25T02:25:49.697712Z",
     "iopub.status.idle": "2022-07-25T02:25:49.707992Z",
     "shell.execute_reply": "2022-07-25T02:25:49.706768Z"
    },
    "executionInfo": {
     "elapsed": 12,
     "status": "ok",
     "timestamp": 1657057497862,
     "user": {
      "displayName": "Eslam Ahmed",
      "userId": "17441472531449229406"
     },
     "user_tz": -120
    },
    "id": "sneuIe9DjK43",
    "papermill": {
     "duration": 0.033542,
     "end_time": "2022-07-25T02:25:49.710180",
     "exception": false,
     "start_time": "2022-07-25T02:25:49.676638",
     "status": "completed"
    },
    "tags": []
   },
   "outputs": [],
   "source": [
    "most_populous_df = countries_df.sort_values(['population'],ascending=False)[['location','population']].head(10)"
   ]
  },
  {
   "cell_type": "code",
   "execution_count": 21,
   "id": "96dc04a5",
   "metadata": {
    "execution": {
     "iopub.execute_input": "2022-07-25T02:25:49.751155Z",
     "iopub.status.busy": "2022-07-25T02:25:49.750779Z",
     "iopub.status.idle": "2022-07-25T02:25:49.762189Z",
     "shell.execute_reply": "2022-07-25T02:25:49.761004Z"
    },
    "executionInfo": {
     "elapsed": 12,
     "status": "ok",
     "timestamp": 1657057497863,
     "user": {
      "displayName": "Eslam Ahmed",
      "userId": "17441472531449229406"
     },
     "user_tz": -120
    },
    "id": "ryNZ38QrjK43",
    "outputId": "6b7cc32c-7e25-4df6-a7d8-c55e0cb19508",
    "papermill": {
     "duration": 0.034472,
     "end_time": "2022-07-25T02:25:49.764305",
     "exception": false,
     "start_time": "2022-07-25T02:25:49.729833",
     "status": "completed"
    },
    "tags": []
   },
   "outputs": [
    {
     "data": {
      "text/html": [
       "<div>\n",
       "<style scoped>\n",
       "    .dataframe tbody tr th:only-of-type {\n",
       "        vertical-align: middle;\n",
       "    }\n",
       "\n",
       "    .dataframe tbody tr th {\n",
       "        vertical-align: top;\n",
       "    }\n",
       "\n",
       "    .dataframe thead th {\n",
       "        text-align: right;\n",
       "    }\n",
       "</style>\n",
       "<table border=\"1\" class=\"dataframe\">\n",
       "  <thead>\n",
       "    <tr style=\"text-align: right;\">\n",
       "      <th></th>\n",
       "      <th>location</th>\n",
       "      <th>population</th>\n",
       "    </tr>\n",
       "  </thead>\n",
       "  <tbody>\n",
       "    <tr>\n",
       "      <th>41</th>\n",
       "      <td>China</td>\n",
       "      <td>1.439324e+09</td>\n",
       "    </tr>\n",
       "    <tr>\n",
       "      <th>90</th>\n",
       "      <td>India</td>\n",
       "      <td>1.380004e+09</td>\n",
       "    </tr>\n",
       "    <tr>\n",
       "      <th>199</th>\n",
       "      <td>United States</td>\n",
       "      <td>3.310026e+08</td>\n",
       "    </tr>\n",
       "    <tr>\n",
       "      <th>91</th>\n",
       "      <td>Indonesia</td>\n",
       "      <td>2.735236e+08</td>\n",
       "    </tr>\n",
       "    <tr>\n",
       "      <th>145</th>\n",
       "      <td>Pakistan</td>\n",
       "      <td>2.208923e+08</td>\n",
       "    </tr>\n",
       "    <tr>\n",
       "      <th>27</th>\n",
       "      <td>Brazil</td>\n",
       "      <td>2.125594e+08</td>\n",
       "    </tr>\n",
       "    <tr>\n",
       "      <th>141</th>\n",
       "      <td>Nigeria</td>\n",
       "      <td>2.061396e+08</td>\n",
       "    </tr>\n",
       "    <tr>\n",
       "      <th>15</th>\n",
       "      <td>Bangladesh</td>\n",
       "      <td>1.646894e+08</td>\n",
       "    </tr>\n",
       "    <tr>\n",
       "      <th>157</th>\n",
       "      <td>Russia</td>\n",
       "      <td>1.459345e+08</td>\n",
       "    </tr>\n",
       "    <tr>\n",
       "      <th>125</th>\n",
       "      <td>Mexico</td>\n",
       "      <td>1.289328e+08</td>\n",
       "    </tr>\n",
       "  </tbody>\n",
       "</table>\n",
       "</div>"
      ],
      "text/plain": [
       "          location    population\n",
       "41           China  1.439324e+09\n",
       "90           India  1.380004e+09\n",
       "199  United States  3.310026e+08\n",
       "91       Indonesia  2.735236e+08\n",
       "145       Pakistan  2.208923e+08\n",
       "27          Brazil  2.125594e+08\n",
       "141        Nigeria  2.061396e+08\n",
       "15      Bangladesh  1.646894e+08\n",
       "157         Russia  1.459345e+08\n",
       "125         Mexico  1.289328e+08"
      ]
     },
     "execution_count": 21,
     "metadata": {},
     "output_type": "execute_result"
    }
   ],
   "source": [
    "most_populous_df"
   ]
  },
  {
   "cell_type": "code",
   "execution_count": 22,
   "id": "84c0b1a9",
   "metadata": {
    "execution": {
     "iopub.execute_input": "2022-07-25T02:25:49.805584Z",
     "iopub.status.busy": "2022-07-25T02:25:49.805193Z",
     "iopub.status.idle": "2022-07-25T02:25:49.809177Z",
     "shell.execute_reply": "2022-07-25T02:25:49.808047Z"
    },
    "executionInfo": {
     "elapsed": 2746,
     "status": "ok",
     "timestamp": 1657057500598,
     "user": {
      "displayName": "Eslam Ahmed",
      "userId": "17441472531449229406"
     },
     "user_tz": -120
    },
    "id": "PAVfjaxTjK43",
    "outputId": "cc5fbb08-9eeb-4fbe-d4b8-9d311653d7e8",
    "papermill": {
     "duration": 0.027105,
     "end_time": "2022-07-25T02:25:49.811237",
     "exception": false,
     "start_time": "2022-07-25T02:25:49.784132",
     "status": "completed"
    },
    "tags": []
   },
   "outputs": [],
   "source": [
    "# jovian.commit(project='pandas-practice-assignment', environment=None)"
   ]
  },
  {
   "cell_type": "markdown",
   "id": "174fc028",
   "metadata": {
    "id": "e3C72ho_jK43",
    "papermill": {
     "duration": 0.019598,
     "end_time": "2022-07-25T02:25:49.850850",
     "exception": false,
     "start_time": "2022-07-25T02:25:49.831252",
     "status": "completed"
    },
    "tags": []
   },
   "source": [
    "**Q5: Add a new column in `countries_df` to record the overall GDP per country (product of population & per capita GDP).**\n",
    "\n"
   ]
  },
  {
   "cell_type": "code",
   "execution_count": 23,
   "id": "5d7fc3bd",
   "metadata": {
    "execution": {
     "iopub.execute_input": "2022-07-25T02:25:49.893471Z",
     "iopub.status.busy": "2022-07-25T02:25:49.893069Z",
     "iopub.status.idle": "2022-07-25T02:25:49.899062Z",
     "shell.execute_reply": "2022-07-25T02:25:49.897874Z"
    },
    "executionInfo": {
     "elapsed": 16,
     "status": "ok",
     "timestamp": 1657057500599,
     "user": {
      "displayName": "Eslam Ahmed",
      "userId": "17441472531449229406"
     },
     "user_tz": -120
    },
    "id": "6EFn9x5WjK44",
    "papermill": {
     "duration": 0.030217,
     "end_time": "2022-07-25T02:25:49.901242",
     "exception": false,
     "start_time": "2022-07-25T02:25:49.871025",
     "status": "completed"
    },
    "tags": []
   },
   "outputs": [],
   "source": [
    "countries_df['gdp'] = countries_df.population * countries_df.gdp_per_capita"
   ]
  },
  {
   "cell_type": "code",
   "execution_count": 24,
   "id": "12b10ffa",
   "metadata": {
    "execution": {
     "iopub.execute_input": "2022-07-25T02:25:49.943403Z",
     "iopub.status.busy": "2022-07-25T02:25:49.942561Z",
     "iopub.status.idle": "2022-07-25T02:25:49.961747Z",
     "shell.execute_reply": "2022-07-25T02:25:49.960638Z"
    },
    "executionInfo": {
     "elapsed": 16,
     "status": "ok",
     "timestamp": 1657057500599,
     "user": {
      "displayName": "Eslam Ahmed",
      "userId": "17441472531449229406"
     },
     "user_tz": -120
    },
    "id": "WNnFzGj_jK44",
    "outputId": "31cb9a7e-16d5-478b-d1ef-28f7606b27e3",
    "papermill": {
     "duration": 0.042665,
     "end_time": "2022-07-25T02:25:49.963937",
     "exception": false,
     "start_time": "2022-07-25T02:25:49.921272",
     "status": "completed"
    },
    "tags": []
   },
   "outputs": [
    {
     "data": {
      "text/html": [
       "<div>\n",
       "<style scoped>\n",
       "    .dataframe tbody tr th:only-of-type {\n",
       "        vertical-align: middle;\n",
       "    }\n",
       "\n",
       "    .dataframe tbody tr th {\n",
       "        vertical-align: top;\n",
       "    }\n",
       "\n",
       "    .dataframe thead th {\n",
       "        text-align: right;\n",
       "    }\n",
       "</style>\n",
       "<table border=\"1\" class=\"dataframe\">\n",
       "  <thead>\n",
       "    <tr style=\"text-align: right;\">\n",
       "      <th></th>\n",
       "      <th>location</th>\n",
       "      <th>continent</th>\n",
       "      <th>population</th>\n",
       "      <th>life_expectancy</th>\n",
       "      <th>hospital_beds_per_thousand</th>\n",
       "      <th>gdp_per_capita</th>\n",
       "      <th>gdp</th>\n",
       "    </tr>\n",
       "  </thead>\n",
       "  <tbody>\n",
       "    <tr>\n",
       "      <th>0</th>\n",
       "      <td>Afghanistan</td>\n",
       "      <td>Asia</td>\n",
       "      <td>38928341.0</td>\n",
       "      <td>64.83</td>\n",
       "      <td>0.50</td>\n",
       "      <td>1803.987</td>\n",
       "      <td>7.022622e+10</td>\n",
       "    </tr>\n",
       "    <tr>\n",
       "      <th>1</th>\n",
       "      <td>Albania</td>\n",
       "      <td>Europe</td>\n",
       "      <td>2877800.0</td>\n",
       "      <td>78.57</td>\n",
       "      <td>2.89</td>\n",
       "      <td>11803.431</td>\n",
       "      <td>3.396791e+10</td>\n",
       "    </tr>\n",
       "    <tr>\n",
       "      <th>2</th>\n",
       "      <td>Algeria</td>\n",
       "      <td>Africa</td>\n",
       "      <td>43851043.0</td>\n",
       "      <td>76.88</td>\n",
       "      <td>1.90</td>\n",
       "      <td>13913.839</td>\n",
       "      <td>6.101364e+11</td>\n",
       "    </tr>\n",
       "    <tr>\n",
       "      <th>3</th>\n",
       "      <td>Andorra</td>\n",
       "      <td>Europe</td>\n",
       "      <td>77265.0</td>\n",
       "      <td>83.73</td>\n",
       "      <td>NaN</td>\n",
       "      <td>NaN</td>\n",
       "      <td>NaN</td>\n",
       "    </tr>\n",
       "    <tr>\n",
       "      <th>4</th>\n",
       "      <td>Angola</td>\n",
       "      <td>Africa</td>\n",
       "      <td>32866268.0</td>\n",
       "      <td>61.15</td>\n",
       "      <td>NaN</td>\n",
       "      <td>5819.495</td>\n",
       "      <td>1.912651e+11</td>\n",
       "    </tr>\n",
       "    <tr>\n",
       "      <th>...</th>\n",
       "      <td>...</td>\n",
       "      <td>...</td>\n",
       "      <td>...</td>\n",
       "      <td>...</td>\n",
       "      <td>...</td>\n",
       "      <td>...</td>\n",
       "      <td>...</td>\n",
       "    </tr>\n",
       "    <tr>\n",
       "      <th>205</th>\n",
       "      <td>Vietnam</td>\n",
       "      <td>Asia</td>\n",
       "      <td>97338583.0</td>\n",
       "      <td>75.40</td>\n",
       "      <td>2.60</td>\n",
       "      <td>6171.884</td>\n",
       "      <td>6.007624e+11</td>\n",
       "    </tr>\n",
       "    <tr>\n",
       "      <th>206</th>\n",
       "      <td>Western Sahara</td>\n",
       "      <td>Africa</td>\n",
       "      <td>597330.0</td>\n",
       "      <td>70.26</td>\n",
       "      <td>NaN</td>\n",
       "      <td>NaN</td>\n",
       "      <td>NaN</td>\n",
       "    </tr>\n",
       "    <tr>\n",
       "      <th>207</th>\n",
       "      <td>Yemen</td>\n",
       "      <td>Asia</td>\n",
       "      <td>29825968.0</td>\n",
       "      <td>66.12</td>\n",
       "      <td>0.70</td>\n",
       "      <td>1479.147</td>\n",
       "      <td>4.411699e+10</td>\n",
       "    </tr>\n",
       "    <tr>\n",
       "      <th>208</th>\n",
       "      <td>Zambia</td>\n",
       "      <td>Africa</td>\n",
       "      <td>18383956.0</td>\n",
       "      <td>63.89</td>\n",
       "      <td>2.00</td>\n",
       "      <td>3689.251</td>\n",
       "      <td>6.782303e+10</td>\n",
       "    </tr>\n",
       "    <tr>\n",
       "      <th>209</th>\n",
       "      <td>Zimbabwe</td>\n",
       "      <td>Africa</td>\n",
       "      <td>14862927.0</td>\n",
       "      <td>61.49</td>\n",
       "      <td>1.70</td>\n",
       "      <td>1899.775</td>\n",
       "      <td>2.823622e+10</td>\n",
       "    </tr>\n",
       "  </tbody>\n",
       "</table>\n",
       "<p>210 rows × 7 columns</p>\n",
       "</div>"
      ],
      "text/plain": [
       "           location continent  population  life_expectancy  \\\n",
       "0       Afghanistan      Asia  38928341.0            64.83   \n",
       "1           Albania    Europe   2877800.0            78.57   \n",
       "2           Algeria    Africa  43851043.0            76.88   \n",
       "3           Andorra    Europe     77265.0            83.73   \n",
       "4            Angola    Africa  32866268.0            61.15   \n",
       "..              ...       ...         ...              ...   \n",
       "205         Vietnam      Asia  97338583.0            75.40   \n",
       "206  Western Sahara    Africa    597330.0            70.26   \n",
       "207           Yemen      Asia  29825968.0            66.12   \n",
       "208          Zambia    Africa  18383956.0            63.89   \n",
       "209        Zimbabwe    Africa  14862927.0            61.49   \n",
       "\n",
       "     hospital_beds_per_thousand  gdp_per_capita           gdp  \n",
       "0                          0.50        1803.987  7.022622e+10  \n",
       "1                          2.89       11803.431  3.396791e+10  \n",
       "2                          1.90       13913.839  6.101364e+11  \n",
       "3                           NaN             NaN           NaN  \n",
       "4                           NaN        5819.495  1.912651e+11  \n",
       "..                          ...             ...           ...  \n",
       "205                        2.60        6171.884  6.007624e+11  \n",
       "206                         NaN             NaN           NaN  \n",
       "207                        0.70        1479.147  4.411699e+10  \n",
       "208                        2.00        3689.251  6.782303e+10  \n",
       "209                        1.70        1899.775  2.823622e+10  \n",
       "\n",
       "[210 rows x 7 columns]"
      ]
     },
     "execution_count": 24,
     "metadata": {},
     "output_type": "execute_result"
    }
   ],
   "source": [
    "countries_df"
   ]
  },
  {
   "cell_type": "code",
   "execution_count": 25,
   "id": "45c2c29f",
   "metadata": {
    "execution": {
     "iopub.execute_input": "2022-07-25T02:25:50.006610Z",
     "iopub.status.busy": "2022-07-25T02:25:50.006207Z",
     "iopub.status.idle": "2022-07-25T02:25:50.010024Z",
     "shell.execute_reply": "2022-07-25T02:25:50.009177Z"
    },
    "executionInfo": {
     "elapsed": 2427,
     "status": "ok",
     "timestamp": 1657057503011,
     "user": {
      "displayName": "Eslam Ahmed",
      "userId": "17441472531449229406"
     },
     "user_tz": -120
    },
    "id": "8Gwo8_wujK44",
    "outputId": "3e25f846-5e93-4026-d920-f0f87827de02",
    "papermill": {
     "duration": 0.027537,
     "end_time": "2022-07-25T02:25:50.012056",
     "exception": false,
     "start_time": "2022-07-25T02:25:49.984519",
     "status": "completed"
    },
    "tags": []
   },
   "outputs": [],
   "source": [
    "# jovian.commit(project='pandas-practice-assignment', environment=None)"
   ]
  },
  {
   "cell_type": "markdown",
   "id": "409f8853",
   "metadata": {
    "id": "lh7n04cijK45",
    "papermill": {
     "duration": 0.019785,
     "end_time": "2022-07-25T02:25:50.052804",
     "exception": false,
     "start_time": "2022-07-25T02:25:50.033019",
     "status": "completed"
    },
    "tags": []
   },
   "source": [
    "**Q: (Optional) Create a dataframe containing 10 countries with the lowest GDP per capita, among the counties with population greater than 100 million.**"
   ]
  },
  {
   "cell_type": "code",
   "execution_count": 26,
   "id": "03e3ae75",
   "metadata": {
    "execution": {
     "iopub.execute_input": "2022-07-25T02:25:50.096601Z",
     "iopub.status.busy": "2022-07-25T02:25:50.095449Z",
     "iopub.status.idle": "2022-07-25T02:25:50.103772Z",
     "shell.execute_reply": "2022-07-25T02:25:50.102653Z"
    },
    "executionInfo": {
     "elapsed": 11,
     "status": "ok",
     "timestamp": 1657057503012,
     "user": {
      "displayName": "Eslam Ahmed",
      "userId": "17441472531449229406"
     },
     "user_tz": -120
    },
    "id": "yzBGsl0RjK45",
    "papermill": {
     "duration": 0.032478,
     "end_time": "2022-07-25T02:25:50.106211",
     "exception": false,
     "start_time": "2022-07-25T02:25:50.073733",
     "status": "completed"
    },
    "tags": []
   },
   "outputs": [],
   "source": [
    "lowest_gdp = countries_df.sort_values(['gdp'],ascending=True)[['location','gdp']]"
   ]
  },
  {
   "cell_type": "code",
   "execution_count": 27,
   "id": "5409135e",
   "metadata": {
    "execution": {
     "iopub.execute_input": "2022-07-25T02:25:50.150309Z",
     "iopub.status.busy": "2022-07-25T02:25:50.149962Z",
     "iopub.status.idle": "2022-07-25T02:25:50.159812Z",
     "shell.execute_reply": "2022-07-25T02:25:50.158994Z"
    },
    "executionInfo": {
     "elapsed": 11,
     "status": "ok",
     "timestamp": 1657057503013,
     "user": {
      "displayName": "Eslam Ahmed",
      "userId": "17441472531449229406"
     },
     "user_tz": -120
    },
    "id": "lGz8oXRvjK45",
    "outputId": "ba6285d3-5cc2-4d6e-d125-4be2ea4db31d",
    "papermill": {
     "duration": 0.033742,
     "end_time": "2022-07-25T02:25:50.161839",
     "exception": false,
     "start_time": "2022-07-25T02:25:50.128097",
     "status": "completed"
    },
    "tags": []
   },
   "outputs": [
    {
     "data": {
      "text/html": [
       "<div>\n",
       "<style scoped>\n",
       "    .dataframe tbody tr th:only-of-type {\n",
       "        vertical-align: middle;\n",
       "    }\n",
       "\n",
       "    .dataframe tbody tr th {\n",
       "        vertical-align: top;\n",
       "    }\n",
       "\n",
       "    .dataframe thead th {\n",
       "        text-align: right;\n",
       "    }\n",
       "</style>\n",
       "<table border=\"1\" class=\"dataframe\">\n",
       "  <thead>\n",
       "    <tr style=\"text-align: right;\">\n",
       "      <th></th>\n",
       "      <th>location</th>\n",
       "      <th>gdp</th>\n",
       "    </tr>\n",
       "  </thead>\n",
       "  <tbody>\n",
       "    <tr>\n",
       "      <th>163</th>\n",
       "      <td>Sao Tome and Principe</td>\n",
       "      <td>6.690359e+08</td>\n",
       "    </tr>\n",
       "    <tr>\n",
       "      <th>55</th>\n",
       "      <td>Dominica</td>\n",
       "      <td>6.963954e+08</td>\n",
       "    </tr>\n",
       "    <tr>\n",
       "      <th>161</th>\n",
       "      <td>Saint Vincent and the Grenadines</td>\n",
       "      <td>1.190145e+09</td>\n",
       "    </tr>\n",
       "    <tr>\n",
       "      <th>43</th>\n",
       "      <td>Comoros</td>\n",
       "      <td>1.229512e+09</td>\n",
       "    </tr>\n",
       "    <tr>\n",
       "      <th>159</th>\n",
       "      <td>Saint Kitts and Nevis</td>\n",
       "      <td>1.311416e+09</td>\n",
       "    </tr>\n",
       "    <tr>\n",
       "      <th>78</th>\n",
       "      <td>Grenada</td>\n",
       "      <td>1.529569e+09</td>\n",
       "    </tr>\n",
       "    <tr>\n",
       "      <th>170</th>\n",
       "      <td>Sint Maarten (Dutch part)</td>\n",
       "      <td>1.557784e+09</td>\n",
       "    </tr>\n",
       "    <tr>\n",
       "      <th>162</th>\n",
       "      <td>San Marino</td>\n",
       "      <td>1.929765e+09</td>\n",
       "    </tr>\n",
       "    <tr>\n",
       "      <th>6</th>\n",
       "      <td>Antigua and Barbuda</td>\n",
       "      <td>2.104565e+09</td>\n",
       "    </tr>\n",
       "    <tr>\n",
       "      <th>160</th>\n",
       "      <td>Saint Lucia</td>\n",
       "      <td>2.378333e+09</td>\n",
       "    </tr>\n",
       "  </tbody>\n",
       "</table>\n",
       "</div>"
      ],
      "text/plain": [
       "                             location           gdp\n",
       "163             Sao Tome and Principe  6.690359e+08\n",
       "55                           Dominica  6.963954e+08\n",
       "161  Saint Vincent and the Grenadines  1.190145e+09\n",
       "43                            Comoros  1.229512e+09\n",
       "159             Saint Kitts and Nevis  1.311416e+09\n",
       "78                            Grenada  1.529569e+09\n",
       "170         Sint Maarten (Dutch part)  1.557784e+09\n",
       "162                        San Marino  1.929765e+09\n",
       "6                 Antigua and Barbuda  2.104565e+09\n",
       "160                       Saint Lucia  2.378333e+09"
      ]
     },
     "execution_count": 27,
     "metadata": {},
     "output_type": "execute_result"
    }
   ],
   "source": [
    "lowest_gdp.head(10)"
   ]
  },
  {
   "cell_type": "code",
   "execution_count": 28,
   "id": "32eeb792",
   "metadata": {
    "execution": {
     "iopub.execute_input": "2022-07-25T02:25:50.205466Z",
     "iopub.status.busy": "2022-07-25T02:25:50.205039Z",
     "iopub.status.idle": "2022-07-25T02:25:50.209952Z",
     "shell.execute_reply": "2022-07-25T02:25:50.208781Z"
    },
    "executionInfo": {
     "elapsed": 2110,
     "status": "ok",
     "timestamp": 1657057505113,
     "user": {
      "displayName": "Eslam Ahmed",
      "userId": "17441472531449229406"
     },
     "user_tz": -120
    },
    "id": "ghkSUrKxjK45",
    "outputId": "2244841f-4852-45fb-af64-c75a9f5f5d24",
    "papermill": {
     "duration": 0.029916,
     "end_time": "2022-07-25T02:25:50.212446",
     "exception": false,
     "start_time": "2022-07-25T02:25:50.182530",
     "status": "completed"
    },
    "tags": []
   },
   "outputs": [],
   "source": [
    "# jovian.commit(project='pandas-practice-assignment', environment=None)"
   ]
  },
  {
   "cell_type": "markdown",
   "id": "f7748bc8",
   "metadata": {
    "id": "rMF6J93NjK45",
    "papermill": {
     "duration": 0.020095,
     "end_time": "2022-07-25T02:25:50.253196",
     "exception": false,
     "start_time": "2022-07-25T02:25:50.233101",
     "status": "completed"
    },
    "tags": []
   },
   "source": [
    "**Q6: Create a data frame that counts the number countries in each continent?**\n",
    "\n",
    "*Hint: Use `groupby`, select the `location` column and aggregate using `count`.*"
   ]
  },
  {
   "cell_type": "code",
   "execution_count": 29,
   "id": "a8cf3492",
   "metadata": {
    "execution": {
     "iopub.execute_input": "2022-07-25T02:25:50.295799Z",
     "iopub.status.busy": "2022-07-25T02:25:50.295439Z",
     "iopub.status.idle": "2022-07-25T02:25:50.306820Z",
     "shell.execute_reply": "2022-07-25T02:25:50.305868Z"
    },
    "executionInfo": {
     "elapsed": 12,
     "status": "ok",
     "timestamp": 1657057505114,
     "user": {
      "displayName": "Eslam Ahmed",
      "userId": "17441472531449229406"
     },
     "user_tz": -120
    },
    "id": "2huJT_4MjK46",
    "papermill": {
     "duration": 0.035868,
     "end_time": "2022-07-25T02:25:50.309127",
     "exception": false,
     "start_time": "2022-07-25T02:25:50.273259",
     "status": "completed"
    },
    "tags": []
   },
   "outputs": [],
   "source": [
    "country_counts_df = countries_df.groupby('continent')[['location']].count()"
   ]
  },
  {
   "cell_type": "code",
   "execution_count": 30,
   "id": "f6843402",
   "metadata": {
    "execution": {
     "iopub.execute_input": "2022-07-25T02:25:50.351435Z",
     "iopub.status.busy": "2022-07-25T02:25:50.350806Z",
     "iopub.status.idle": "2022-07-25T02:25:50.359134Z",
     "shell.execute_reply": "2022-07-25T02:25:50.358396Z"
    },
    "executionInfo": {
     "elapsed": 12,
     "status": "ok",
     "timestamp": 1657057505115,
     "user": {
      "displayName": "Eslam Ahmed",
      "userId": "17441472531449229406"
     },
     "user_tz": -120
    },
    "id": "ZrT3iQwqjK46",
    "outputId": "4a3c747c-3301-413e-cf1e-e5c9d8974c02",
    "papermill": {
     "duration": 0.031942,
     "end_time": "2022-07-25T02:25:50.361126",
     "exception": false,
     "start_time": "2022-07-25T02:25:50.329184",
     "status": "completed"
    },
    "tags": []
   },
   "outputs": [
    {
     "data": {
      "text/html": [
       "<div>\n",
       "<style scoped>\n",
       "    .dataframe tbody tr th:only-of-type {\n",
       "        vertical-align: middle;\n",
       "    }\n",
       "\n",
       "    .dataframe tbody tr th {\n",
       "        vertical-align: top;\n",
       "    }\n",
       "\n",
       "    .dataframe thead th {\n",
       "        text-align: right;\n",
       "    }\n",
       "</style>\n",
       "<table border=\"1\" class=\"dataframe\">\n",
       "  <thead>\n",
       "    <tr style=\"text-align: right;\">\n",
       "      <th></th>\n",
       "      <th>location</th>\n",
       "    </tr>\n",
       "    <tr>\n",
       "      <th>continent</th>\n",
       "      <th></th>\n",
       "    </tr>\n",
       "  </thead>\n",
       "  <tbody>\n",
       "    <tr>\n",
       "      <th>Africa</th>\n",
       "      <td>55</td>\n",
       "    </tr>\n",
       "    <tr>\n",
       "      <th>Asia</th>\n",
       "      <td>47</td>\n",
       "    </tr>\n",
       "    <tr>\n",
       "      <th>Europe</th>\n",
       "      <td>51</td>\n",
       "    </tr>\n",
       "    <tr>\n",
       "      <th>North America</th>\n",
       "      <td>36</td>\n",
       "    </tr>\n",
       "    <tr>\n",
       "      <th>Oceania</th>\n",
       "      <td>8</td>\n",
       "    </tr>\n",
       "    <tr>\n",
       "      <th>South America</th>\n",
       "      <td>13</td>\n",
       "    </tr>\n",
       "  </tbody>\n",
       "</table>\n",
       "</div>"
      ],
      "text/plain": [
       "               location\n",
       "continent              \n",
       "Africa               55\n",
       "Asia                 47\n",
       "Europe               51\n",
       "North America        36\n",
       "Oceania               8\n",
       "South America        13"
      ]
     },
     "execution_count": 30,
     "metadata": {},
     "output_type": "execute_result"
    }
   ],
   "source": [
    "country_counts_df"
   ]
  },
  {
   "cell_type": "code",
   "execution_count": 31,
   "id": "7f156d8d",
   "metadata": {
    "execution": {
     "iopub.execute_input": "2022-07-25T02:25:50.404578Z",
     "iopub.status.busy": "2022-07-25T02:25:50.403897Z",
     "iopub.status.idle": "2022-07-25T02:25:50.407707Z",
     "shell.execute_reply": "2022-07-25T02:25:50.406865Z"
    },
    "executionInfo": {
     "elapsed": 1948,
     "status": "ok",
     "timestamp": 1657057507052,
     "user": {
      "displayName": "Eslam Ahmed",
      "userId": "17441472531449229406"
     },
     "user_tz": -120
    },
    "id": "Qa7PxVthjK46",
    "outputId": "357362c2-78bc-454e-f8a3-4642455bf70c",
    "papermill": {
     "duration": 0.028081,
     "end_time": "2022-07-25T02:25:50.409851",
     "exception": false,
     "start_time": "2022-07-25T02:25:50.381770",
     "status": "completed"
    },
    "tags": []
   },
   "outputs": [],
   "source": [
    "# jovian.commit(project='pandas-practice-assignment', environment=None)"
   ]
  },
  {
   "cell_type": "markdown",
   "id": "d4a715cc",
   "metadata": {
    "id": "HUHhCR8JjK46",
    "papermill": {
     "duration": 0.021611,
     "end_time": "2022-07-25T02:25:50.452674",
     "exception": false,
     "start_time": "2022-07-25T02:25:50.431063",
     "status": "completed"
    },
    "tags": []
   },
   "source": [
    "**Q7: Create a data frame showing the total population of each continent.**\n",
    "\n",
    "*Hint: Use `groupby`, select the population column and aggregate using `sum`.*"
   ]
  },
  {
   "cell_type": "code",
   "execution_count": 32,
   "id": "5a5634a2",
   "metadata": {
    "execution": {
     "iopub.execute_input": "2022-07-25T02:25:50.497282Z",
     "iopub.status.busy": "2022-07-25T02:25:50.496556Z",
     "iopub.status.idle": "2022-07-25T02:25:50.508698Z",
     "shell.execute_reply": "2022-07-25T02:25:50.507454Z"
    },
    "executionInfo": {
     "elapsed": 12,
     "status": "ok",
     "timestamp": 1657057507052,
     "user": {
      "displayName": "Eslam Ahmed",
      "userId": "17441472531449229406"
     },
     "user_tz": -120
    },
    "id": "BWepyQfnjK47",
    "papermill": {
     "duration": 0.03734,
     "end_time": "2022-07-25T02:25:50.511327",
     "exception": false,
     "start_time": "2022-07-25T02:25:50.473987",
     "status": "completed"
    },
    "tags": []
   },
   "outputs": [],
   "source": [
    "continent_populations_df = countries_df.groupby('continent')[[\"population\"]].sum()"
   ]
  },
  {
   "cell_type": "code",
   "execution_count": 33,
   "id": "ffb4817b",
   "metadata": {
    "execution": {
     "iopub.execute_input": "2022-07-25T02:25:50.556087Z",
     "iopub.status.busy": "2022-07-25T02:25:50.555660Z",
     "iopub.status.idle": "2022-07-25T02:25:50.566429Z",
     "shell.execute_reply": "2022-07-25T02:25:50.565273Z"
    },
    "executionInfo": {
     "elapsed": 13,
     "status": "ok",
     "timestamp": 1657057507053,
     "user": {
      "displayName": "Eslam Ahmed",
      "userId": "17441472531449229406"
     },
     "user_tz": -120
    },
    "id": "uMoB957JjK47",
    "outputId": "b4a47fe9-0c22-4759-fd10-64561efcaa19",
    "papermill": {
     "duration": 0.035616,
     "end_time": "2022-07-25T02:25:50.568567",
     "exception": false,
     "start_time": "2022-07-25T02:25:50.532951",
     "status": "completed"
    },
    "tags": []
   },
   "outputs": [
    {
     "data": {
      "text/html": [
       "<div>\n",
       "<style scoped>\n",
       "    .dataframe tbody tr th:only-of-type {\n",
       "        vertical-align: middle;\n",
       "    }\n",
       "\n",
       "    .dataframe tbody tr th {\n",
       "        vertical-align: top;\n",
       "    }\n",
       "\n",
       "    .dataframe thead th {\n",
       "        text-align: right;\n",
       "    }\n",
       "</style>\n",
       "<table border=\"1\" class=\"dataframe\">\n",
       "  <thead>\n",
       "    <tr style=\"text-align: right;\">\n",
       "      <th></th>\n",
       "      <th>population</th>\n",
       "    </tr>\n",
       "    <tr>\n",
       "      <th>continent</th>\n",
       "      <th></th>\n",
       "    </tr>\n",
       "  </thead>\n",
       "  <tbody>\n",
       "    <tr>\n",
       "      <th>Africa</th>\n",
       "      <td>1.339424e+09</td>\n",
       "    </tr>\n",
       "    <tr>\n",
       "      <th>Asia</th>\n",
       "      <td>4.607388e+09</td>\n",
       "    </tr>\n",
       "    <tr>\n",
       "      <th>Europe</th>\n",
       "      <td>7.485062e+08</td>\n",
       "    </tr>\n",
       "    <tr>\n",
       "      <th>North America</th>\n",
       "      <td>5.912425e+08</td>\n",
       "    </tr>\n",
       "    <tr>\n",
       "      <th>Oceania</th>\n",
       "      <td>4.095832e+07</td>\n",
       "    </tr>\n",
       "    <tr>\n",
       "      <th>South America</th>\n",
       "      <td>4.304611e+08</td>\n",
       "    </tr>\n",
       "  </tbody>\n",
       "</table>\n",
       "</div>"
      ],
      "text/plain": [
       "                 population\n",
       "continent                  \n",
       "Africa         1.339424e+09\n",
       "Asia           4.607388e+09\n",
       "Europe         7.485062e+08\n",
       "North America  5.912425e+08\n",
       "Oceania        4.095832e+07\n",
       "South America  4.304611e+08"
      ]
     },
     "execution_count": 33,
     "metadata": {},
     "output_type": "execute_result"
    }
   ],
   "source": [
    "continent_populations_df"
   ]
  },
  {
   "cell_type": "code",
   "execution_count": 34,
   "id": "a91ecbbd",
   "metadata": {
    "execution": {
     "iopub.execute_input": "2022-07-25T02:25:50.612877Z",
     "iopub.status.busy": "2022-07-25T02:25:50.611838Z",
     "iopub.status.idle": "2022-07-25T02:25:50.617108Z",
     "shell.execute_reply": "2022-07-25T02:25:50.615918Z"
    },
    "executionInfo": {
     "elapsed": 1470,
     "status": "ok",
     "timestamp": 1657057508511,
     "user": {
      "displayName": "Eslam Ahmed",
      "userId": "17441472531449229406"
     },
     "user_tz": -120
    },
    "id": "AJyZ0xL5jK47",
    "outputId": "887435a8-8216-48a5-880b-6903e5851342",
    "papermill": {
     "duration": 0.029522,
     "end_time": "2022-07-25T02:25:50.619638",
     "exception": false,
     "start_time": "2022-07-25T02:25:50.590116",
     "status": "completed"
    },
    "tags": []
   },
   "outputs": [],
   "source": [
    "# jovian.commit(project='pandas-practice-assignment', environment=None)"
   ]
  },
  {
   "cell_type": "markdown",
   "id": "94f78674",
   "metadata": {
    "id": "tmPhW40BjK47",
    "papermill": {
     "duration": 0.020089,
     "end_time": "2022-07-25T02:25:50.660191",
     "exception": false,
     "start_time": "2022-07-25T02:25:50.640102",
     "status": "completed"
    },
    "tags": []
   },
   "source": [
    "Let's download another CSV file containing overall Covid-19 stats for various countires, and read the data into another Pandas data frame."
   ]
  },
  {
   "cell_type": "code",
   "execution_count": 35,
   "id": "4e40bdec",
   "metadata": {
    "execution": {
     "iopub.execute_input": "2022-07-25T02:25:50.702830Z",
     "iopub.status.busy": "2022-07-25T02:25:50.702425Z",
     "iopub.status.idle": "2022-07-25T02:25:51.001227Z",
     "shell.execute_reply": "2022-07-25T02:25:51.000085Z"
    },
    "executionInfo": {
     "elapsed": 13,
     "status": "ok",
     "timestamp": 1657057508512,
     "user": {
      "displayName": "Eslam Ahmed",
      "userId": "17441472531449229406"
     },
     "user_tz": -120
    },
    "id": "FdbLhxy_jK48",
    "outputId": "b74d0234-db10-4ecd-f7e5-41fd794bc520",
    "papermill": {
     "duration": 0.322889,
     "end_time": "2022-07-25T02:25:51.003586",
     "exception": false,
     "start_time": "2022-07-25T02:25:50.680697",
     "status": "completed"
    },
    "tags": []
   },
   "outputs": [
    {
     "data": {
      "text/plain": [
       "('covid-countries-data.csv', <http.client.HTTPMessage at 0x7f62f2b8d350>)"
      ]
     },
     "execution_count": 35,
     "metadata": {},
     "output_type": "execute_result"
    }
   ],
   "source": [
    "urlretrieve('https://gist.githubusercontent.com/aakashns/b2a968a6cfd9fbbb0ff3d6bd0f26262b/raw/b115ed1dfa17f10fc88bf966236cd4d9032f1df8/covid-countries-data.csv', \n",
    "            'covid-countries-data.csv')"
   ]
  },
  {
   "cell_type": "code",
   "execution_count": 36,
   "id": "10af8331",
   "metadata": {
    "execution": {
     "iopub.execute_input": "2022-07-25T02:25:51.047148Z",
     "iopub.status.busy": "2022-07-25T02:25:51.046796Z",
     "iopub.status.idle": "2022-07-25T02:25:51.053039Z",
     "shell.execute_reply": "2022-07-25T02:25:51.052312Z"
    },
    "executionInfo": {
     "elapsed": 8,
     "status": "ok",
     "timestamp": 1657057508512,
     "user": {
      "displayName": "Eslam Ahmed",
      "userId": "17441472531449229406"
     },
     "user_tz": -120
    },
    "id": "OHAjPDN2jK48",
    "papermill": {
     "duration": 0.030495,
     "end_time": "2022-07-25T02:25:51.055179",
     "exception": false,
     "start_time": "2022-07-25T02:25:51.024684",
     "status": "completed"
    },
    "tags": []
   },
   "outputs": [],
   "source": [
    "covid_data_df = pd.read_csv('covid-countries-data.csv')"
   ]
  },
  {
   "cell_type": "code",
   "execution_count": 37,
   "id": "e042c168",
   "metadata": {
    "execution": {
     "iopub.execute_input": "2022-07-25T02:25:51.100557Z",
     "iopub.status.busy": "2022-07-25T02:25:51.099325Z",
     "iopub.status.idle": "2022-07-25T02:25:51.116648Z",
     "shell.execute_reply": "2022-07-25T02:25:51.115755Z"
    },
    "executionInfo": {
     "elapsed": 9,
     "status": "ok",
     "timestamp": 1657057508513,
     "user": {
      "displayName": "Eslam Ahmed",
      "userId": "17441472531449229406"
     },
     "user_tz": -120
    },
    "id": "F76qutkNjK48",
    "outputId": "ed6d04da-e860-4f7c-bad6-807e0cd22a03",
    "papermill": {
     "duration": 0.042249,
     "end_time": "2022-07-25T02:25:51.118878",
     "exception": false,
     "start_time": "2022-07-25T02:25:51.076629",
     "status": "completed"
    },
    "scrolled": true,
    "tags": []
   },
   "outputs": [
    {
     "data": {
      "text/html": [
       "<div>\n",
       "<style scoped>\n",
       "    .dataframe tbody tr th:only-of-type {\n",
       "        vertical-align: middle;\n",
       "    }\n",
       "\n",
       "    .dataframe tbody tr th {\n",
       "        vertical-align: top;\n",
       "    }\n",
       "\n",
       "    .dataframe thead th {\n",
       "        text-align: right;\n",
       "    }\n",
       "</style>\n",
       "<table border=\"1\" class=\"dataframe\">\n",
       "  <thead>\n",
       "    <tr style=\"text-align: right;\">\n",
       "      <th></th>\n",
       "      <th>location</th>\n",
       "      <th>total_cases</th>\n",
       "      <th>total_deaths</th>\n",
       "      <th>total_tests</th>\n",
       "    </tr>\n",
       "  </thead>\n",
       "  <tbody>\n",
       "    <tr>\n",
       "      <th>0</th>\n",
       "      <td>Afghanistan</td>\n",
       "      <td>38243.0</td>\n",
       "      <td>1409.0</td>\n",
       "      <td>NaN</td>\n",
       "    </tr>\n",
       "    <tr>\n",
       "      <th>1</th>\n",
       "      <td>Albania</td>\n",
       "      <td>9728.0</td>\n",
       "      <td>296.0</td>\n",
       "      <td>NaN</td>\n",
       "    </tr>\n",
       "    <tr>\n",
       "      <th>2</th>\n",
       "      <td>Algeria</td>\n",
       "      <td>45158.0</td>\n",
       "      <td>1525.0</td>\n",
       "      <td>NaN</td>\n",
       "    </tr>\n",
       "    <tr>\n",
       "      <th>3</th>\n",
       "      <td>Andorra</td>\n",
       "      <td>1199.0</td>\n",
       "      <td>53.0</td>\n",
       "      <td>NaN</td>\n",
       "    </tr>\n",
       "    <tr>\n",
       "      <th>4</th>\n",
       "      <td>Angola</td>\n",
       "      <td>2729.0</td>\n",
       "      <td>109.0</td>\n",
       "      <td>NaN</td>\n",
       "    </tr>\n",
       "    <tr>\n",
       "      <th>...</th>\n",
       "      <td>...</td>\n",
       "      <td>...</td>\n",
       "      <td>...</td>\n",
       "      <td>...</td>\n",
       "    </tr>\n",
       "    <tr>\n",
       "      <th>207</th>\n",
       "      <td>Western Sahara</td>\n",
       "      <td>766.0</td>\n",
       "      <td>1.0</td>\n",
       "      <td>NaN</td>\n",
       "    </tr>\n",
       "    <tr>\n",
       "      <th>208</th>\n",
       "      <td>World</td>\n",
       "      <td>26059065.0</td>\n",
       "      <td>863535.0</td>\n",
       "      <td>NaN</td>\n",
       "    </tr>\n",
       "    <tr>\n",
       "      <th>209</th>\n",
       "      <td>Yemen</td>\n",
       "      <td>1976.0</td>\n",
       "      <td>571.0</td>\n",
       "      <td>NaN</td>\n",
       "    </tr>\n",
       "    <tr>\n",
       "      <th>210</th>\n",
       "      <td>Zambia</td>\n",
       "      <td>12415.0</td>\n",
       "      <td>292.0</td>\n",
       "      <td>NaN</td>\n",
       "    </tr>\n",
       "    <tr>\n",
       "      <th>211</th>\n",
       "      <td>Zimbabwe</td>\n",
       "      <td>6638.0</td>\n",
       "      <td>206.0</td>\n",
       "      <td>97272.0</td>\n",
       "    </tr>\n",
       "  </tbody>\n",
       "</table>\n",
       "<p>212 rows × 4 columns</p>\n",
       "</div>"
      ],
      "text/plain": [
       "           location  total_cases  total_deaths  total_tests\n",
       "0       Afghanistan      38243.0        1409.0          NaN\n",
       "1           Albania       9728.0         296.0          NaN\n",
       "2           Algeria      45158.0        1525.0          NaN\n",
       "3           Andorra       1199.0          53.0          NaN\n",
       "4            Angola       2729.0         109.0          NaN\n",
       "..              ...          ...           ...          ...\n",
       "207  Western Sahara        766.0           1.0          NaN\n",
       "208           World   26059065.0      863535.0          NaN\n",
       "209           Yemen       1976.0         571.0          NaN\n",
       "210          Zambia      12415.0         292.0          NaN\n",
       "211        Zimbabwe       6638.0         206.0      97272.0\n",
       "\n",
       "[212 rows x 4 columns]"
      ]
     },
     "execution_count": 37,
     "metadata": {},
     "output_type": "execute_result"
    }
   ],
   "source": [
    "covid_data_df"
   ]
  },
  {
   "cell_type": "markdown",
   "id": "78901486",
   "metadata": {
    "id": "3NZ78T5VjK48",
    "papermill": {
     "duration": 0.021369,
     "end_time": "2022-07-25T02:25:51.161895",
     "exception": false,
     "start_time": "2022-07-25T02:25:51.140526",
     "status": "completed"
    },
    "tags": []
   },
   "source": [
    "**Q8: Count the number of countries for which the `total_tests` data is missing.**\n",
    "\n",
    "*Hint: Use the `.isna` method.*"
   ]
  },
  {
   "cell_type": "code",
   "execution_count": 38,
   "id": "b798302b",
   "metadata": {
    "execution": {
     "iopub.execute_input": "2022-07-25T02:25:51.206831Z",
     "iopub.status.busy": "2022-07-25T02:25:51.206090Z",
     "iopub.status.idle": "2022-07-25T02:25:51.211287Z",
     "shell.execute_reply": "2022-07-25T02:25:51.210400Z"
    },
    "executionInfo": {
     "elapsed": 8,
     "status": "ok",
     "timestamp": 1657057508513,
     "user": {
      "displayName": "Eslam Ahmed",
      "userId": "17441472531449229406"
     },
     "user_tz": -120
    },
    "id": "f4aCu17DjK49",
    "papermill": {
     "duration": 0.029624,
     "end_time": "2022-07-25T02:25:51.213420",
     "exception": false,
     "start_time": "2022-07-25T02:25:51.183796",
     "status": "completed"
    },
    "tags": []
   },
   "outputs": [],
   "source": [
    "total_tests_missing = covid_data_df.total_tests.isna().sum()"
   ]
  },
  {
   "cell_type": "code",
   "execution_count": 39,
   "id": "ae9cc5f8",
   "metadata": {
    "execution": {
     "iopub.execute_input": "2022-07-25T02:25:51.256564Z",
     "iopub.status.busy": "2022-07-25T02:25:51.256186Z",
     "iopub.status.idle": "2022-07-25T02:25:51.260992Z",
     "shell.execute_reply": "2022-07-25T02:25:51.260070Z"
    },
    "executionInfo": {
     "elapsed": 463,
     "status": "ok",
     "timestamp": 1657057508969,
     "user": {
      "displayName": "Eslam Ahmed",
      "userId": "17441472531449229406"
     },
     "user_tz": -120
    },
    "id": "oQQQl9GDjK49",
    "outputId": "9e909f42-33b9-4b80-f0eb-608df02150bf",
    "papermill": {
     "duration": 0.028495,
     "end_time": "2022-07-25T02:25:51.262851",
     "exception": false,
     "start_time": "2022-07-25T02:25:51.234356",
     "status": "completed"
    },
    "tags": []
   },
   "outputs": [
    {
     "name": "stdout",
     "output_type": "stream",
     "text": [
      "The data for total tests is missing for 122 countries.\n"
     ]
    }
   ],
   "source": [
    "print(\"The data for total tests is missing for {} countries.\".format(int(total_tests_missing)))"
   ]
  },
  {
   "cell_type": "code",
   "execution_count": 40,
   "id": "e7b5186b",
   "metadata": {
    "execution": {
     "iopub.execute_input": "2022-07-25T02:25:51.306392Z",
     "iopub.status.busy": "2022-07-25T02:25:51.305658Z",
     "iopub.status.idle": "2022-07-25T02:25:51.309630Z",
     "shell.execute_reply": "2022-07-25T02:25:51.308732Z"
    },
    "executionInfo": {
     "elapsed": 1377,
     "status": "ok",
     "timestamp": 1657057510342,
     "user": {
      "displayName": "Eslam Ahmed",
      "userId": "17441472531449229406"
     },
     "user_tz": -120
    },
    "id": "P64fmOBJjK49",
    "outputId": "6a50674b-2b7b-497e-ce5b-13bc63802738",
    "papermill": {
     "duration": 0.028209,
     "end_time": "2022-07-25T02:25:51.311824",
     "exception": false,
     "start_time": "2022-07-25T02:25:51.283615",
     "status": "completed"
    },
    "tags": []
   },
   "outputs": [],
   "source": [
    "# jovian.commit(project='pandas-practice-assignment', environment=None)"
   ]
  },
  {
   "cell_type": "markdown",
   "id": "a3d641f2",
   "metadata": {
    "id": "9gEQ7MO7jK49",
    "papermill": {
     "duration": 0.020364,
     "end_time": "2022-07-25T02:25:51.353039",
     "exception": false,
     "start_time": "2022-07-25T02:25:51.332675",
     "status": "completed"
    },
    "tags": []
   },
   "source": [
    "Let's merge the two data frames, and compute some more metrics.\n",
    "\n",
    "**Q9: Merge `countries_df` with `covid_data_df` on the `location` column.**\n",
    "\n",
    "*Hint: Use the `.merge` method on `countries_df`."
   ]
  },
  {
   "cell_type": "code",
   "execution_count": 41,
   "id": "ad2681e2",
   "metadata": {
    "execution": {
     "iopub.execute_input": "2022-07-25T02:25:51.396869Z",
     "iopub.status.busy": "2022-07-25T02:25:51.396152Z",
     "iopub.status.idle": "2022-07-25T02:25:51.407580Z",
     "shell.execute_reply": "2022-07-25T02:25:51.406664Z"
    },
    "executionInfo": {
     "elapsed": 12,
     "status": "ok",
     "timestamp": 1657057510343,
     "user": {
      "displayName": "Eslam Ahmed",
      "userId": "17441472531449229406"
     },
     "user_tz": -120
    },
    "id": "_0HngceVjK49",
    "papermill": {
     "duration": 0.036114,
     "end_time": "2022-07-25T02:25:51.409890",
     "exception": false,
     "start_time": "2022-07-25T02:25:51.373776",
     "status": "completed"
    },
    "tags": []
   },
   "outputs": [],
   "source": [
    "combined_df = covid_data_df.merge(countries_df,on='location')"
   ]
  },
  {
   "cell_type": "code",
   "execution_count": 42,
   "id": "2ef73794",
   "metadata": {
    "execution": {
     "iopub.execute_input": "2022-07-25T02:25:51.453679Z",
     "iopub.status.busy": "2022-07-25T02:25:51.452932Z",
     "iopub.status.idle": "2022-07-25T02:25:51.475887Z",
     "shell.execute_reply": "2022-07-25T02:25:51.474734Z"
    },
    "executionInfo": {
     "elapsed": 12,
     "status": "ok",
     "timestamp": 1657057510343,
     "user": {
      "displayName": "Eslam Ahmed",
      "userId": "17441472531449229406"
     },
     "user_tz": -120
    },
    "id": "Gvf7QAMcjK4-",
    "outputId": "efef7889-88d7-4d23-d026-2a9cda9bd792",
    "papermill": {
     "duration": 0.047692,
     "end_time": "2022-07-25T02:25:51.478519",
     "exception": false,
     "start_time": "2022-07-25T02:25:51.430827",
     "status": "completed"
    },
    "tags": []
   },
   "outputs": [
    {
     "data": {
      "text/html": [
       "<div>\n",
       "<style scoped>\n",
       "    .dataframe tbody tr th:only-of-type {\n",
       "        vertical-align: middle;\n",
       "    }\n",
       "\n",
       "    .dataframe tbody tr th {\n",
       "        vertical-align: top;\n",
       "    }\n",
       "\n",
       "    .dataframe thead th {\n",
       "        text-align: right;\n",
       "    }\n",
       "</style>\n",
       "<table border=\"1\" class=\"dataframe\">\n",
       "  <thead>\n",
       "    <tr style=\"text-align: right;\">\n",
       "      <th></th>\n",
       "      <th>location</th>\n",
       "      <th>total_cases</th>\n",
       "      <th>total_deaths</th>\n",
       "      <th>total_tests</th>\n",
       "      <th>continent</th>\n",
       "      <th>population</th>\n",
       "      <th>life_expectancy</th>\n",
       "      <th>hospital_beds_per_thousand</th>\n",
       "      <th>gdp_per_capita</th>\n",
       "      <th>gdp</th>\n",
       "    </tr>\n",
       "  </thead>\n",
       "  <tbody>\n",
       "    <tr>\n",
       "      <th>0</th>\n",
       "      <td>Afghanistan</td>\n",
       "      <td>38243.0</td>\n",
       "      <td>1409.0</td>\n",
       "      <td>NaN</td>\n",
       "      <td>Asia</td>\n",
       "      <td>38928341.0</td>\n",
       "      <td>64.83</td>\n",
       "      <td>0.50</td>\n",
       "      <td>1803.987</td>\n",
       "      <td>7.022622e+10</td>\n",
       "    </tr>\n",
       "    <tr>\n",
       "      <th>1</th>\n",
       "      <td>Albania</td>\n",
       "      <td>9728.0</td>\n",
       "      <td>296.0</td>\n",
       "      <td>NaN</td>\n",
       "      <td>Europe</td>\n",
       "      <td>2877800.0</td>\n",
       "      <td>78.57</td>\n",
       "      <td>2.89</td>\n",
       "      <td>11803.431</td>\n",
       "      <td>3.396791e+10</td>\n",
       "    </tr>\n",
       "    <tr>\n",
       "      <th>2</th>\n",
       "      <td>Algeria</td>\n",
       "      <td>45158.0</td>\n",
       "      <td>1525.0</td>\n",
       "      <td>NaN</td>\n",
       "      <td>Africa</td>\n",
       "      <td>43851043.0</td>\n",
       "      <td>76.88</td>\n",
       "      <td>1.90</td>\n",
       "      <td>13913.839</td>\n",
       "      <td>6.101364e+11</td>\n",
       "    </tr>\n",
       "    <tr>\n",
       "      <th>3</th>\n",
       "      <td>Andorra</td>\n",
       "      <td>1199.0</td>\n",
       "      <td>53.0</td>\n",
       "      <td>NaN</td>\n",
       "      <td>Europe</td>\n",
       "      <td>77265.0</td>\n",
       "      <td>83.73</td>\n",
       "      <td>NaN</td>\n",
       "      <td>NaN</td>\n",
       "      <td>NaN</td>\n",
       "    </tr>\n",
       "    <tr>\n",
       "      <th>4</th>\n",
       "      <td>Angola</td>\n",
       "      <td>2729.0</td>\n",
       "      <td>109.0</td>\n",
       "      <td>NaN</td>\n",
       "      <td>Africa</td>\n",
       "      <td>32866268.0</td>\n",
       "      <td>61.15</td>\n",
       "      <td>NaN</td>\n",
       "      <td>5819.495</td>\n",
       "      <td>1.912651e+11</td>\n",
       "    </tr>\n",
       "    <tr>\n",
       "      <th>...</th>\n",
       "      <td>...</td>\n",
       "      <td>...</td>\n",
       "      <td>...</td>\n",
       "      <td>...</td>\n",
       "      <td>...</td>\n",
       "      <td>...</td>\n",
       "      <td>...</td>\n",
       "      <td>...</td>\n",
       "      <td>...</td>\n",
       "      <td>...</td>\n",
       "    </tr>\n",
       "    <tr>\n",
       "      <th>205</th>\n",
       "      <td>Vietnam</td>\n",
       "      <td>1046.0</td>\n",
       "      <td>35.0</td>\n",
       "      <td>261004.0</td>\n",
       "      <td>Asia</td>\n",
       "      <td>97338583.0</td>\n",
       "      <td>75.40</td>\n",
       "      <td>2.60</td>\n",
       "      <td>6171.884</td>\n",
       "      <td>6.007624e+11</td>\n",
       "    </tr>\n",
       "    <tr>\n",
       "      <th>206</th>\n",
       "      <td>Western Sahara</td>\n",
       "      <td>766.0</td>\n",
       "      <td>1.0</td>\n",
       "      <td>NaN</td>\n",
       "      <td>Africa</td>\n",
       "      <td>597330.0</td>\n",
       "      <td>70.26</td>\n",
       "      <td>NaN</td>\n",
       "      <td>NaN</td>\n",
       "      <td>NaN</td>\n",
       "    </tr>\n",
       "    <tr>\n",
       "      <th>207</th>\n",
       "      <td>Yemen</td>\n",
       "      <td>1976.0</td>\n",
       "      <td>571.0</td>\n",
       "      <td>NaN</td>\n",
       "      <td>Asia</td>\n",
       "      <td>29825968.0</td>\n",
       "      <td>66.12</td>\n",
       "      <td>0.70</td>\n",
       "      <td>1479.147</td>\n",
       "      <td>4.411699e+10</td>\n",
       "    </tr>\n",
       "    <tr>\n",
       "      <th>208</th>\n",
       "      <td>Zambia</td>\n",
       "      <td>12415.0</td>\n",
       "      <td>292.0</td>\n",
       "      <td>NaN</td>\n",
       "      <td>Africa</td>\n",
       "      <td>18383956.0</td>\n",
       "      <td>63.89</td>\n",
       "      <td>2.00</td>\n",
       "      <td>3689.251</td>\n",
       "      <td>6.782303e+10</td>\n",
       "    </tr>\n",
       "    <tr>\n",
       "      <th>209</th>\n",
       "      <td>Zimbabwe</td>\n",
       "      <td>6638.0</td>\n",
       "      <td>206.0</td>\n",
       "      <td>97272.0</td>\n",
       "      <td>Africa</td>\n",
       "      <td>14862927.0</td>\n",
       "      <td>61.49</td>\n",
       "      <td>1.70</td>\n",
       "      <td>1899.775</td>\n",
       "      <td>2.823622e+10</td>\n",
       "    </tr>\n",
       "  </tbody>\n",
       "</table>\n",
       "<p>210 rows × 10 columns</p>\n",
       "</div>"
      ],
      "text/plain": [
       "           location  total_cases  total_deaths  total_tests continent  \\\n",
       "0       Afghanistan      38243.0        1409.0          NaN      Asia   \n",
       "1           Albania       9728.0         296.0          NaN    Europe   \n",
       "2           Algeria      45158.0        1525.0          NaN    Africa   \n",
       "3           Andorra       1199.0          53.0          NaN    Europe   \n",
       "4            Angola       2729.0         109.0          NaN    Africa   \n",
       "..              ...          ...           ...          ...       ...   \n",
       "205         Vietnam       1046.0          35.0     261004.0      Asia   \n",
       "206  Western Sahara        766.0           1.0          NaN    Africa   \n",
       "207           Yemen       1976.0         571.0          NaN      Asia   \n",
       "208          Zambia      12415.0         292.0          NaN    Africa   \n",
       "209        Zimbabwe       6638.0         206.0      97272.0    Africa   \n",
       "\n",
       "     population  life_expectancy  hospital_beds_per_thousand  gdp_per_capita  \\\n",
       "0    38928341.0            64.83                        0.50        1803.987   \n",
       "1     2877800.0            78.57                        2.89       11803.431   \n",
       "2    43851043.0            76.88                        1.90       13913.839   \n",
       "3       77265.0            83.73                         NaN             NaN   \n",
       "4    32866268.0            61.15                         NaN        5819.495   \n",
       "..          ...              ...                         ...             ...   \n",
       "205  97338583.0            75.40                        2.60        6171.884   \n",
       "206    597330.0            70.26                         NaN             NaN   \n",
       "207  29825968.0            66.12                        0.70        1479.147   \n",
       "208  18383956.0            63.89                        2.00        3689.251   \n",
       "209  14862927.0            61.49                        1.70        1899.775   \n",
       "\n",
       "              gdp  \n",
       "0    7.022622e+10  \n",
       "1    3.396791e+10  \n",
       "2    6.101364e+11  \n",
       "3             NaN  \n",
       "4    1.912651e+11  \n",
       "..            ...  \n",
       "205  6.007624e+11  \n",
       "206           NaN  \n",
       "207  4.411699e+10  \n",
       "208  6.782303e+10  \n",
       "209  2.823622e+10  \n",
       "\n",
       "[210 rows x 10 columns]"
      ]
     },
     "execution_count": 42,
     "metadata": {},
     "output_type": "execute_result"
    }
   ],
   "source": [
    "combined_df"
   ]
  },
  {
   "cell_type": "code",
   "execution_count": 43,
   "id": "4c01c461",
   "metadata": {
    "execution": {
     "iopub.execute_input": "2022-07-25T02:25:51.523868Z",
     "iopub.status.busy": "2022-07-25T02:25:51.523461Z",
     "iopub.status.idle": "2022-07-25T02:25:51.528003Z",
     "shell.execute_reply": "2022-07-25T02:25:51.526772Z"
    },
    "executionInfo": {
     "elapsed": 1716,
     "status": "ok",
     "timestamp": 1657057512049,
     "user": {
      "displayName": "Eslam Ahmed",
      "userId": "17441472531449229406"
     },
     "user_tz": -120
    },
    "id": "jSWvznlFjK4-",
    "outputId": "b694c423-c493-4053-b8b0-0915b60ea193",
    "papermill": {
     "duration": 0.030196,
     "end_time": "2022-07-25T02:25:51.530486",
     "exception": false,
     "start_time": "2022-07-25T02:25:51.500290",
     "status": "completed"
    },
    "tags": []
   },
   "outputs": [],
   "source": [
    "# jovian.commit(project='pandas-practice-assignment', environment=None)"
   ]
  },
  {
   "cell_type": "markdown",
   "id": "426be7a5",
   "metadata": {
    "id": "Sxfn0YCcjK4-",
    "papermill": {
     "duration": 0.021443,
     "end_time": "2022-07-25T02:25:51.574127",
     "exception": false,
     "start_time": "2022-07-25T02:25:51.552684",
     "status": "completed"
    },
    "tags": []
   },
   "source": [
    "**Q10: Add columns `tests_per_million`, `cases_per_million` and `deaths_per_million` into `combined_df`.**"
   ]
  },
  {
   "cell_type": "code",
   "execution_count": 44,
   "id": "61314f49",
   "metadata": {
    "execution": {
     "iopub.execute_input": "2022-07-25T02:25:51.619752Z",
     "iopub.status.busy": "2022-07-25T02:25:51.619297Z",
     "iopub.status.idle": "2022-07-25T02:25:51.625583Z",
     "shell.execute_reply": "2022-07-25T02:25:51.624627Z"
    },
    "executionInfo": {
     "elapsed": 12,
     "status": "ok",
     "timestamp": 1657057512050,
     "user": {
      "displayName": "Eslam Ahmed",
      "userId": "17441472531449229406"
     },
     "user_tz": -120
    },
    "id": "CSsDCsjrjK4-",
    "papermill": {
     "duration": 0.031198,
     "end_time": "2022-07-25T02:25:51.627792",
     "exception": false,
     "start_time": "2022-07-25T02:25:51.596594",
     "status": "completed"
    },
    "tags": []
   },
   "outputs": [],
   "source": [
    "combined_df['tests_per_million'] = combined_df['total_tests'] * 1e6 / combined_df['population']"
   ]
  },
  {
   "cell_type": "code",
   "execution_count": 45,
   "id": "52c35fb2",
   "metadata": {
    "execution": {
     "iopub.execute_input": "2022-07-25T02:25:51.672488Z",
     "iopub.status.busy": "2022-07-25T02:25:51.671822Z",
     "iopub.status.idle": "2022-07-25T02:25:51.683066Z",
     "shell.execute_reply": "2022-07-25T02:25:51.681784Z"
    },
    "executionInfo": {
     "elapsed": 13,
     "status": "ok",
     "timestamp": 1657057512051,
     "user": {
      "displayName": "Eslam Ahmed",
      "userId": "17441472531449229406"
     },
     "user_tz": -120
    },
    "id": "xdsVU0SyjK4-",
    "papermill": {
     "duration": 0.036649,
     "end_time": "2022-07-25T02:25:51.685780",
     "exception": false,
     "start_time": "2022-07-25T02:25:51.649131",
     "status": "completed"
    },
    "tags": []
   },
   "outputs": [],
   "source": [
    "combined_df['cases_per_million'] = combined_df['total_cases'] * 1e6 / combined_df['population']"
   ]
  },
  {
   "cell_type": "code",
   "execution_count": 46,
   "id": "444ef831",
   "metadata": {
    "execution": {
     "iopub.execute_input": "2022-07-25T02:25:51.730107Z",
     "iopub.status.busy": "2022-07-25T02:25:51.729712Z",
     "iopub.status.idle": "2022-07-25T02:25:51.736120Z",
     "shell.execute_reply": "2022-07-25T02:25:51.734841Z"
    },
    "executionInfo": {
     "elapsed": 12,
     "status": "ok",
     "timestamp": 1657057512051,
     "user": {
      "displayName": "Eslam Ahmed",
      "userId": "17441472531449229406"
     },
     "user_tz": -120
    },
    "id": "fKKp0OzujK4_",
    "papermill": {
     "duration": 0.031557,
     "end_time": "2022-07-25T02:25:51.738734",
     "exception": false,
     "start_time": "2022-07-25T02:25:51.707177",
     "status": "completed"
    },
    "tags": []
   },
   "outputs": [],
   "source": [
    "combined_df['deaths_per_million'] = combined_df['total_deaths'] * 1e6 / combined_df['population']"
   ]
  },
  {
   "cell_type": "code",
   "execution_count": 47,
   "id": "a3bf33c9",
   "metadata": {
    "execution": {
     "iopub.execute_input": "2022-07-25T02:25:51.784862Z",
     "iopub.status.busy": "2022-07-25T02:25:51.784438Z",
     "iopub.status.idle": "2022-07-25T02:25:51.809429Z",
     "shell.execute_reply": "2022-07-25T02:25:51.808283Z"
    },
    "executionInfo": {
     "elapsed": 13,
     "status": "ok",
     "timestamp": 1657057512052,
     "user": {
      "displayName": "Eslam Ahmed",
      "userId": "17441472531449229406"
     },
     "user_tz": -120
    },
    "id": "IuOVnZkMjK4_",
    "outputId": "963971d7-001a-4b24-a9cf-2c7a25550552",
    "papermill": {
     "duration": 0.050808,
     "end_time": "2022-07-25T02:25:51.811850",
     "exception": false,
     "start_time": "2022-07-25T02:25:51.761042",
     "status": "completed"
    },
    "tags": []
   },
   "outputs": [
    {
     "data": {
      "text/html": [
       "<div>\n",
       "<style scoped>\n",
       "    .dataframe tbody tr th:only-of-type {\n",
       "        vertical-align: middle;\n",
       "    }\n",
       "\n",
       "    .dataframe tbody tr th {\n",
       "        vertical-align: top;\n",
       "    }\n",
       "\n",
       "    .dataframe thead th {\n",
       "        text-align: right;\n",
       "    }\n",
       "</style>\n",
       "<table border=\"1\" class=\"dataframe\">\n",
       "  <thead>\n",
       "    <tr style=\"text-align: right;\">\n",
       "      <th></th>\n",
       "      <th>location</th>\n",
       "      <th>total_cases</th>\n",
       "      <th>total_deaths</th>\n",
       "      <th>total_tests</th>\n",
       "      <th>continent</th>\n",
       "      <th>population</th>\n",
       "      <th>life_expectancy</th>\n",
       "      <th>hospital_beds_per_thousand</th>\n",
       "      <th>gdp_per_capita</th>\n",
       "      <th>gdp</th>\n",
       "      <th>tests_per_million</th>\n",
       "      <th>cases_per_million</th>\n",
       "      <th>deaths_per_million</th>\n",
       "    </tr>\n",
       "  </thead>\n",
       "  <tbody>\n",
       "    <tr>\n",
       "      <th>0</th>\n",
       "      <td>Afghanistan</td>\n",
       "      <td>38243.0</td>\n",
       "      <td>1409.0</td>\n",
       "      <td>NaN</td>\n",
       "      <td>Asia</td>\n",
       "      <td>38928341.0</td>\n",
       "      <td>64.83</td>\n",
       "      <td>0.50</td>\n",
       "      <td>1803.987</td>\n",
       "      <td>7.022622e+10</td>\n",
       "      <td>NaN</td>\n",
       "      <td>982.394806</td>\n",
       "      <td>36.194710</td>\n",
       "    </tr>\n",
       "    <tr>\n",
       "      <th>1</th>\n",
       "      <td>Albania</td>\n",
       "      <td>9728.0</td>\n",
       "      <td>296.0</td>\n",
       "      <td>NaN</td>\n",
       "      <td>Europe</td>\n",
       "      <td>2877800.0</td>\n",
       "      <td>78.57</td>\n",
       "      <td>2.89</td>\n",
       "      <td>11803.431</td>\n",
       "      <td>3.396791e+10</td>\n",
       "      <td>NaN</td>\n",
       "      <td>3380.359997</td>\n",
       "      <td>102.856349</td>\n",
       "    </tr>\n",
       "    <tr>\n",
       "      <th>2</th>\n",
       "      <td>Algeria</td>\n",
       "      <td>45158.0</td>\n",
       "      <td>1525.0</td>\n",
       "      <td>NaN</td>\n",
       "      <td>Africa</td>\n",
       "      <td>43851043.0</td>\n",
       "      <td>76.88</td>\n",
       "      <td>1.90</td>\n",
       "      <td>13913.839</td>\n",
       "      <td>6.101364e+11</td>\n",
       "      <td>NaN</td>\n",
       "      <td>1029.804468</td>\n",
       "      <td>34.776824</td>\n",
       "    </tr>\n",
       "    <tr>\n",
       "      <th>3</th>\n",
       "      <td>Andorra</td>\n",
       "      <td>1199.0</td>\n",
       "      <td>53.0</td>\n",
       "      <td>NaN</td>\n",
       "      <td>Europe</td>\n",
       "      <td>77265.0</td>\n",
       "      <td>83.73</td>\n",
       "      <td>NaN</td>\n",
       "      <td>NaN</td>\n",
       "      <td>NaN</td>\n",
       "      <td>NaN</td>\n",
       "      <td>15518.022390</td>\n",
       "      <td>685.950948</td>\n",
       "    </tr>\n",
       "    <tr>\n",
       "      <th>4</th>\n",
       "      <td>Angola</td>\n",
       "      <td>2729.0</td>\n",
       "      <td>109.0</td>\n",
       "      <td>NaN</td>\n",
       "      <td>Africa</td>\n",
       "      <td>32866268.0</td>\n",
       "      <td>61.15</td>\n",
       "      <td>NaN</td>\n",
       "      <td>5819.495</td>\n",
       "      <td>1.912651e+11</td>\n",
       "      <td>NaN</td>\n",
       "      <td>83.033462</td>\n",
       "      <td>3.316470</td>\n",
       "    </tr>\n",
       "    <tr>\n",
       "      <th>...</th>\n",
       "      <td>...</td>\n",
       "      <td>...</td>\n",
       "      <td>...</td>\n",
       "      <td>...</td>\n",
       "      <td>...</td>\n",
       "      <td>...</td>\n",
       "      <td>...</td>\n",
       "      <td>...</td>\n",
       "      <td>...</td>\n",
       "      <td>...</td>\n",
       "      <td>...</td>\n",
       "      <td>...</td>\n",
       "      <td>...</td>\n",
       "    </tr>\n",
       "    <tr>\n",
       "      <th>205</th>\n",
       "      <td>Vietnam</td>\n",
       "      <td>1046.0</td>\n",
       "      <td>35.0</td>\n",
       "      <td>261004.0</td>\n",
       "      <td>Asia</td>\n",
       "      <td>97338583.0</td>\n",
       "      <td>75.40</td>\n",
       "      <td>2.60</td>\n",
       "      <td>6171.884</td>\n",
       "      <td>6.007624e+11</td>\n",
       "      <td>2681.403324</td>\n",
       "      <td>10.745996</td>\n",
       "      <td>0.359570</td>\n",
       "    </tr>\n",
       "    <tr>\n",
       "      <th>206</th>\n",
       "      <td>Western Sahara</td>\n",
       "      <td>766.0</td>\n",
       "      <td>1.0</td>\n",
       "      <td>NaN</td>\n",
       "      <td>Africa</td>\n",
       "      <td>597330.0</td>\n",
       "      <td>70.26</td>\n",
       "      <td>NaN</td>\n",
       "      <td>NaN</td>\n",
       "      <td>NaN</td>\n",
       "      <td>NaN</td>\n",
       "      <td>1282.373228</td>\n",
       "      <td>1.674116</td>\n",
       "    </tr>\n",
       "    <tr>\n",
       "      <th>207</th>\n",
       "      <td>Yemen</td>\n",
       "      <td>1976.0</td>\n",
       "      <td>571.0</td>\n",
       "      <td>NaN</td>\n",
       "      <td>Asia</td>\n",
       "      <td>29825968.0</td>\n",
       "      <td>66.12</td>\n",
       "      <td>0.70</td>\n",
       "      <td>1479.147</td>\n",
       "      <td>4.411699e+10</td>\n",
       "      <td>NaN</td>\n",
       "      <td>66.250993</td>\n",
       "      <td>19.144391</td>\n",
       "    </tr>\n",
       "    <tr>\n",
       "      <th>208</th>\n",
       "      <td>Zambia</td>\n",
       "      <td>12415.0</td>\n",
       "      <td>292.0</td>\n",
       "      <td>NaN</td>\n",
       "      <td>Africa</td>\n",
       "      <td>18383956.0</td>\n",
       "      <td>63.89</td>\n",
       "      <td>2.00</td>\n",
       "      <td>3689.251</td>\n",
       "      <td>6.782303e+10</td>\n",
       "      <td>NaN</td>\n",
       "      <td>675.317108</td>\n",
       "      <td>15.883415</td>\n",
       "    </tr>\n",
       "    <tr>\n",
       "      <th>209</th>\n",
       "      <td>Zimbabwe</td>\n",
       "      <td>6638.0</td>\n",
       "      <td>206.0</td>\n",
       "      <td>97272.0</td>\n",
       "      <td>Africa</td>\n",
       "      <td>14862927.0</td>\n",
       "      <td>61.49</td>\n",
       "      <td>1.70</td>\n",
       "      <td>1899.775</td>\n",
       "      <td>2.823622e+10</td>\n",
       "      <td>6544.605918</td>\n",
       "      <td>446.614587</td>\n",
       "      <td>13.859989</td>\n",
       "    </tr>\n",
       "  </tbody>\n",
       "</table>\n",
       "<p>210 rows × 13 columns</p>\n",
       "</div>"
      ],
      "text/plain": [
       "           location  total_cases  total_deaths  total_tests continent  \\\n",
       "0       Afghanistan      38243.0        1409.0          NaN      Asia   \n",
       "1           Albania       9728.0         296.0          NaN    Europe   \n",
       "2           Algeria      45158.0        1525.0          NaN    Africa   \n",
       "3           Andorra       1199.0          53.0          NaN    Europe   \n",
       "4            Angola       2729.0         109.0          NaN    Africa   \n",
       "..              ...          ...           ...          ...       ...   \n",
       "205         Vietnam       1046.0          35.0     261004.0      Asia   \n",
       "206  Western Sahara        766.0           1.0          NaN    Africa   \n",
       "207           Yemen       1976.0         571.0          NaN      Asia   \n",
       "208          Zambia      12415.0         292.0          NaN    Africa   \n",
       "209        Zimbabwe       6638.0         206.0      97272.0    Africa   \n",
       "\n",
       "     population  life_expectancy  hospital_beds_per_thousand  gdp_per_capita  \\\n",
       "0    38928341.0            64.83                        0.50        1803.987   \n",
       "1     2877800.0            78.57                        2.89       11803.431   \n",
       "2    43851043.0            76.88                        1.90       13913.839   \n",
       "3       77265.0            83.73                         NaN             NaN   \n",
       "4    32866268.0            61.15                         NaN        5819.495   \n",
       "..          ...              ...                         ...             ...   \n",
       "205  97338583.0            75.40                        2.60        6171.884   \n",
       "206    597330.0            70.26                         NaN             NaN   \n",
       "207  29825968.0            66.12                        0.70        1479.147   \n",
       "208  18383956.0            63.89                        2.00        3689.251   \n",
       "209  14862927.0            61.49                        1.70        1899.775   \n",
       "\n",
       "              gdp  tests_per_million  cases_per_million  deaths_per_million  \n",
       "0    7.022622e+10                NaN         982.394806           36.194710  \n",
       "1    3.396791e+10                NaN        3380.359997          102.856349  \n",
       "2    6.101364e+11                NaN        1029.804468           34.776824  \n",
       "3             NaN                NaN       15518.022390          685.950948  \n",
       "4    1.912651e+11                NaN          83.033462            3.316470  \n",
       "..            ...                ...                ...                 ...  \n",
       "205  6.007624e+11        2681.403324          10.745996            0.359570  \n",
       "206           NaN                NaN        1282.373228            1.674116  \n",
       "207  4.411699e+10                NaN          66.250993           19.144391  \n",
       "208  6.782303e+10                NaN         675.317108           15.883415  \n",
       "209  2.823622e+10        6544.605918         446.614587           13.859989  \n",
       "\n",
       "[210 rows x 13 columns]"
      ]
     },
     "execution_count": 47,
     "metadata": {},
     "output_type": "execute_result"
    }
   ],
   "source": [
    "combined_df"
   ]
  },
  {
   "cell_type": "code",
   "execution_count": 48,
   "id": "919a7194",
   "metadata": {
    "execution": {
     "iopub.execute_input": "2022-07-25T02:25:51.860121Z",
     "iopub.status.busy": "2022-07-25T02:25:51.859716Z",
     "iopub.status.idle": "2022-07-25T02:25:51.863790Z",
     "shell.execute_reply": "2022-07-25T02:25:51.862715Z"
    },
    "executionInfo": {
     "elapsed": 2232,
     "status": "ok",
     "timestamp": 1657057514272,
     "user": {
      "displayName": "Eslam Ahmed",
      "userId": "17441472531449229406"
     },
     "user_tz": -120
    },
    "id": "5opW3YskjK4_",
    "outputId": "39ee9b53-e6f6-4db0-f484-420341ac838c",
    "papermill": {
     "duration": 0.030711,
     "end_time": "2022-07-25T02:25:51.865967",
     "exception": false,
     "start_time": "2022-07-25T02:25:51.835256",
     "status": "completed"
    },
    "tags": []
   },
   "outputs": [],
   "source": [
    "# jovian.commit(project='pandas-practice-assignment', environment=None)"
   ]
  },
  {
   "cell_type": "markdown",
   "id": "dadcf2fc",
   "metadata": {
    "id": "5bwCsNYhjK4_",
    "papermill": {
     "duration": 0.021166,
     "end_time": "2022-07-25T02:25:51.908907",
     "exception": false,
     "start_time": "2022-07-25T02:25:51.887741",
     "status": "completed"
    },
    "tags": []
   },
   "source": [
    "**Q11: Create a dataframe with 10 countires that have highest number of tests per million people.**"
   ]
  },
  {
   "cell_type": "code",
   "execution_count": 49,
   "id": "5f17807e",
   "metadata": {
    "execution": {
     "iopub.execute_input": "2022-07-25T02:25:51.955030Z",
     "iopub.status.busy": "2022-07-25T02:25:51.954026Z",
     "iopub.status.idle": "2022-07-25T02:25:51.960650Z",
     "shell.execute_reply": "2022-07-25T02:25:51.959657Z"
    },
    "executionInfo": {
     "elapsed": 12,
     "status": "ok",
     "timestamp": 1657057514273,
     "user": {
      "displayName": "Eslam Ahmed",
      "userId": "17441472531449229406"
     },
     "user_tz": -120
    },
    "id": "hpDXMb4ajK4_",
    "papermill": {
     "duration": 0.032308,
     "end_time": "2022-07-25T02:25:51.962747",
     "exception": false,
     "start_time": "2022-07-25T02:25:51.930439",
     "status": "completed"
    },
    "tags": []
   },
   "outputs": [],
   "source": [
    "highest_tests_df = combined_df.sort_values(['tests_per_million'],ascending=False)[['location','tests_per_million']].head(10)"
   ]
  },
  {
   "cell_type": "code",
   "execution_count": 50,
   "id": "3125a8bb",
   "metadata": {
    "execution": {
     "iopub.execute_input": "2022-07-25T02:25:52.008086Z",
     "iopub.status.busy": "2022-07-25T02:25:52.007731Z",
     "iopub.status.idle": "2022-07-25T02:25:52.016603Z",
     "shell.execute_reply": "2022-07-25T02:25:52.015808Z"
    },
    "executionInfo": {
     "elapsed": 11,
     "status": "ok",
     "timestamp": 1657057514273,
     "user": {
      "displayName": "Eslam Ahmed",
      "userId": "17441472531449229406"
     },
     "user_tz": -120
    },
    "id": "E8VpP_GFjK4_",
    "outputId": "05f0db11-f3f0-4f12-ad5f-d58baf6cb55a",
    "papermill": {
     "duration": 0.034115,
     "end_time": "2022-07-25T02:25:52.018385",
     "exception": false,
     "start_time": "2022-07-25T02:25:51.984270",
     "status": "completed"
    },
    "tags": []
   },
   "outputs": [
    {
     "data": {
      "text/html": [
       "<div>\n",
       "<style scoped>\n",
       "    .dataframe tbody tr th:only-of-type {\n",
       "        vertical-align: middle;\n",
       "    }\n",
       "\n",
       "    .dataframe tbody tr th {\n",
       "        vertical-align: top;\n",
       "    }\n",
       "\n",
       "    .dataframe thead th {\n",
       "        text-align: right;\n",
       "    }\n",
       "</style>\n",
       "<table border=\"1\" class=\"dataframe\">\n",
       "  <thead>\n",
       "    <tr style=\"text-align: right;\">\n",
       "      <th></th>\n",
       "      <th>location</th>\n",
       "      <th>tests_per_million</th>\n",
       "    </tr>\n",
       "  </thead>\n",
       "  <tbody>\n",
       "    <tr>\n",
       "      <th>197</th>\n",
       "      <td>United Arab Emirates</td>\n",
       "      <td>725696.635121</td>\n",
       "    </tr>\n",
       "    <tr>\n",
       "      <th>14</th>\n",
       "      <td>Bahrain</td>\n",
       "      <td>657527.137965</td>\n",
       "    </tr>\n",
       "    <tr>\n",
       "      <th>115</th>\n",
       "      <td>Luxembourg</td>\n",
       "      <td>616349.508607</td>\n",
       "    </tr>\n",
       "    <tr>\n",
       "      <th>122</th>\n",
       "      <td>Malta</td>\n",
       "      <td>427004.183096</td>\n",
       "    </tr>\n",
       "    <tr>\n",
       "      <th>53</th>\n",
       "      <td>Denmark</td>\n",
       "      <td>422621.755488</td>\n",
       "    </tr>\n",
       "    <tr>\n",
       "      <th>96</th>\n",
       "      <td>Israel</td>\n",
       "      <td>271962.665303</td>\n",
       "    </tr>\n",
       "    <tr>\n",
       "      <th>89</th>\n",
       "      <td>Iceland</td>\n",
       "      <td>260304.761905</td>\n",
       "    </tr>\n",
       "    <tr>\n",
       "      <th>157</th>\n",
       "      <td>Russia</td>\n",
       "      <td>254750.159763</td>\n",
       "    </tr>\n",
       "    <tr>\n",
       "      <th>199</th>\n",
       "      <td>United States</td>\n",
       "      <td>253467.507769</td>\n",
       "    </tr>\n",
       "    <tr>\n",
       "      <th>10</th>\n",
       "      <td>Australia</td>\n",
       "      <td>245326.517406</td>\n",
       "    </tr>\n",
       "  </tbody>\n",
       "</table>\n",
       "</div>"
      ],
      "text/plain": [
       "                 location  tests_per_million\n",
       "197  United Arab Emirates      725696.635121\n",
       "14                Bahrain      657527.137965\n",
       "115            Luxembourg      616349.508607\n",
       "122                 Malta      427004.183096\n",
       "53                Denmark      422621.755488\n",
       "96                 Israel      271962.665303\n",
       "89                Iceland      260304.761905\n",
       "157                Russia      254750.159763\n",
       "199         United States      253467.507769\n",
       "10              Australia      245326.517406"
      ]
     },
     "execution_count": 50,
     "metadata": {},
     "output_type": "execute_result"
    }
   ],
   "source": [
    "highest_tests_df"
   ]
  },
  {
   "cell_type": "code",
   "execution_count": 51,
   "id": "4fa62819",
   "metadata": {
    "execution": {
     "iopub.execute_input": "2022-07-25T02:25:52.063740Z",
     "iopub.status.busy": "2022-07-25T02:25:52.062535Z",
     "iopub.status.idle": "2022-07-25T02:25:52.067140Z",
     "shell.execute_reply": "2022-07-25T02:25:52.066276Z"
    },
    "executionInfo": {
     "elapsed": 1655,
     "status": "ok",
     "timestamp": 1657057515918,
     "user": {
      "displayName": "Eslam Ahmed",
      "userId": "17441472531449229406"
     },
     "user_tz": -120
    },
    "id": "DKcufbWFjK5A",
    "outputId": "d2e344fe-fdcc-4600-9606-c5b65d789bdc",
    "papermill": {
     "duration": 0.029549,
     "end_time": "2022-07-25T02:25:52.069304",
     "exception": false,
     "start_time": "2022-07-25T02:25:52.039755",
     "status": "completed"
    },
    "tags": []
   },
   "outputs": [],
   "source": [
    "# jovian.commit(project='pandas-practice-assignment', environment=None)"
   ]
  },
  {
   "cell_type": "markdown",
   "id": "4ca97031",
   "metadata": {
    "id": "xUybXVVojK5A",
    "papermill": {
     "duration": 0.022116,
     "end_time": "2022-07-25T02:25:52.113581",
     "exception": false,
     "start_time": "2022-07-25T02:25:52.091465",
     "status": "completed"
    },
    "tags": []
   },
   "source": [
    "**Q12: Create a dataframe with 10 countires that have highest number of positive cases per million people.**"
   ]
  },
  {
   "cell_type": "code",
   "execution_count": 52,
   "id": "5806d15a",
   "metadata": {
    "execution": {
     "iopub.execute_input": "2022-07-25T02:25:52.159579Z",
     "iopub.status.busy": "2022-07-25T02:25:52.158484Z",
     "iopub.status.idle": "2022-07-25T02:25:52.165715Z",
     "shell.execute_reply": "2022-07-25T02:25:52.164572Z"
    },
    "executionInfo": {
     "elapsed": 11,
     "status": "ok",
     "timestamp": 1657057515919,
     "user": {
      "displayName": "Eslam Ahmed",
      "userId": "17441472531449229406"
     },
     "user_tz": -120
    },
    "id": "cnkmm5IAjK5A",
    "papermill": {
     "duration": 0.032457,
     "end_time": "2022-07-25T02:25:52.167999",
     "exception": false,
     "start_time": "2022-07-25T02:25:52.135542",
     "status": "completed"
    },
    "tags": []
   },
   "outputs": [],
   "source": [
    "highest_cases_df = combined_df.sort_values(['cases_per_million'],ascending=False)[['location','cases_per_million']].head(10)"
   ]
  },
  {
   "cell_type": "code",
   "execution_count": 53,
   "id": "633a0e5d",
   "metadata": {
    "execution": {
     "iopub.execute_input": "2022-07-25T02:25:52.213946Z",
     "iopub.status.busy": "2022-07-25T02:25:52.212982Z",
     "iopub.status.idle": "2022-07-25T02:25:52.223479Z",
     "shell.execute_reply": "2022-07-25T02:25:52.222641Z"
    },
    "executionInfo": {
     "elapsed": 11,
     "status": "ok",
     "timestamp": 1657057515920,
     "user": {
      "displayName": "Eslam Ahmed",
      "userId": "17441472531449229406"
     },
     "user_tz": -120
    },
    "id": "OGRw85mhjK5A",
    "outputId": "c04196e7-95e9-4aa7-8b44-aba193d80b1c",
    "papermill": {
     "duration": 0.036134,
     "end_time": "2022-07-25T02:25:52.225866",
     "exception": false,
     "start_time": "2022-07-25T02:25:52.189732",
     "status": "completed"
    },
    "tags": []
   },
   "outputs": [
    {
     "data": {
      "text/html": [
       "<div>\n",
       "<style scoped>\n",
       "    .dataframe tbody tr th:only-of-type {\n",
       "        vertical-align: middle;\n",
       "    }\n",
       "\n",
       "    .dataframe tbody tr th {\n",
       "        vertical-align: top;\n",
       "    }\n",
       "\n",
       "    .dataframe thead th {\n",
       "        text-align: right;\n",
       "    }\n",
       "</style>\n",
       "<table border=\"1\" class=\"dataframe\">\n",
       "  <thead>\n",
       "    <tr style=\"text-align: right;\">\n",
       "      <th></th>\n",
       "      <th>location</th>\n",
       "      <th>cases_per_million</th>\n",
       "    </tr>\n",
       "  </thead>\n",
       "  <tbody>\n",
       "    <tr>\n",
       "      <th>155</th>\n",
       "      <td>Qatar</td>\n",
       "      <td>41375.743650</td>\n",
       "    </tr>\n",
       "    <tr>\n",
       "      <th>14</th>\n",
       "      <td>Bahrain</td>\n",
       "      <td>30818.361490</td>\n",
       "    </tr>\n",
       "    <tr>\n",
       "      <th>147</th>\n",
       "      <td>Panama</td>\n",
       "      <td>21805.112117</td>\n",
       "    </tr>\n",
       "    <tr>\n",
       "      <th>40</th>\n",
       "      <td>Chile</td>\n",
       "      <td>21695.671982</td>\n",
       "    </tr>\n",
       "    <tr>\n",
       "      <th>162</th>\n",
       "      <td>San Marino</td>\n",
       "      <td>21657.139490</td>\n",
       "    </tr>\n",
       "    <tr>\n",
       "      <th>9</th>\n",
       "      <td>Aruba</td>\n",
       "      <td>20708.839893</td>\n",
       "    </tr>\n",
       "    <tr>\n",
       "      <th>105</th>\n",
       "      <td>Kuwait</td>\n",
       "      <td>20249.789079</td>\n",
       "    </tr>\n",
       "    <tr>\n",
       "      <th>150</th>\n",
       "      <td>Peru</td>\n",
       "      <td>20121.318048</td>\n",
       "    </tr>\n",
       "    <tr>\n",
       "      <th>27</th>\n",
       "      <td>Brazil</td>\n",
       "      <td>18808.224105</td>\n",
       "    </tr>\n",
       "    <tr>\n",
       "      <th>199</th>\n",
       "      <td>United States</td>\n",
       "      <td>18472.377957</td>\n",
       "    </tr>\n",
       "  </tbody>\n",
       "</table>\n",
       "</div>"
      ],
      "text/plain": [
       "          location  cases_per_million\n",
       "155          Qatar       41375.743650\n",
       "14         Bahrain       30818.361490\n",
       "147         Panama       21805.112117\n",
       "40           Chile       21695.671982\n",
       "162     San Marino       21657.139490\n",
       "9            Aruba       20708.839893\n",
       "105         Kuwait       20249.789079\n",
       "150           Peru       20121.318048\n",
       "27          Brazil       18808.224105\n",
       "199  United States       18472.377957"
      ]
     },
     "execution_count": 53,
     "metadata": {},
     "output_type": "execute_result"
    }
   ],
   "source": [
    "highest_cases_df"
   ]
  },
  {
   "cell_type": "code",
   "execution_count": 54,
   "id": "e1d1461a",
   "metadata": {
    "execution": {
     "iopub.execute_input": "2022-07-25T02:25:52.272055Z",
     "iopub.status.busy": "2022-07-25T02:25:52.271398Z",
     "iopub.status.idle": "2022-07-25T02:25:52.275821Z",
     "shell.execute_reply": "2022-07-25T02:25:52.274748Z"
    },
    "executionInfo": {
     "elapsed": 1732,
     "status": "ok",
     "timestamp": 1657057517642,
     "user": {
      "displayName": "Eslam Ahmed",
      "userId": "17441472531449229406"
     },
     "user_tz": -120
    },
    "id": "Nrp9NrXXjK5A",
    "outputId": "52c0fb5a-cca2-46d7-ecf2-184f1fb0583a",
    "papermill": {
     "duration": 0.030296,
     "end_time": "2022-07-25T02:25:52.278292",
     "exception": false,
     "start_time": "2022-07-25T02:25:52.247996",
     "status": "completed"
    },
    "tags": []
   },
   "outputs": [],
   "source": [
    "# jovian.commit(project='pandas-practice-assignment', environment=None)"
   ]
  },
  {
   "cell_type": "markdown",
   "id": "7f65909d",
   "metadata": {
    "id": "zbKsvCydjK5B",
    "papermill": {
     "duration": 0.021416,
     "end_time": "2022-07-25T02:25:52.321463",
     "exception": false,
     "start_time": "2022-07-25T02:25:52.300047",
     "status": "completed"
    },
    "tags": []
   },
   "source": [
    "**Q13: Create a dataframe with 10 countires that have highest number of deaths cases per million people?**"
   ]
  },
  {
   "cell_type": "code",
   "execution_count": 55,
   "id": "31d9e486",
   "metadata": {
    "execution": {
     "iopub.execute_input": "2022-07-25T02:25:52.366989Z",
     "iopub.status.busy": "2022-07-25T02:25:52.366036Z",
     "iopub.status.idle": "2022-07-25T02:25:52.373351Z",
     "shell.execute_reply": "2022-07-25T02:25:52.372138Z"
    },
    "executionInfo": {
     "elapsed": 12,
     "status": "ok",
     "timestamp": 1657057517642,
     "user": {
      "displayName": "Eslam Ahmed",
      "userId": "17441472531449229406"
     },
     "user_tz": -120
    },
    "id": "rDUkUIMkjK5B",
    "papermill": {
     "duration": 0.032905,
     "end_time": "2022-07-25T02:25:52.375979",
     "exception": false,
     "start_time": "2022-07-25T02:25:52.343074",
     "status": "completed"
    },
    "tags": []
   },
   "outputs": [],
   "source": [
    "highest_deaths_df = combined_df.sort_values(['deaths_per_million'],ascending=False)[['location','deaths_per_million']].head(10)"
   ]
  },
  {
   "cell_type": "code",
   "execution_count": 56,
   "id": "94e66fe0",
   "metadata": {
    "execution": {
     "iopub.execute_input": "2022-07-25T02:25:52.421507Z",
     "iopub.status.busy": "2022-07-25T02:25:52.421100Z",
     "iopub.status.idle": "2022-07-25T02:25:52.431924Z",
     "shell.execute_reply": "2022-07-25T02:25:52.430796Z"
    },
    "executionInfo": {
     "elapsed": 12,
     "status": "ok",
     "timestamp": 1657057517643,
     "user": {
      "displayName": "Eslam Ahmed",
      "userId": "17441472531449229406"
     },
     "user_tz": -120
    },
    "id": "Lujpehg7jK5B",
    "outputId": "d27dc4e8-b83f-4fec-917a-3ed6f51f21f6",
    "papermill": {
     "duration": 0.036304,
     "end_time": "2022-07-25T02:25:52.434215",
     "exception": false,
     "start_time": "2022-07-25T02:25:52.397911",
     "status": "completed"
    },
    "tags": []
   },
   "outputs": [
    {
     "data": {
      "text/html": [
       "<div>\n",
       "<style scoped>\n",
       "    .dataframe tbody tr th:only-of-type {\n",
       "        vertical-align: middle;\n",
       "    }\n",
       "\n",
       "    .dataframe tbody tr th {\n",
       "        vertical-align: top;\n",
       "    }\n",
       "\n",
       "    .dataframe thead th {\n",
       "        text-align: right;\n",
       "    }\n",
       "</style>\n",
       "<table border=\"1\" class=\"dataframe\">\n",
       "  <thead>\n",
       "    <tr style=\"text-align: right;\">\n",
       "      <th></th>\n",
       "      <th>location</th>\n",
       "      <th>deaths_per_million</th>\n",
       "    </tr>\n",
       "  </thead>\n",
       "  <tbody>\n",
       "    <tr>\n",
       "      <th>162</th>\n",
       "      <td>San Marino</td>\n",
       "      <td>1237.550828</td>\n",
       "    </tr>\n",
       "    <tr>\n",
       "      <th>150</th>\n",
       "      <td>Peru</td>\n",
       "      <td>887.393445</td>\n",
       "    </tr>\n",
       "    <tr>\n",
       "      <th>18</th>\n",
       "      <td>Belgium</td>\n",
       "      <td>854.040375</td>\n",
       "    </tr>\n",
       "    <tr>\n",
       "      <th>3</th>\n",
       "      <td>Andorra</td>\n",
       "      <td>685.950948</td>\n",
       "    </tr>\n",
       "    <tr>\n",
       "      <th>177</th>\n",
       "      <td>Spain</td>\n",
       "      <td>624.406705</td>\n",
       "    </tr>\n",
       "    <tr>\n",
       "      <th>198</th>\n",
       "      <td>United Kingdom</td>\n",
       "      <td>611.525168</td>\n",
       "    </tr>\n",
       "    <tr>\n",
       "      <th>40</th>\n",
       "      <td>Chile</td>\n",
       "      <td>593.423100</td>\n",
       "    </tr>\n",
       "    <tr>\n",
       "      <th>97</th>\n",
       "      <td>Italy</td>\n",
       "      <td>587.097697</td>\n",
       "    </tr>\n",
       "    <tr>\n",
       "      <th>27</th>\n",
       "      <td>Brazil</td>\n",
       "      <td>582.331314</td>\n",
       "    </tr>\n",
       "    <tr>\n",
       "      <th>182</th>\n",
       "      <td>Sweden</td>\n",
       "      <td>576.279276</td>\n",
       "    </tr>\n",
       "  </tbody>\n",
       "</table>\n",
       "</div>"
      ],
      "text/plain": [
       "           location  deaths_per_million\n",
       "162      San Marino         1237.550828\n",
       "150            Peru          887.393445\n",
       "18          Belgium          854.040375\n",
       "3           Andorra          685.950948\n",
       "177           Spain          624.406705\n",
       "198  United Kingdom          611.525168\n",
       "40            Chile          593.423100\n",
       "97            Italy          587.097697\n",
       "27           Brazil          582.331314\n",
       "182          Sweden          576.279276"
      ]
     },
     "execution_count": 56,
     "metadata": {},
     "output_type": "execute_result"
    }
   ],
   "source": [
    "highest_deaths_df"
   ]
  },
  {
   "cell_type": "code",
   "execution_count": 57,
   "id": "6167efc1",
   "metadata": {
    "execution": {
     "iopub.execute_input": "2022-07-25T02:25:52.481102Z",
     "iopub.status.busy": "2022-07-25T02:25:52.480304Z",
     "iopub.status.idle": "2022-07-25T02:25:52.485453Z",
     "shell.execute_reply": "2022-07-25T02:25:52.484171Z"
    },
    "executionInfo": {
     "elapsed": 1645,
     "status": "ok",
     "timestamp": 1657057519278,
     "user": {
      "displayName": "Eslam Ahmed",
      "userId": "17441472531449229406"
     },
     "user_tz": -120
    },
    "id": "FLjq-GLqjK5B",
    "outputId": "bbeb4c8e-ced5-4c4c-bedf-b9f03642b32a",
    "papermill": {
     "duration": 0.031297,
     "end_time": "2022-07-25T02:25:52.487544",
     "exception": false,
     "start_time": "2022-07-25T02:25:52.456247",
     "status": "completed"
    },
    "tags": []
   },
   "outputs": [],
   "source": [
    "# jovian.commit(project='pandas-practice-assignment', environment=None)"
   ]
  },
  {
   "cell_type": "markdown",
   "id": "2a68092d",
   "metadata": {
    "id": "i0eQrbp0jK5B",
    "papermill": {
     "duration": 0.022045,
     "end_time": "2022-07-25T02:25:52.532682",
     "exception": false,
     "start_time": "2022-07-25T02:25:52.510637",
     "status": "completed"
    },
    "tags": []
   },
   "source": [
    "**(Optional) Q: Count number of countries that feature in both the lists of \"highest number of tests per million\" and \"highest number of cases per million\".**"
   ]
  },
  {
   "cell_type": "code",
   "execution_count": 58,
   "id": "1ae27154",
   "metadata": {
    "execution": {
     "iopub.execute_input": "2022-07-25T02:25:52.578698Z",
     "iopub.status.busy": "2022-07-25T02:25:52.578323Z",
     "iopub.status.idle": "2022-07-25T02:25:52.586916Z",
     "shell.execute_reply": "2022-07-25T02:25:52.585779Z"
    },
    "executionInfo": {
     "elapsed": 14,
     "status": "ok",
     "timestamp": 1657057519279,
     "user": {
      "displayName": "Eslam Ahmed",
      "userId": "17441472531449229406"
     },
     "user_tz": -120
    },
    "id": "5VAPIlamjK5B",
    "outputId": "04b7f86e-5b8b-4b4a-8456-e5d6dd6e865f",
    "papermill": {
     "duration": 0.035428,
     "end_time": "2022-07-25T02:25:52.590028",
     "exception": false,
     "start_time": "2022-07-25T02:25:52.554600",
     "status": "completed"
    },
    "tags": []
   },
   "outputs": [
    {
     "name": "stdout",
     "output_type": "stream",
     "text": [
      "                 location  tests_per_million\n",
      "197  United Arab Emirates      725696.635121\n",
      "14                Bahrain      657527.137965\n",
      "115            Luxembourg      616349.508607\n",
      "122                 Malta      427004.183096\n",
      "53                Denmark      422621.755488\n",
      "96                 Israel      271962.665303\n",
      "89                Iceland      260304.761905\n",
      "157                Russia      254750.159763\n",
      "199         United States      253467.507769\n",
      "10              Australia      245326.517406\n",
      "          location  cases_per_million\n",
      "155          Qatar       41375.743650\n",
      "14         Bahrain       30818.361490\n",
      "147         Panama       21805.112117\n",
      "40           Chile       21695.671982\n",
      "162     San Marino       21657.139490\n",
      "9            Aruba       20708.839893\n",
      "105         Kuwait       20249.789079\n",
      "150           Peru       20121.318048\n",
      "27          Brazil       18808.224105\n",
      "199  United States       18472.377957\n"
     ]
    }
   ],
   "source": [
    "print(highest_tests_df)\n",
    "print(highest_cases_df)"
   ]
  },
  {
   "cell_type": "code",
   "execution_count": 59,
   "id": "376b9bb5",
   "metadata": {
    "execution": {
     "iopub.execute_input": "2022-07-25T02:25:52.636839Z",
     "iopub.status.busy": "2022-07-25T02:25:52.636465Z",
     "iopub.status.idle": "2022-07-25T02:25:52.647134Z",
     "shell.execute_reply": "2022-07-25T02:25:52.646235Z"
    },
    "executionInfo": {
     "elapsed": 10,
     "status": "ok",
     "timestamp": 1657057519279,
     "user": {
      "displayName": "Eslam Ahmed",
      "userId": "17441472531449229406"
     },
     "user_tz": -120
    },
    "id": "g_l0AXtujK5C",
    "papermill": {
     "duration": 0.036262,
     "end_time": "2022-07-25T02:25:52.649059",
     "exception": false,
     "start_time": "2022-07-25T02:25:52.612797",
     "status": "completed"
    },
    "tags": []
   },
   "outputs": [],
   "source": [
    "last_comp = highest_tests_df.merge(highest_cases_df,on= \"location\",how='inner')"
   ]
  },
  {
   "cell_type": "code",
   "execution_count": 60,
   "id": "909a5daf",
   "metadata": {
    "execution": {
     "iopub.execute_input": "2022-07-25T02:25:52.696577Z",
     "iopub.status.busy": "2022-07-25T02:25:52.695915Z",
     "iopub.status.idle": "2022-07-25T02:25:52.705633Z",
     "shell.execute_reply": "2022-07-25T02:25:52.704809Z"
    },
    "executionInfo": {
     "elapsed": 11,
     "status": "ok",
     "timestamp": 1657057519280,
     "user": {
      "displayName": "Eslam Ahmed",
      "userId": "17441472531449229406"
     },
     "user_tz": -120
    },
    "id": "wj9rcqQvjK5C",
    "outputId": "90bdae35-2b90-4e74-9bf6-02a7e858dedb",
    "papermill": {
     "duration": 0.035827,
     "end_time": "2022-07-25T02:25:52.707384",
     "exception": false,
     "start_time": "2022-07-25T02:25:52.671557",
     "status": "completed"
    },
    "tags": []
   },
   "outputs": [
    {
     "data": {
      "text/plain": [
       "location             2\n",
       "tests_per_million    2\n",
       "cases_per_million    2\n",
       "dtype: int64"
      ]
     },
     "execution_count": 60,
     "metadata": {},
     "output_type": "execute_result"
    }
   ],
   "source": [
    "last_comp[last_comp.tests_per_million.notnull()].count()"
   ]
  },
  {
   "cell_type": "code",
   "execution_count": 61,
   "id": "0e5938a3",
   "metadata": {
    "execution": {
     "iopub.execute_input": "2022-07-25T02:25:52.754576Z",
     "iopub.status.busy": "2022-07-25T02:25:52.754180Z",
     "iopub.status.idle": "2022-07-25T02:25:52.758473Z",
     "shell.execute_reply": "2022-07-25T02:25:52.757361Z"
    },
    "executionInfo": {
     "elapsed": 1498,
     "status": "ok",
     "timestamp": 1657057520770,
     "user": {
      "displayName": "Eslam Ahmed",
      "userId": "17441472531449229406"
     },
     "user_tz": -120
    },
    "id": "a-H717dxjK5C",
    "outputId": "f3af569a-a0cc-47dd-c911-282cd538eeee",
    "papermill": {
     "duration": 0.030724,
     "end_time": "2022-07-25T02:25:52.760437",
     "exception": false,
     "start_time": "2022-07-25T02:25:52.729713",
     "status": "completed"
    },
    "tags": []
   },
   "outputs": [],
   "source": [
    "# jovian.commit(project='pandas-practice-assignment', environment=None)"
   ]
  },
  {
   "cell_type": "markdown",
   "id": "cb4b8526",
   "metadata": {
    "id": "0nd7hVWcjK5C",
    "papermill": {
     "duration": 0.023024,
     "end_time": "2022-07-25T02:25:52.805571",
     "exception": false,
     "start_time": "2022-07-25T02:25:52.782547",
     "status": "completed"
    },
    "tags": []
   },
   "source": [
    "**(Optional) Q: Count number of countries that feature in both the lists \"20 countries with lowest GDP per capita\" and \"20 countries with the lowest number of hospital beds per thousand population\". Only consider countries with a population higher than 10 million while creating the list.**"
   ]
  },
  {
   "cell_type": "code",
   "execution_count": 62,
   "id": "69939590",
   "metadata": {
    "execution": {
     "iopub.execute_input": "2022-07-25T02:25:52.852519Z",
     "iopub.status.busy": "2022-07-25T02:25:52.851783Z",
     "iopub.status.idle": "2022-07-25T02:25:52.867115Z",
     "shell.execute_reply": "2022-07-25T02:25:52.866020Z"
    },
    "executionInfo": {
     "elapsed": 12,
     "status": "ok",
     "timestamp": 1657057520771,
     "user": {
      "displayName": "Eslam Ahmed",
      "userId": "17441472531449229406"
     },
     "user_tz": -120
    },
    "id": "QS9QTViKjK5C",
    "outputId": "c8924b4b-d828-4b4b-b64f-938bc7f8fbc6",
    "papermill": {
     "duration": 0.041266,
     "end_time": "2022-07-25T02:25:52.869181",
     "exception": false,
     "start_time": "2022-07-25T02:25:52.827915",
     "status": "completed"
    },
    "tags": []
   },
   "outputs": [
    {
     "data": {
      "text/html": [
       "<div>\n",
       "<style scoped>\n",
       "    .dataframe tbody tr th:only-of-type {\n",
       "        vertical-align: middle;\n",
       "    }\n",
       "\n",
       "    .dataframe tbody tr th {\n",
       "        vertical-align: top;\n",
       "    }\n",
       "\n",
       "    .dataframe thead th {\n",
       "        text-align: right;\n",
       "    }\n",
       "</style>\n",
       "<table border=\"1\" class=\"dataframe\">\n",
       "  <thead>\n",
       "    <tr style=\"text-align: right;\">\n",
       "      <th></th>\n",
       "      <th>location</th>\n",
       "      <th>gdp_per_capita</th>\n",
       "      <th>population</th>\n",
       "    </tr>\n",
       "  </thead>\n",
       "  <tbody>\n",
       "    <tr>\n",
       "      <th>38</th>\n",
       "      <td>Central African Republic</td>\n",
       "      <td>661.240</td>\n",
       "      <td>4829764.0</td>\n",
       "    </tr>\n",
       "    <tr>\n",
       "      <th>32</th>\n",
       "      <td>Burundi</td>\n",
       "      <td>702.225</td>\n",
       "      <td>11890781.0</td>\n",
       "    </tr>\n",
       "    <tr>\n",
       "      <th>111</th>\n",
       "      <td>Liberia</td>\n",
       "      <td>752.788</td>\n",
       "      <td>5057677.0</td>\n",
       "    </tr>\n",
       "    <tr>\n",
       "      <th>52</th>\n",
       "      <td>Democratic Republic of Congo</td>\n",
       "      <td>808.133</td>\n",
       "      <td>89561404.0</td>\n",
       "    </tr>\n",
       "    <tr>\n",
       "      <th>140</th>\n",
       "      <td>Niger</td>\n",
       "      <td>926.000</td>\n",
       "      <td>24206636.0</td>\n",
       "    </tr>\n",
       "    <tr>\n",
       "      <th>118</th>\n",
       "      <td>Malawi</td>\n",
       "      <td>1095.042</td>\n",
       "      <td>19129955.0</td>\n",
       "    </tr>\n",
       "    <tr>\n",
       "      <th>132</th>\n",
       "      <td>Mozambique</td>\n",
       "      <td>1136.103</td>\n",
       "      <td>31255435.0</td>\n",
       "    </tr>\n",
       "    <tr>\n",
       "      <th>168</th>\n",
       "      <td>Sierra Leone</td>\n",
       "      <td>1390.300</td>\n",
       "      <td>7976985.0</td>\n",
       "    </tr>\n",
       "    <tr>\n",
       "      <th>43</th>\n",
       "      <td>Comoros</td>\n",
       "      <td>1413.890</td>\n",
       "      <td>869595.0</td>\n",
       "    </tr>\n",
       "    <tr>\n",
       "      <th>117</th>\n",
       "      <td>Madagascar</td>\n",
       "      <td>1416.440</td>\n",
       "      <td>27691019.0</td>\n",
       "    </tr>\n",
       "    <tr>\n",
       "      <th>190</th>\n",
       "      <td>Togo</td>\n",
       "      <td>1429.813</td>\n",
       "      <td>8278737.0</td>\n",
       "    </tr>\n",
       "    <tr>\n",
       "      <th>207</th>\n",
       "      <td>Yemen</td>\n",
       "      <td>1479.147</td>\n",
       "      <td>29825968.0</td>\n",
       "    </tr>\n",
       "    <tr>\n",
       "      <th>61</th>\n",
       "      <td>Eritrea</td>\n",
       "      <td>1510.459</td>\n",
       "      <td>3546427.0</td>\n",
       "    </tr>\n",
       "    <tr>\n",
       "      <th>83</th>\n",
       "      <td>Guinea-Bissau</td>\n",
       "      <td>1548.675</td>\n",
       "      <td>1967998.0</td>\n",
       "    </tr>\n",
       "    <tr>\n",
       "      <th>71</th>\n",
       "      <td>Gambia</td>\n",
       "      <td>1561.767</td>\n",
       "      <td>2416664.0</td>\n",
       "    </tr>\n",
       "    <tr>\n",
       "      <th>176</th>\n",
       "      <td>South Sudan</td>\n",
       "      <td>1569.888</td>\n",
       "      <td>11193729.0</td>\n",
       "    </tr>\n",
       "    <tr>\n",
       "      <th>85</th>\n",
       "      <td>Haiti</td>\n",
       "      <td>1653.173</td>\n",
       "      <td>11402533.0</td>\n",
       "    </tr>\n",
       "    <tr>\n",
       "      <th>195</th>\n",
       "      <td>Uganda</td>\n",
       "      <td>1697.707</td>\n",
       "      <td>45741000.0</td>\n",
       "    </tr>\n",
       "    <tr>\n",
       "      <th>31</th>\n",
       "      <td>Burkina Faso</td>\n",
       "      <td>1703.102</td>\n",
       "      <td>20903278.0</td>\n",
       "    </tr>\n",
       "    <tr>\n",
       "      <th>63</th>\n",
       "      <td>Ethiopia</td>\n",
       "      <td>1729.927</td>\n",
       "      <td>114963583.0</td>\n",
       "    </tr>\n",
       "  </tbody>\n",
       "</table>\n",
       "</div>"
      ],
      "text/plain": [
       "                         location  gdp_per_capita   population\n",
       "38       Central African Republic         661.240    4829764.0\n",
       "32                        Burundi         702.225   11890781.0\n",
       "111                       Liberia         752.788    5057677.0\n",
       "52   Democratic Republic of Congo         808.133   89561404.0\n",
       "140                         Niger         926.000   24206636.0\n",
       "118                        Malawi        1095.042   19129955.0\n",
       "132                    Mozambique        1136.103   31255435.0\n",
       "168                  Sierra Leone        1390.300    7976985.0\n",
       "43                        Comoros        1413.890     869595.0\n",
       "117                    Madagascar        1416.440   27691019.0\n",
       "190                          Togo        1429.813    8278737.0\n",
       "207                         Yemen        1479.147   29825968.0\n",
       "61                        Eritrea        1510.459    3546427.0\n",
       "83                  Guinea-Bissau        1548.675    1967998.0\n",
       "71                         Gambia        1561.767    2416664.0\n",
       "176                   South Sudan        1569.888   11193729.0\n",
       "85                          Haiti        1653.173   11402533.0\n",
       "195                        Uganda        1697.707   45741000.0\n",
       "31                   Burkina Faso        1703.102   20903278.0\n",
       "63                       Ethiopia        1729.927  114963583.0"
      ]
     },
     "execution_count": 62,
     "metadata": {},
     "output_type": "execute_result"
    }
   ],
   "source": [
    "lowest_gdp = combined_df.sort_values(['gdp_per_capita'],ascending=True)[['location','gdp_per_capita','population']]\n",
    "lowest_gdp.head(20)"
   ]
  },
  {
   "cell_type": "code",
   "execution_count": 63,
   "id": "60661a3d",
   "metadata": {
    "execution": {
     "iopub.execute_input": "2022-07-25T02:25:52.917159Z",
     "iopub.status.busy": "2022-07-25T02:25:52.916455Z",
     "iopub.status.idle": "2022-07-25T02:25:52.931666Z",
     "shell.execute_reply": "2022-07-25T02:25:52.930852Z"
    },
    "executionInfo": {
     "elapsed": 12,
     "status": "ok",
     "timestamp": 1657057520772,
     "user": {
      "displayName": "Eslam Ahmed",
      "userId": "17441472531449229406"
     },
     "user_tz": -120
    },
    "id": "JE931xXvjK5C",
    "outputId": "2e637a79-f6ab-4a1e-fc2a-64ebcfd418d3",
    "papermill": {
     "duration": 0.04121,
     "end_time": "2022-07-25T02:25:52.933590",
     "exception": false,
     "start_time": "2022-07-25T02:25:52.892380",
     "status": "completed"
    },
    "tags": []
   },
   "outputs": [
    {
     "data": {
      "text/html": [
       "<div>\n",
       "<style scoped>\n",
       "    .dataframe tbody tr th:only-of-type {\n",
       "        vertical-align: middle;\n",
       "    }\n",
       "\n",
       "    .dataframe tbody tr th {\n",
       "        vertical-align: top;\n",
       "    }\n",
       "\n",
       "    .dataframe thead th {\n",
       "        text-align: right;\n",
       "    }\n",
       "</style>\n",
       "<table border=\"1\" class=\"dataframe\">\n",
       "  <thead>\n",
       "    <tr style=\"text-align: right;\">\n",
       "      <th></th>\n",
       "      <th>location</th>\n",
       "      <th>hospital_beds_per_thousand</th>\n",
       "      <th>population</th>\n",
       "    </tr>\n",
       "  </thead>\n",
       "  <tbody>\n",
       "    <tr>\n",
       "      <th>121</th>\n",
       "      <td>Mali</td>\n",
       "      <td>0.10</td>\n",
       "      <td>2.025083e+07</td>\n",
       "    </tr>\n",
       "    <tr>\n",
       "      <th>117</th>\n",
       "      <td>Madagascar</td>\n",
       "      <td>0.20</td>\n",
       "      <td>2.769102e+07</td>\n",
       "    </tr>\n",
       "    <tr>\n",
       "      <th>82</th>\n",
       "      <td>Guinea</td>\n",
       "      <td>0.30</td>\n",
       "      <td>1.313279e+07</td>\n",
       "    </tr>\n",
       "    <tr>\n",
       "      <th>63</th>\n",
       "      <td>Ethiopia</td>\n",
       "      <td>0.30</td>\n",
       "      <td>1.149636e+08</td>\n",
       "    </tr>\n",
       "    <tr>\n",
       "      <th>135</th>\n",
       "      <td>Nepal</td>\n",
       "      <td>0.30</td>\n",
       "      <td>2.913681e+07</td>\n",
       "    </tr>\n",
       "    <tr>\n",
       "      <th>140</th>\n",
       "      <td>Niger</td>\n",
       "      <td>0.30</td>\n",
       "      <td>2.420664e+07</td>\n",
       "    </tr>\n",
       "    <tr>\n",
       "      <th>31</th>\n",
       "      <td>Burkina Faso</td>\n",
       "      <td>0.40</td>\n",
       "      <td>2.090328e+07</td>\n",
       "    </tr>\n",
       "    <tr>\n",
       "      <th>0</th>\n",
       "      <td>Afghanistan</td>\n",
       "      <td>0.50</td>\n",
       "      <td>3.892834e+07</td>\n",
       "    </tr>\n",
       "    <tr>\n",
       "      <th>195</th>\n",
       "      <td>Uganda</td>\n",
       "      <td>0.50</td>\n",
       "      <td>4.574100e+07</td>\n",
       "    </tr>\n",
       "    <tr>\n",
       "      <th>20</th>\n",
       "      <td>Benin</td>\n",
       "      <td>0.50</td>\n",
       "      <td>1.212320e+07</td>\n",
       "    </tr>\n",
       "    <tr>\n",
       "      <th>90</th>\n",
       "      <td>India</td>\n",
       "      <td>0.53</td>\n",
       "      <td>1.380004e+09</td>\n",
       "    </tr>\n",
       "    <tr>\n",
       "      <th>145</th>\n",
       "      <td>Pakistan</td>\n",
       "      <td>0.60</td>\n",
       "      <td>2.208923e+08</td>\n",
       "    </tr>\n",
       "    <tr>\n",
       "      <th>80</th>\n",
       "      <td>Guatemala</td>\n",
       "      <td>0.60</td>\n",
       "      <td>1.791557e+07</td>\n",
       "    </tr>\n",
       "    <tr>\n",
       "      <th>190</th>\n",
       "      <td>Togo</td>\n",
       "      <td>0.70</td>\n",
       "      <td>8.278737e+06</td>\n",
       "    </tr>\n",
       "    <tr>\n",
       "      <th>207</th>\n",
       "      <td>Yemen</td>\n",
       "      <td>0.70</td>\n",
       "      <td>2.982597e+07</td>\n",
       "    </tr>\n",
       "    <tr>\n",
       "      <th>85</th>\n",
       "      <td>Haiti</td>\n",
       "      <td>0.70</td>\n",
       "      <td>1.140253e+07</td>\n",
       "    </tr>\n",
       "    <tr>\n",
       "      <th>86</th>\n",
       "      <td>Honduras</td>\n",
       "      <td>0.70</td>\n",
       "      <td>9.904608e+06</td>\n",
       "    </tr>\n",
       "    <tr>\n",
       "      <th>61</th>\n",
       "      <td>Eritrea</td>\n",
       "      <td>0.70</td>\n",
       "      <td>3.546427e+06</td>\n",
       "    </tr>\n",
       "    <tr>\n",
       "      <th>187</th>\n",
       "      <td>Tanzania</td>\n",
       "      <td>0.70</td>\n",
       "      <td>5.973421e+07</td>\n",
       "    </tr>\n",
       "    <tr>\n",
       "      <th>132</th>\n",
       "      <td>Mozambique</td>\n",
       "      <td>0.70</td>\n",
       "      <td>3.125544e+07</td>\n",
       "    </tr>\n",
       "  </tbody>\n",
       "</table>\n",
       "</div>"
      ],
      "text/plain": [
       "         location  hospital_beds_per_thousand    population\n",
       "121          Mali                        0.10  2.025083e+07\n",
       "117    Madagascar                        0.20  2.769102e+07\n",
       "82         Guinea                        0.30  1.313279e+07\n",
       "63       Ethiopia                        0.30  1.149636e+08\n",
       "135         Nepal                        0.30  2.913681e+07\n",
       "140         Niger                        0.30  2.420664e+07\n",
       "31   Burkina Faso                        0.40  2.090328e+07\n",
       "0     Afghanistan                        0.50  3.892834e+07\n",
       "195        Uganda                        0.50  4.574100e+07\n",
       "20          Benin                        0.50  1.212320e+07\n",
       "90          India                        0.53  1.380004e+09\n",
       "145      Pakistan                        0.60  2.208923e+08\n",
       "80      Guatemala                        0.60  1.791557e+07\n",
       "190          Togo                        0.70  8.278737e+06\n",
       "207         Yemen                        0.70  2.982597e+07\n",
       "85          Haiti                        0.70  1.140253e+07\n",
       "86       Honduras                        0.70  9.904608e+06\n",
       "61        Eritrea                        0.70  3.546427e+06\n",
       "187      Tanzania                        0.70  5.973421e+07\n",
       "132    Mozambique                        0.70  3.125544e+07"
      ]
     },
     "execution_count": 63,
     "metadata": {},
     "output_type": "execute_result"
    }
   ],
   "source": [
    "lowest_hospital_beds = combined_df.sort_values(['hospital_beds_per_thousand'],ascending=True)[['location','hospital_beds_per_thousand','population']]\n",
    "lowest_hospital_beds.head(20)"
   ]
  },
  {
   "cell_type": "code",
   "execution_count": 64,
   "id": "e3cd66da",
   "metadata": {
    "execution": {
     "iopub.execute_input": "2022-07-25T02:25:52.981628Z",
     "iopub.status.busy": "2022-07-25T02:25:52.981197Z",
     "iopub.status.idle": "2022-07-25T02:25:53.003557Z",
     "shell.execute_reply": "2022-07-25T02:25:53.002534Z"
    },
    "executionInfo": {
     "elapsed": 13,
     "status": "ok",
     "timestamp": 1657057520773,
     "user": {
      "displayName": "Eslam Ahmed",
      "userId": "17441472531449229406"
     },
     "user_tz": -120
    },
    "id": "5iQY5-cCjK5C",
    "outputId": "dc6b571b-f4a8-4656-fec1-0f5c7e1eeb08",
    "papermill": {
     "duration": 0.048862,
     "end_time": "2022-07-25T02:25:53.005613",
     "exception": false,
     "start_time": "2022-07-25T02:25:52.956751",
     "status": "completed"
    },
    "tags": []
   },
   "outputs": [
    {
     "data": {
      "text/html": [
       "<div>\n",
       "<style scoped>\n",
       "    .dataframe tbody tr th:only-of-type {\n",
       "        vertical-align: middle;\n",
       "    }\n",
       "\n",
       "    .dataframe tbody tr th {\n",
       "        vertical-align: top;\n",
       "    }\n",
       "\n",
       "    .dataframe thead th {\n",
       "        text-align: right;\n",
       "    }\n",
       "</style>\n",
       "<table border=\"1\" class=\"dataframe\">\n",
       "  <thead>\n",
       "    <tr style=\"text-align: right;\">\n",
       "      <th></th>\n",
       "      <th>location</th>\n",
       "      <th>gdp_per_capita</th>\n",
       "      <th>population_x</th>\n",
       "      <th>hospital_beds_per_thousand</th>\n",
       "      <th>population_y</th>\n",
       "    </tr>\n",
       "  </thead>\n",
       "  <tbody>\n",
       "    <tr>\n",
       "      <th>101</th>\n",
       "      <td>China</td>\n",
       "      <td>15308.712</td>\n",
       "      <td>1.439324e+09</td>\n",
       "      <td>4.34</td>\n",
       "      <td>1.439324e+09</td>\n",
       "    </tr>\n",
       "    <tr>\n",
       "      <th>58</th>\n",
       "      <td>India</td>\n",
       "      <td>6426.674</td>\n",
       "      <td>1.380004e+09</td>\n",
       "      <td>0.53</td>\n",
       "      <td>1.380004e+09</td>\n",
       "    </tr>\n",
       "    <tr>\n",
       "      <th>171</th>\n",
       "      <td>United States</td>\n",
       "      <td>54225.446</td>\n",
       "      <td>3.310026e+08</td>\n",
       "      <td>2.77</td>\n",
       "      <td>3.310026e+08</td>\n",
       "    </tr>\n",
       "    <tr>\n",
       "      <th>83</th>\n",
       "      <td>Indonesia</td>\n",
       "      <td>11188.744</td>\n",
       "      <td>2.735236e+08</td>\n",
       "      <td>1.04</td>\n",
       "      <td>2.735236e+08</td>\n",
       "    </tr>\n",
       "    <tr>\n",
       "      <th>48</th>\n",
       "      <td>Pakistan</td>\n",
       "      <td>5034.708</td>\n",
       "      <td>2.208923e+08</td>\n",
       "      <td>0.60</td>\n",
       "      <td>2.208923e+08</td>\n",
       "    </tr>\n",
       "    <tr>\n",
       "      <th>...</th>\n",
       "      <td>...</td>\n",
       "      <td>...</td>\n",
       "      <td>...</td>\n",
       "      <td>...</td>\n",
       "      <td>...</td>\n",
       "    </tr>\n",
       "    <tr>\n",
       "      <th>126</th>\n",
       "      <td>Greece</td>\n",
       "      <td>24574.382</td>\n",
       "      <td>1.042306e+07</td>\n",
       "      <td>4.21</td>\n",
       "      <td>1.042306e+07</td>\n",
       "    </tr>\n",
       "    <tr>\n",
       "      <th>70</th>\n",
       "      <td>Jordan</td>\n",
       "      <td>8337.490</td>\n",
       "      <td>1.020314e+07</td>\n",
       "      <td>1.40</td>\n",
       "      <td>1.020314e+07</td>\n",
       "    </tr>\n",
       "    <tr>\n",
       "      <th>136</th>\n",
       "      <td>Portugal</td>\n",
       "      <td>27936.896</td>\n",
       "      <td>1.019671e+07</td>\n",
       "      <td>3.39</td>\n",
       "      <td>1.019671e+07</td>\n",
       "    </tr>\n",
       "    <tr>\n",
       "      <th>105</th>\n",
       "      <td>Azerbaijan</td>\n",
       "      <td>15847.419</td>\n",
       "      <td>1.013918e+07</td>\n",
       "      <td>4.70</td>\n",
       "      <td>1.013918e+07</td>\n",
       "    </tr>\n",
       "    <tr>\n",
       "      <th>166</th>\n",
       "      <td>Sweden</td>\n",
       "      <td>46949.283</td>\n",
       "      <td>1.009927e+07</td>\n",
       "      <td>2.22</td>\n",
       "      <td>1.009927e+07</td>\n",
       "    </tr>\n",
       "  </tbody>\n",
       "</table>\n",
       "<p>86 rows × 5 columns</p>\n",
       "</div>"
      ],
      "text/plain": [
       "          location  gdp_per_capita  population_x  hospital_beds_per_thousand  \\\n",
       "101          China       15308.712  1.439324e+09                        4.34   \n",
       "58           India        6426.674  1.380004e+09                        0.53   \n",
       "171  United States       54225.446  3.310026e+08                        2.77   \n",
       "83       Indonesia       11188.744  2.735236e+08                        1.04   \n",
       "48        Pakistan        5034.708  2.208923e+08                        0.60   \n",
       "..             ...             ...           ...                         ...   \n",
       "126         Greece       24574.382  1.042306e+07                        4.21   \n",
       "70          Jordan        8337.490  1.020314e+07                        1.40   \n",
       "136       Portugal       27936.896  1.019671e+07                        3.39   \n",
       "105     Azerbaijan       15847.419  1.013918e+07                        4.70   \n",
       "166         Sweden       46949.283  1.009927e+07                        2.22   \n",
       "\n",
       "     population_y  \n",
       "101  1.439324e+09  \n",
       "58   1.380004e+09  \n",
       "171  3.310026e+08  \n",
       "83   2.735236e+08  \n",
       "48   2.208923e+08  \n",
       "..            ...  \n",
       "126  1.042306e+07  \n",
       "70   1.020314e+07  \n",
       "136  1.019671e+07  \n",
       "105  1.013918e+07  \n",
       "166  1.009927e+07  \n",
       "\n",
       "[86 rows x 5 columns]"
      ]
     },
     "execution_count": 64,
     "metadata": {},
     "output_type": "execute_result"
    }
   ],
   "source": [
    "last = lowest_gdp.merge(lowest_hospital_beds,on='location')\n",
    "last = last[last.gdp_per_capita.notnull()]\n",
    "last[last['population_x'] > 10000000].sort_values('population_y',ascending=False)"
   ]
  },
  {
   "cell_type": "code",
   "execution_count": 65,
   "id": "b8e5ccde",
   "metadata": {
    "execution": {
     "iopub.execute_input": "2022-07-25T02:25:53.053840Z",
     "iopub.status.busy": "2022-07-25T02:25:53.053130Z",
     "iopub.status.idle": "2022-07-25T02:25:53.057119Z",
     "shell.execute_reply": "2022-07-25T02:25:53.056248Z"
    },
    "executionInfo": {
     "elapsed": 12,
     "status": "ok",
     "timestamp": 1657057520773,
     "user": {
      "displayName": "Eslam Ahmed",
      "userId": "17441472531449229406"
     },
     "user_tz": -120
    },
    "id": "WU9Sb0_RjK5D",
    "papermill": {
     "duration": 0.03037,
     "end_time": "2022-07-25T02:25:53.059066",
     "exception": false,
     "start_time": "2022-07-25T02:25:53.028696",
     "status": "completed"
    },
    "tags": []
   },
   "outputs": [],
   "source": [
    "# import jovian"
   ]
  },
  {
   "cell_type": "code",
   "execution_count": 66,
   "id": "3a56ccda",
   "metadata": {
    "execution": {
     "iopub.execute_input": "2022-07-25T02:25:53.107145Z",
     "iopub.status.busy": "2022-07-25T02:25:53.106470Z",
     "iopub.status.idle": "2022-07-25T02:25:53.110293Z",
     "shell.execute_reply": "2022-07-25T02:25:53.109533Z"
    },
    "executionInfo": {
     "elapsed": 1499,
     "status": "ok",
     "timestamp": 1657057522260,
     "user": {
      "displayName": "Eslam Ahmed",
      "userId": "17441472531449229406"
     },
     "user_tz": -120
    },
    "id": "E_LcvHWzjK5D",
    "outputId": "3c3b8e90-870c-4726-ef84-d19cfa3d6329",
    "papermill": {
     "duration": 0.030245,
     "end_time": "2022-07-25T02:25:53.112281",
     "exception": false,
     "start_time": "2022-07-25T02:25:53.082036",
     "status": "completed"
    },
    "tags": []
   },
   "outputs": [],
   "source": [
    "# jovian.commit(project='pandas-practice-assignment', environment=None)"
   ]
  },
  {
   "cell_type": "markdown",
   "id": "8c539d43",
   "metadata": {
    "id": "TonbQJZZjK5D",
    "papermill": {
     "duration": 0.02265,
     "end_time": "2022-07-25T02:25:53.158026",
     "exception": false,
     "start_time": "2022-07-25T02:25:53.135376",
     "status": "completed"
    },
    "tags": []
   },
   "source": [
    "## Submission \n",
    "\n",
    "Congratulations on making it this far! You've reached the end of this assignment, and you just completed your first real-world data analysis problem. It's time to record one final version of your notebook for submission.\n",
    "\n",
    "Make a submission here by filling the submission form: https://jovian.ai/learn/data-analysis-with-python-zero-to-pandas/assignment/assignment-3-pandas-practice\n",
    "\n",
    "Also make sure to help others on the forum: https://jovian.ai/forum/t/assignment-3-pandas-practice/11225/2"
   ]
  },
  {
   "cell_type": "code",
   "execution_count": 67,
   "id": "82d4bb56",
   "metadata": {
    "execution": {
     "iopub.execute_input": "2022-07-25T02:25:53.206185Z",
     "iopub.status.busy": "2022-07-25T02:25:53.205463Z",
     "iopub.status.idle": "2022-07-25T02:25:53.209616Z",
     "shell.execute_reply": "2022-07-25T02:25:53.208516Z"
    },
    "executionInfo": {
     "elapsed": 2065,
     "status": "ok",
     "timestamp": 1657057524318,
     "user": {
      "displayName": "Eslam Ahmed",
      "userId": "17441472531449229406"
     },
     "user_tz": -120
    },
    "id": "0AZayz--jK5D",
    "outputId": "4e18a7ff-a049-4132-caf2-1a28998caf47",
    "papermill": {
     "duration": 0.030655,
     "end_time": "2022-07-25T02:25:53.211678",
     "exception": false,
     "start_time": "2022-07-25T02:25:53.181023",
     "status": "completed"
    },
    "tags": []
   },
   "outputs": [],
   "source": [
    "# jovian.commit(project='pandas-practice-assignment', environment=None)"
   ]
  }
 ],
 "metadata": {
  "kernelspec": {
   "display_name": "Python 3",
   "language": "python",
   "name": "python3"
  },
  "language_info": {
   "codemirror_mode": {
    "name": "ipython",
    "version": 3
   },
   "file_extension": ".py",
   "mimetype": "text/x-python",
   "name": "python",
   "nbconvert_exporter": "python",
   "pygments_lexer": "ipython3",
   "version": "3.7.12"
  },
  "papermill": {
   "default_parameters": {},
   "duration": 26.624088,
   "end_time": "2022-07-25T02:25:53.956127",
   "environment_variables": {},
   "exception": null,
   "input_path": "__notebook__.ipynb",
   "output_path": "__notebook__.ipynb",
   "parameters": {},
   "start_time": "2022-07-25T02:25:27.332039",
   "version": "2.3.4"
  }
 },
 "nbformat": 4,
 "nbformat_minor": 5
}
